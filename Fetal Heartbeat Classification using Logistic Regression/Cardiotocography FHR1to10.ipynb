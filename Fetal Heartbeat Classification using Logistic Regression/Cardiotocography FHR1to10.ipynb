{
 "cells": [
  {
   "cell_type": "markdown",
   "metadata": {},
   "source": [
    "### Multiclass Logistic Regression on Cardiotocography dataset for FHR pattern Class code 1 to 10"
   ]
  },
  {
   "cell_type": "code",
   "execution_count": 23,
   "metadata": {},
   "outputs": [],
   "source": [
    "import numpy as np\n",
    "import matplotlib.pyplot as plt\n",
    "import pandas as pd"
   ]
  },
  {
   "cell_type": "code",
   "execution_count": 24,
   "metadata": {},
   "outputs": [],
   "source": [
    "data = pd.read_excel(\"CTG.xls\",\"Raw Data\")\n",
    "data = data[1:-3]"
   ]
  },
  {
   "cell_type": "code",
   "execution_count": 25,
   "metadata": {},
   "outputs": [],
   "source": [
    "# Dividing dataset into train and test set 75% data into training set, rest into test set\n",
    "ind = np.random.rand(len(data)) < 0.75\n",
    "train = data[ind]\n",
    "test = data[~ind]"
   ]
  },
  {
   "cell_type": "code",
   "execution_count": 26,
   "metadata": {},
   "outputs": [
    {
     "name": "stdout",
     "output_type": "stream",
     "text": [
      "Size of training set is 1645\n"
     ]
    }
   ],
   "source": [
    "# Train set   also the classes are available in one hot form already in dataset(Given in Description sheet of dataset)\n",
    "X = train[['LBE','LB','AC','FM','UC','ASTV','MSTV','ALTV','MLTV','DL','DS','DP','Width','Min','Max','Nmax','Nzeros','Mode','Mean','Median','Variance','Tendency']]\n",
    "Y = train[['A','B','C','D','E','AD','DE','LD','FS','SUSP']]\n",
    "Y_class = Y.to_numpy()\n",
    "X = X.to_numpy()\n",
    "print(\"Size of training set is\",len(X))"
   ]
  },
  {
   "cell_type": "code",
   "execution_count": 27,
   "metadata": {},
   "outputs": [
    {
     "name": "stdout",
     "output_type": "stream",
     "text": [
      "Size of test set is 481\n"
     ]
    }
   ],
   "source": [
    "# Test set\n",
    "Xt = test[['LBE','LB','AC','FM','UC','ASTV','MSTV','ALTV','MLTV','DL','DS','DP','Width','Min','Max','Nmax','Nzeros','Mode','Mean','Median','Variance','Tendency']]\n",
    "Yt = test[['A','B','C','D','E','AD','DE','LD','FS','SUSP']]\n",
    "Yt_class = Yt.to_numpy()\n",
    "Xt = Xt.to_numpy()\n",
    "print(\"Size of test set is\",len(Yt_class))"
   ]
  },
  {
   "cell_type": "code",
   "execution_count": 28,
   "metadata": {},
   "outputs": [],
   "source": [
    "# Adding ones column on training set data\n",
    "ones = np.asmatrix(np.ones(len(X))).T\n",
    "X = np.hstack((ones,X))\n",
    "N = len(X)"
   ]
  },
  {
   "cell_type": "code",
   "execution_count": 29,
   "metadata": {},
   "outputs": [],
   "source": [
    "# Standardization of training set\n",
    "for i in range(1,23):\n",
    "    X[:,i] = (X[:,i] - np.mean(X[:,i]))/np.std(X[:,i])"
   ]
  },
  {
   "cell_type": "code",
   "execution_count": 30,
   "metadata": {},
   "outputs": [],
   "source": [
    "# function to calculate (W*X)\n",
    "def W_x_X(X, W):\n",
    "    return (X.dot(W))"
   ]
  },
  {
   "cell_type": "code",
   "execution_count": 31,
   "metadata": {},
   "outputs": [],
   "source": [
    "# Softmax function, substracted by max to remove nan values\n",
    "def softmax(a):\n",
    "    a_max = np.max(a, axis=-1)\n",
    "    exp_a = np.exp(a - a_max)\n",
    "    return exp_a / np.sum(exp_a, axis=-1)"
   ]
  },
  {
   "cell_type": "code",
   "execution_count": 32,
   "metadata": {},
   "outputs": [],
   "source": [
    "# For labelling on predicton, gives one to maximum probability column\n",
    "def classlabel(z):\n",
    "    return z.argmax(axis=1)"
   ]
  },
  {
   "cell_type": "code",
   "execution_count": 33,
   "metadata": {},
   "outputs": [],
   "source": [
    "# Cross Entropy Function\n",
    "def crossEntropy(y_pred, y):\n",
    "    return - np.sum(np.multiply(np.log(y_pred),(y)),axis=0)"
   ]
  },
  {
   "cell_type": "code",
   "execution_count": 34,
   "metadata": {},
   "outputs": [],
   "source": [
    "# Calculates Cost\n",
    "def cost(y_pred,y):\n",
    "    return np.mean(crossEntropy(y_pred,y))"
   ]
  },
  {
   "cell_type": "code",
   "execution_count": 35,
   "metadata": {},
   "outputs": [],
   "source": [
    "# Calculates Gradient of Cost\n",
    "def gradCost(y_pred,y,X):\n",
    "    return X.T @ (y_pred - y)"
   ]
  },
  {
   "cell_type": "code",
   "execution_count": 36,
   "metadata": {},
   "outputs": [],
   "source": [
    "# Initializing Weight Matrix of size (p,k)   where p = number of features and k = number of classes\n",
    "#W = np.random.random(size=(23,10))\n",
    "W = np.random.randint(-10,10,size=(23,10))\n",
    "#W = np.zeros((23,10))"
   ]
  },
  {
   "cell_type": "code",
   "execution_count": 37,
   "metadata": {},
   "outputs": [],
   "source": [
    "inp = W_x_X(X,W)\n",
    "y_pred = softmax(inp)\n",
    "crossentropy = crossEntropy(y_pred,Y_class)\n",
    "J = cost(y_pred,Y_class)\n",
    "grad = gradCost(y_pred,Y_class,X)\n",
    "W = W - 0.01*(grad)"
   ]
  },
  {
   "cell_type": "code",
   "execution_count": 38,
   "metadata": {},
   "outputs": [
    {
     "name": "stdout",
     "output_type": "stream",
     "text": [
      "The weights after Gradient Descent are \n",
      "\n",
      " [[ 4.41983983e+00  2.14735002e+01 -1.84647975e+00 -1.66415453e+00\n",
      "   2.05711273e+00  2.46231121e+01  1.05876552e+01 -1.10614255e+01\n",
      "  -2.69354225e+01 -2.56537377e+01]\n",
      " [-2.48924909e+00 -6.35684846e+00 -3.01489810e+00 -9.95023106e+00\n",
      "  -9.43695772e+00 -7.77226297e-01  4.90855315e+00  6.49950463e+00\n",
      "   3.43410864e+00  3.18324429e+00]\n",
      " [ 3.51075091e+00  3.64315154e+00  6.98510190e+00 -4.95023106e+00\n",
      "  -4.43695772e+00 -1.77722630e+00 -3.09144685e+00  1.49950463e+00\n",
      "   7.43410864e+00  7.18324429e+00]\n",
      " [-5.99766110e+00  1.12192434e+01 -9.02270810e+00  1.22362325e+01\n",
      "  -9.64379025e+00  1.02119325e+01 -1.55474692e+01  3.17666542e-01\n",
      "   8.84829685e+00 -6.62174312e+00]\n",
      " [-2.66024078e+00 -1.21718161e+00  2.73327776e+00  1.67977245e+00\n",
      "   3.49188752e+00 -1.30365858e+00 -1.62372714e+00 -4.27743198e-01\n",
      "  -4.94198309e+00  5.26959667e+00]\n",
      " [ 1.41763362e+00  1.48999086e-01 -2.82884359e-01  7.73615000e-02\n",
      "   4.69620415e-02  1.81321104e-01 -3.65065832e-01 -7.80105554e-01\n",
      "  -8.17939541e+00 -5.26482620e+00]\n",
      " [-4.35516487e+00 -1.98833506e+00 -4.53809429e+00 -3.85039384e+00\n",
      "   1.20496619e+00 -3.61492478e+00 -5.51858451e+00 -7.31497752e-01\n",
      "   1.81564111e+01  4.23561776e+00]\n",
      " [-3.34304495e+00 -1.64374801e+00 -2.58400173e+00 -1.81814134e+00\n",
      "  -5.26533355e+00 -1.31656458e+00 -3.54717365e+00 -4.44200671e+00\n",
      "   2.66373189e+00 -2.27037174e+01]\n",
      " [ 9.94537789e-01  9.26466774e-01 -2.14682206e+00 -9.00467825e-01\n",
      "   1.61008635e+00 -8.08365447e-01  1.65703771e+00  1.87853057e+00\n",
      "   1.10103805e+01  5.77861562e+00]\n",
      " [-3.35069483e+00 -3.93323550e+00 -4.98038584e-01 -5.63017953e+00\n",
      "  -2.95970742e+00 -4.68878743e+00 -4.25992129e+00  1.89521143e-01\n",
      "  -2.98137895e+00  2.11242240e+00]\n",
      " [-3.03978110e-01 -2.77744502e+00  1.21303430e+00 -1.49961455e+01\n",
      "  -1.12927433e+00  5.94509922e+00  6.47657733e+00  6.69222764e+00\n",
      "  -8.12304750e-02  4.96113494e+00]\n",
      " [-1.07009952e+00 -3.35640599e+00  2.81245040e+00  3.73214134e+00\n",
      "  -3.59527690e+00 -1.46253540e+00 -1.04239848e+01  6.81709694e-01\n",
      "   5.27326043e-01  3.15467514e+00]\n",
      " [-2.72441062e+00 -9.61476906e+00 -6.53937640e+00 -5.70558307e-03\n",
      "  -1.13056533e+01  5.84331365e+00  6.58167282e+00  9.05939993e+00\n",
      "   1.42589734e+01 -2.55344485e+00]\n",
      " [-3.45822317e+00 -7.63072945e+00 -2.12229096e+00 -2.46287467e+00\n",
      "  -3.39823591e+00 -5.09901100e+00  6.56602626e+00 -2.37417197e+00\n",
      "   7.36641849e+00 -1.38690762e+00]\n",
      " [-8.02073560e+00 -5.03368766e+00 -4.61733268e-01 -1.60220946e-01\n",
      "  -5.25465268e+00 -4.97468606e+00  2.44301325e+00 -6.03768619e+00\n",
      "  -2.60976001e+00 -2.88985084e+00]\n",
      " [ 8.20125693e-01  4.38705570e+00 -4.01149005e-01  3.40318223e+00\n",
      "   8.78054370e-01  3.43851218e+00 -2.13703291e+00  3.87474461e+00\n",
      "  -5.83460402e+00  5.71111152e-01]\n",
      " [-2.13386175e+00 -1.95693755e+00  1.40348556e+00 -2.38758838e+00\n",
      "   4.95090727e-01 -2.09564726e+00 -1.96267897e+00 -3.58318368e+00\n",
      "  -1.10950832e+01 -1.68359552e+00]\n",
      " [ 3.32209545e+00  2.43150965e+00  3.09184542e+00  1.48344822e+00\n",
      "   2.22899980e+00  2.80523094e+00  3.32742949e+00  2.61052715e+00\n",
      "  -3.05540776e+00 -1.24567835e+00]\n",
      " [-2.06039000e+00 -5.18975408e+00 -4.08782440e+00 -4.36018027e+00\n",
      "   6.92504595e-01 -1.46343288e+00  3.22210491e-01  3.77248928e+00\n",
      "  -7.44960157e+00  6.82397885e+00]\n",
      " [-1.34926642e+01 -6.21631799e-02 -8.70264493e+00  4.56144778e+00\n",
      "   7.09805158e+00 -1.87623002e-01 -2.76805734e+00 -1.28896910e+01\n",
      "   6.69224405e+00 -1.82488997e+01]\n",
      " [ 6.45149588e+00  4.17212118e+00  2.01938214e+00  1.48130834e+01\n",
      "   1.23224978e+01 -1.74025837e+00 -5.64806887e+00 -1.91690376e+01\n",
      "  -8.46986446e+00  2.24864890e+00]\n",
      " [-1.90730005e+01  8.03526489e+00 -1.36552243e+01  1.07339981e+01\n",
      "   4.83038667e+00  8.83331997e+00  8.94066890e+00  1.31785319e+01\n",
      "   3.52369659e+00 -2.63476422e+01]\n",
      " [-1.05391839e+00  1.69314145e+00  2.57988828e-01  2.85408999e+00\n",
      "  -6.08601475e-01  2.23855688e+00  2.35995358e+00  3.72823434e+00\n",
      "  -3.59328978e+00  1.12384458e+00]]\n"
     ]
    }
   ],
   "source": [
    "# Applying Gradient Descent \n",
    "iterations = 2500\n",
    "alpha = 0.01\n",
    "Jj = []\n",
    "for i in range(iterations):\n",
    "    inp = W_x_X(X,W)\n",
    "    y_pred = softmax(inp)\n",
    "    #print(y_pred,\"\\n\\n\\n\")\n",
    "    crossentropy = crossEntropy(y_pred,Y_class)\n",
    "    J = cost(y_pred,Y_class)\n",
    "    Jj.append(J)\n",
    "    grad = gradCost(y_pred,Y_class,X)\n",
    "    W = W - alpha*(grad)\n",
    "    #print(W,\"\\n\\n\\n\")\n",
    "print(\"The weights after Gradient Descent are \\n\\n\",W)"
   ]
  },
  {
   "cell_type": "code",
   "execution_count": 39,
   "metadata": {},
   "outputs": [
    {
     "data": {
      "image/png": "[encoded data removed]",
      "text/plain": [
       "<Figure size 432x288 with 1 Axes>"
      ]
     },
     "metadata": {
      "needs_background": "light"
     },
     "output_type": "display_data"
    }
   ],
   "source": [
    "# Plotting cost\n",
    "plt.plot(Jj)\n",
    "plt.xlabel(\"Iterations\")\n",
    "plt.ylabel(\"Cost\")\n",
    "plt.show()"
   ]
  },
  {
   "cell_type": "code",
   "execution_count": 40,
   "metadata": {},
   "outputs": [],
   "source": [
    "# Getting labels of Given dataset between 0-9\n",
    "label_train = classlabel(Y_class)\n",
    "# Getting labels of result from Logistic Regression\n",
    "label_pred = classlabel(y_pred)"
   ]
  },
  {
   "cell_type": "code",
   "execution_count": 41,
   "metadata": {},
   "outputs": [
    {
     "name": "stdout",
     "output_type": "stream",
     "text": [
      "Total  278  out of  1645 are misclassified giving accuracy of 83.10030395136778  on training set\n"
     ]
    }
   ],
   "source": [
    "# Calculating misclassifications on Training set\n",
    "count = 0\n",
    "for i in range(len(label_train)):\n",
    "    if label_pred[i,0]!=label_train[i]:\n",
    "        count = count + 1\n",
    "        #print(i,\"\\t\",y_pred_classes[i],\"\\t\",Y_class[i])\n",
    "print(\"Total \",count,\" out of \",len(X),\"are misclassified giving accuracy of\",100*((len(X)-count)/len(X)),\" on training set\")"
   ]
  },
  {
   "cell_type": "code",
   "execution_count": 42,
   "metadata": {},
   "outputs": [],
   "source": [
    "# Calculations on test set\n",
    "# adding ones column\n",
    "ones = np.asmatrix(np.ones(len(Xt))).T\n",
    "Xt = np.hstack((ones,Xt))\n",
    "\n",
    "# Standardization of test set\n",
    "for i in range(1,23):\n",
    "    Xt[:,i] = (Xt[:,i] - np.mean(Xt[:,i]))/np.std(Xt[:,i])\n",
    "\n",
    "\n",
    "inpt = W_x_X(Xt,W)\n",
    "y_pred_t = softmax(inpt)"
   ]
  },
  {
   "cell_type": "code",
   "execution_count": 43,
   "metadata": {},
   "outputs": [],
   "source": [
    "# Getting labels of Given dataset between 0-9\n",
    "label_test = classlabel(Yt_class)\n",
    "# Getting labels of result from Logistic Regression\n",
    "label_pred_test = classlabel(y_pred_t)"
   ]
  },
  {
   "cell_type": "code",
   "execution_count": 44,
   "metadata": {},
   "outputs": [
    {
     "name": "stdout",
     "output_type": "stream",
     "text": [
      "Total  120  out of  481 are misclassified giving accuracy of 75.05197505197505  on test set\n"
     ]
    }
   ],
   "source": [
    "# Calculating misclassifications on Training set\n",
    "count_t = 0\n",
    "for i in range(len(label_test)):\n",
    "    if label_pred_test[i,0]!=label_test[i]:\n",
    "        count_t = count_t + 1\n",
    "        #print(i,\"\\t\",y_pred_classes[i],\"\\t\",Y_class[i])\n",
    "print(\"Total \",count_t,\" out of \",len(Xt),\"are misclassified giving accuracy of\",100*((len(Xt)-count_t)/len(Xt)),\" on test set\")"
   ]
  }
 ],
 "metadata": {
  "kernelspec": {
   "display_name": "Python 3",
   "language": "python",
   "name": "python3"
  },
  "language_info": {
   "codemirror_mode": {
    "name": "ipython",
    "version": 3
   },
   "file_extension": ".py",
   "mimetype": "text/x-python",
   "name": "python",
   "nbconvert_exporter": "python",
   "pygments_lexer": "ipython3",
   "version": "3.8.5"
  }
 },
 "nbformat": 4,
 "nbformat_minor": 2
}
