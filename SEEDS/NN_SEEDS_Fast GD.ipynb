{
 "cells": [
  {
   "cell_type": "markdown",
   "metadata": {},
   "source": [
    "# Feedforward Neural Network on SEEDS DATASET\n",
    "### Various Optimizers"
   ]
  },
  {
   "cell_type": "markdown",
   "metadata": {},
   "source": [
    "## Momentum based GD"
   ]
  },
  {
   "cell_type": "code",
   "execution_count": 1,
   "metadata": {},
   "outputs": [],
   "source": [
    "import numpy as np\n",
    "import matplotlib.pyplot as plt\n",
    "import pandas as pd\n",
    "from tqdm import tqdm"
   ]
  },
  {
   "cell_type": "code",
   "execution_count": 2,
   "metadata": {},
   "outputs": [
    {
     "name": "stdout",
     "output_type": "stream",
     "text": [
      "Original Dataset shape  (210, 8)\n",
      "Each Datapoint contains  7 features and belong to either of  3 class.\n"
     ]
    }
   ],
   "source": [
    "# Loading dataset, splitting into training and test set\n",
    "dataset = np.loadtxt(\"seeds_dataset.txt\")\n",
    "np.random.shuffle(dataset)\n",
    "len_dataset = dataset.shape[0]\n",
    "\n",
    "train = dataset[:int(0.75*len_dataset),:]\n",
    "test = dataset[int(0.75*len_dataset):,:]\n",
    "\n",
    "X = train[:,:-1]\n",
    "Y = train[:,-1]\n",
    "Y = pd.get_dummies(Y)\n",
    "Y = Y.to_numpy()\n",
    "N,p = X.shape\n",
    "out_neurons = Y.shape[1]\n",
    "\n",
    "Xt = test[:,:-1]\n",
    "Yt = test[:,-1]\n",
    "Yt = pd.get_dummies(Yt)\n",
    "Yt = Yt.to_numpy()\n",
    "Nt,pt = Xt.shape\n",
    "\n",
    "print(\"Original Dataset shape \",dataset.shape)\n",
    "#print(\"Training set shape \",N,p)\n",
    "#print(\"Test set shape \",Nt,pt)\n",
    "\n",
    "print(\"Each Datapoint contains \",p,\"features and belong to either of \",out_neurons,\"class.\")"
   ]
  },
  {
   "cell_type": "code",
   "execution_count": 3,
   "metadata": {},
   "outputs": [],
   "source": [
    "# Standardization of dataset\n",
    "# Store mean and std in a dictionary to use again for test set\n",
    "mean_and_std = {}\n",
    "for i in range(p):\n",
    "    mean_and_std[\"mean\"+str(i)] = np.mean(X[:,i])\n",
    "    mean_and_std[\"std\"+str(i)] = np.std(X[:,i])\n",
    "# Now standardizing the training set\n",
    "for i in range(p):\n",
    "    X[:,i] = (X[:,i] - mean_and_std[\"mean\"+str(i)])/mean_and_std[\"std\"+str(i)]"
   ]
  },
  {
   "cell_type": "code",
   "execution_count": 4,
   "metadata": {},
   "outputs": [],
   "source": [
    "def sigmoid(x):\n",
    "    return ((1)/(1+np.exp(-x)))\n",
    "\n",
    "def sigmoid_derivative(x):\n",
    "    result = np.multiply(sigmoid(x) , (1-sigmoid(x)))\n",
    "    return(result)"
   ]
  },
  {
   "cell_type": "code",
   "execution_count": 5,
   "metadata": {},
   "outputs": [],
   "source": [
    "def softmax(x):\n",
    "    num = np.exp(x)\n",
    "    den = np.sum(num,axis = 0,keepdims = True)\n",
    "    return (num / den)"
   ]
  },
  {
   "cell_type": "code",
   "execution_count": 6,
   "metadata": {},
   "outputs": [],
   "source": [
    "def compute_cost(h,Y):\n",
    "    N = Y.shape[0]\n",
    "    logprobs = np.multiply(Y,np.log(h)) + np.multiply(1-Y,np.log(1-h))\n",
    "    cost = (-1/N)*np.sum(logprobs)\n",
    "    \n",
    "    cost = float(np.squeeze(cost))  # return [[17]] as 17\n",
    "    return cost"
   ]
  },
  {
   "cell_type": "code",
   "execution_count": 7,
   "metadata": {},
   "outputs": [],
   "source": [
    "# Neural Network Model parameters initialization function, parameters to be saved in a dictionary\n",
    "def parameter_init(layers):\n",
    "    parameters = {}\n",
    "    for i in range(1,len(layers)):\n",
    "        parameters[\"W\"+str(i)] = 0.01*np.random.randn(layers[i],layers[i-1])\n",
    "        parameters[\"b\"+str(i)] = np.zeros((layers[i],1))\n",
    "    return (parameters)"
   ]
  },
  {
   "cell_type": "code",
   "execution_count": 8,
   "metadata": {},
   "outputs": [
    {
     "name": "stdout",
     "output_type": "stream",
     "text": [
      "The Structure of this neural network is  [7, 12, 8, 3]\n"
     ]
    }
   ],
   "source": [
    "# Structure of Neural network, saved into a list to modify easily\n",
    "structure = [p,12,8,out_neurons]\n",
    "print(\"The Structure of this neural network is \",structure)\n",
    "\n",
    "# Initialize parameters\n",
    "parameters = parameter_init(structure)"
   ]
  },
  {
   "cell_type": "code",
   "execution_count": 9,
   "metadata": {},
   "outputs": [],
   "source": [
    "# Initializing the \"updates\" for momentum\n",
    "# update_t = (gamma*update_t-1) + (learningRate*gradient(parameter))\n",
    "# update rule:  W = W -update_t\n",
    "# making a dictionary same as parameter_init()\n",
    "\n",
    "def update_init(layers):\n",
    "    updates = {}\n",
    "    for i in range(1,len(layers)):\n",
    "        updates[\"updateW\"+str(i)] = np.zeros((layers[i],layers[i-1]))\n",
    "        updates[\"updateb\"+str(i)] = np.zeros((layers[i],1))\n",
    "    return (updates)\n",
    "# Initialize updates\n",
    "updates = update_init(structure)\n",
    "\n",
    "# define gamma\n",
    "gamma = 0.9"
   ]
  },
  {
   "cell_type": "code",
   "execution_count": 10,
   "metadata": {},
   "outputs": [
    {
     "name": "stderr",
     "output_type": "stream",
     "text": [
      "100%|██████████| 4000/4000 [00:03<00:00, 1320.67it/s]\n"
     ]
    },
    {
     "name": "stdout",
     "output_type": "stream",
     "text": [
      "Training Cost 0.004844686842240702\n"
     ]
    },
    {
     "data": {
      "image/png": "[encoded data removed]",
      "text/plain": [
       "<Figure size 432x288 with 1 Axes>"
      ]
     },
     "metadata": {
      "needs_background": "light"
     },
     "output_type": "display_data"
    }
   ],
   "source": [
    "# Implementation of Network using Gradient Descent\n",
    "epochs = 4000\n",
    "alpha = 0.1\n",
    "costs = []\n",
    "for num in tqdm(range(epochs)):\n",
    "    #Forward Propogation\n",
    "    a1 = np.dot(parameters[\"W1\"],X.T) + parameters[\"b1\"]\n",
    "    h1 = sigmoid(a1)\n",
    "    a2 = np.dot(parameters[\"W2\"],h1) + parameters[\"b2\"]\n",
    "    h2 = sigmoid(a2)\n",
    "    a3 = np.dot(parameters[\"W3\"],h2) + parameters[\"b3\"]\n",
    "    h3 = softmax(a3)\n",
    "    # Gradients for Backpropogation\n",
    "    \n",
    "    dL_da3 = -( Y.T - h3)\n",
    "    dL_dW3 = (1/N)*np.dot(dL_da3 , h2.T)\n",
    "    dL_db3 = (1/N)*(np.sum(dL_da3,axis=1,keepdims = True))\n",
    "    \n",
    "    dL_dh2 = np.dot(parameters[\"W3\"].T , dL_da3)\n",
    "    dL_da2 = np.multiply(dL_dh2,sigmoid_derivative(a2))\n",
    "    dL_dW2 = (1/N)*np.dot(dL_da2 , h1.T)\n",
    "    dL_db2 = (1/N)*(np.sum(dL_da2,axis=1,keepdims = True))\n",
    "    \n",
    "    dL_dh1 = np.dot(parameters[\"W2\"].T , dL_da2)\n",
    "    dL_da1 = np.multiply(dL_dh1,sigmoid_derivative(a1))\n",
    "    dL_dW1 = (1/N)*np.dot(dL_da1 , X)\n",
    "    dL_db1 = (1/N)*(np.sum(dL_da1,axis = 1,keepdims = True))\n",
    "    \n",
    "    # GD Updates using momentum\n",
    "    updates[\"updateW3\"] = (gamma* updates[\"updateW3\"]) + (alpha*dL_dW3)\n",
    "    parameters[\"W3\"] = parameters[\"W3\"] - updates[\"updateW3\"]\n",
    "    updates[\"updateb3\"] = (gamma* updates[\"updateb3\"]) + (alpha*dL_db3)\n",
    "    parameters[\"b3\"] = parameters[\"b3\"] - updates[\"updateb3\"]\n",
    "    \n",
    "    updates[\"updateW2\"] = (gamma* updates[\"updateW2\"]) + (alpha*dL_dW2)\n",
    "    parameters[\"W2\"] = parameters[\"W2\"] - updates[\"updateW2\"]\n",
    "    updates[\"updateb2\"] = (gamma* updates[\"updateb2\"]) + (alpha*dL_db2)\n",
    "    parameters[\"b2\"] = parameters[\"b2\"] - updates[\"updateb2\"]\n",
    "    \n",
    "    updates[\"updateW1\"] = (gamma* updates[\"updateW1\"]) + (alpha*dL_dW1)\n",
    "    parameters[\"W1\"] = parameters[\"W1\"] - updates[\"updateW1\"]\n",
    "    updates[\"updateb1\"] = (gamma* updates[\"updateb1\"]) + (alpha*dL_db1)\n",
    "    parameters[\"b1\"] = parameters[\"b1\"] - updates[\"updateb1\"]\n",
    "    \n",
    "    costs.append(compute_cost(h3.T,Y))\n",
    "\n",
    "print(\"Training Cost\",costs[-1])\n",
    "plt.plot(costs,label = \"Training\")\n",
    "plt.legend()\n",
    "plt.show()"
   ]
  },
  {
   "cell_type": "code",
   "execution_count": 11,
   "metadata": {},
   "outputs": [
    {
     "name": "stdout",
     "output_type": "stream",
     "text": [
      "Y= [1 0 0] \t\n",
      "y= [9.99916268e-01 8.06622123e-05 3.06958307e-06]\n"
     ]
    }
   ],
   "source": [
    "# Prediction\n",
    "k=72\n",
    "print(\"Y=\",Y[k],\"\\t\\ny=\",h3.T[k])"
   ]
  },
  {
   "cell_type": "code",
   "execution_count": 12,
   "metadata": {},
   "outputs": [
    {
     "name": "stdout",
     "output_type": "stream",
     "text": [
      "Cost of test set 0.12207077514477618\n"
     ]
    }
   ],
   "source": [
    "# Prediction on test set\n",
    "\n",
    "# Standardizing the test set\n",
    "for i in range(p):\n",
    "    Xt[:,i] = (Xt[:,i] - mean_and_std[\"mean\"+str(i)])/mean_and_std[\"std\"+str(i)]\n",
    "\n",
    "\n",
    "#Forward Propogation\n",
    "a1t = np.dot(parameters[\"W1\"],Xt.T) + parameters[\"b1\"]\n",
    "h1t = sigmoid(a1t)\n",
    "a2t = np.dot(parameters[\"W2\"],h1t) + parameters[\"b2\"]\n",
    "h2t = sigmoid(a2t)\n",
    "a3t = np.dot(parameters[\"W3\"],h2t) + parameters[\"b3\"]\n",
    "h3t = softmax(a3t)\n",
    "print(\"Cost of test set\",compute_cost(h3t.T,Yt))"
   ]
  },
  {
   "cell_type": "code",
   "execution_count": 13,
   "metadata": {},
   "outputs": [
    {
     "name": "stdout",
     "output_type": "stream",
     "text": [
      "The number of datapoints in test set wrongly labeled by the NN is/are  2 out of total  53 datapoints\n"
     ]
    }
   ],
   "source": [
    "# Converting Predictions into lables\n",
    "y_pred = np.asmatrix(np.argmax(h3t.T,axis = 1)).T\n",
    "\n",
    "# Checking number of mislables in test set\n",
    "mislabel_index = []\n",
    "YYYY= np.asmatrix(np.argmax(Yt,axis=1)).T\n",
    "count = 0\n",
    "for i in range(len(YYYY)):\n",
    "    if y_pred[i] != YYYY[i]:\n",
    "        mislabel_index.append(i)\n",
    "        count = count+1\n",
    "print(\"The number of datapoints in test set wrongly labeled by the NN is/are \",count,\"out of total \",Nt,\"datapoints\")"
   ]
  },
  {
   "cell_type": "markdown",
   "metadata": {},
   "source": [
    "### Nesterov Momentum"
   ]
  },
  {
   "cell_type": "code",
   "execution_count": 14,
   "metadata": {},
   "outputs": [],
   "source": [
    "import numpy as np\n",
    "import matplotlib.pyplot as plt\n",
    "import pandas as pd\n",
    "from tqdm import tqdm"
   ]
  },
  {
   "cell_type": "code",
   "execution_count": 15,
   "metadata": {},
   "outputs": [
    {
     "name": "stdout",
     "output_type": "stream",
     "text": [
      "Original Dataset shape  (210, 8)\n",
      "Each Datapoint contains  7 features and belong to either of  3 class.\n"
     ]
    }
   ],
   "source": [
    "# Loading dataset, splitting into training and test set\n",
    "dataset = np.loadtxt(\"seeds_dataset.txt\")\n",
    "np.random.shuffle(dataset)\n",
    "len_dataset = dataset.shape[0]\n",
    "\n",
    "train = dataset[:int(0.75*len_dataset),:]\n",
    "test = dataset[int(0.75*len_dataset):,:]\n",
    "\n",
    "X = train[:,:-1]\n",
    "Y = train[:,-1]\n",
    "Y = pd.get_dummies(Y)\n",
    "Y = Y.to_numpy()\n",
    "N,p = X.shape\n",
    "out_neurons = Y.shape[1]\n",
    "\n",
    "Xt = test[:,:-1]\n",
    "Yt = test[:,-1]\n",
    "Yt = pd.get_dummies(Yt)\n",
    "Yt = Yt.to_numpy()\n",
    "Nt,pt = Xt.shape\n",
    "\n",
    "print(\"Original Dataset shape \",dataset.shape)\n",
    "#print(\"Training set shape \",N,p)\n",
    "#print(\"Test set shape \",Nt,pt)\n",
    "\n",
    "print(\"Each Datapoint contains \",p,\"features and belong to either of \",out_neurons,\"class.\")"
   ]
  },
  {
   "cell_type": "code",
   "execution_count": 16,
   "metadata": {},
   "outputs": [],
   "source": [
    "# Standardization of dataset\n",
    "# Store mean and std in a dictionary to use again for test set\n",
    "mean_and_std = {}\n",
    "for i in range(p):\n",
    "    mean_and_std[\"mean\"+str(i)] = np.mean(X[:,i])\n",
    "    mean_and_std[\"std\"+str(i)] = np.std(X[:,i])\n",
    "# Now standardizing the training set\n",
    "for i in range(p):\n",
    "    X[:,i] = (X[:,i] - mean_and_std[\"mean\"+str(i)])/mean_and_std[\"std\"+str(i)]"
   ]
  },
  {
   "cell_type": "code",
   "execution_count": 17,
   "metadata": {},
   "outputs": [],
   "source": [
    "def sigmoid(x):\n",
    "    return ((1)/(1+np.exp(-x)))\n",
    "\n",
    "def sigmoid_derivative(x):\n",
    "    result = np.multiply(sigmoid(x) , (1-sigmoid(x)))\n",
    "    return(result)"
   ]
  },
  {
   "cell_type": "code",
   "execution_count": 18,
   "metadata": {},
   "outputs": [],
   "source": [
    "def softmax(x):\n",
    "    num = np.exp(x)\n",
    "    den = np.sum(num,axis = 0,keepdims = True)\n",
    "    return (num / den)"
   ]
  },
  {
   "cell_type": "code",
   "execution_count": 19,
   "metadata": {},
   "outputs": [],
   "source": [
    "def compute_cost(h,Y):\n",
    "    N = Y.shape[0]\n",
    "    logprobs = np.multiply(Y,np.log(h)) + np.multiply(1-Y,np.log(1-h))\n",
    "    cost = (-1/N)*np.sum(logprobs)\n",
    "    \n",
    "    cost = float(np.squeeze(cost))  # return [[17]] as 17\n",
    "    return cost"
   ]
  },
  {
   "cell_type": "code",
   "execution_count": 20,
   "metadata": {},
   "outputs": [],
   "source": [
    "# Neural Network Model parameters initialization function, parameters to be saved in a dictionary\n",
    "def parameter_init(layers):\n",
    "    parameters = {}\n",
    "    for i in range(1,len(layers)):\n",
    "        parameters[\"W\"+str(i)] = 0.01*np.random.randn(layers[i],layers[i-1])\n",
    "        parameters[\"b\"+str(i)] = np.zeros((layers[i],1))\n",
    "    return (parameters)"
   ]
  },
  {
   "cell_type": "code",
   "execution_count": 21,
   "metadata": {},
   "outputs": [
    {
     "name": "stdout",
     "output_type": "stream",
     "text": [
      "The Structure of this neural network is  [7, 12, 8, 3]\n"
     ]
    }
   ],
   "source": [
    "# Structure of Neural network, saved into a list to modify easily\n",
    "structure = [p,12,8,out_neurons]\n",
    "print(\"The Structure of this neural network is \",structure)\n",
    "\n",
    "# Initialize parameters\n",
    "parameters = parameter_init(structure)"
   ]
  },
  {
   "cell_type": "code",
   "execution_count": 22,
   "metadata": {},
   "outputs": [],
   "source": [
    "# Initializing the \"updates\" for Nestrov momentum\n",
    "# W_lookAhead = W_t - (gamma*update_t-1)\n",
    "# update_t = (gamma*update_t-1) + (learningRate*gradient(W_lookAhead))\n",
    "# update rule:  W = W -update_t\n",
    "# making a dictionary same as parameter_init()\n",
    "\n",
    "def update_init(layers):\n",
    "    updates = {}\n",
    "    for i in range(1,len(layers)):\n",
    "        updates[\"updateW\"+str(i)] = np.zeros((layers[i],layers[i-1]))\n",
    "        updates[\"updateb\"+str(i)] = np.zeros((layers[i],1))\n",
    "    return (updates)\n",
    "# Initialize updates\n",
    "updates = update_init(structure)\n",
    "\n",
    "\n",
    "def lookahead_init(layers):\n",
    "    lookaheads = {}\n",
    "    for i in range(1,len(layers)):\n",
    "        lookaheads[\"lookahead_W\"+str(i)] = np.zeros((layers[i],layers[i-1]))\n",
    "        lookaheads[\"lookahead_b\"+str(i)] = np.zeros((layers[i],1))\n",
    "    return (lookaheads)\n",
    "#Initialize lookaheads\n",
    "lookaheads = lookahead_init(structure)\n",
    "# define gamma\n",
    "gamma = 0.9"
   ]
  },
  {
   "cell_type": "code",
   "execution_count": 23,
   "metadata": {},
   "outputs": [
    {
     "name": "stderr",
     "output_type": "stream",
     "text": [
      "100%|██████████| 3500/3500 [00:03<00:00, 890.54it/s]\n"
     ]
    },
    {
     "name": "stdout",
     "output_type": "stream",
     "text": [
      "Training Cost 0.008323879113016262\n"
     ]
    },
    {
     "data": {
      "image/png": "[encoded data removed]",
      "text/plain": [
       "<Figure size 432x288 with 1 Axes>"
      ]
     },
     "metadata": {
      "needs_background": "light"
     },
     "output_type": "display_data"
    }
   ],
   "source": [
    "# Implementation of Network using Gradient Descent\n",
    "epochs = 3500\n",
    "alpha = 0.1\n",
    "costs = []\n",
    "for num in tqdm(range(epochs)):\n",
    "    #Forward Propogation\n",
    "    a1 = np.dot(parameters[\"W1\"],X.T) + parameters[\"b1\"]\n",
    "    h1 = sigmoid(a1)\n",
    "    a2 = np.dot(parameters[\"W2\"],h1) + parameters[\"b2\"]\n",
    "    h2 = sigmoid(a2)\n",
    "    a3 = np.dot(parameters[\"W3\"],h2) + parameters[\"b3\"]\n",
    "    h3 = softmax(a3)\n",
    "    # Gradients for Backpropogation\n",
    "    \n",
    "    dL_da3 = -( Y.T - h3)\n",
    "    dL_dW3 = (1/N)*np.dot(dL_da3 , h2.T)\n",
    "    dL_db3 = (1/N)*(np.sum(dL_da3,axis=1,keepdims = True))\n",
    "    \n",
    "    dL_dh2 = np.dot(parameters[\"W3\"].T , dL_da3)\n",
    "    dL_da2 = np.multiply(dL_dh2,sigmoid_derivative(a2))\n",
    "    dL_dW2 = (1/N)*np.dot(dL_da2 , h1.T)\n",
    "    dL_db2 = (1/N)*(np.sum(dL_da2,axis=1,keepdims = True))\n",
    "    \n",
    "    dL_dh1 = np.dot(parameters[\"W2\"].T , dL_da2)\n",
    "    dL_da1 = np.multiply(dL_dh1,sigmoid_derivative(a1))\n",
    "    dL_dW1 = (1/N)*np.dot(dL_da1 , X)\n",
    "    dL_db1 = (1/N)*(np.sum(dL_da1,axis = 1,keepdims = True))\n",
    "    \n",
    "    # GD Updates using nestrov momentum\n",
    "    lookaheads[\"lookahead_W3\"] = parameters[\"W3\"] - (gamma*updates[\"updateW3\"])\n",
    "    dL_da3_LA = -( Y.T - h3)\n",
    "    dL_dW3_LA = (1/N)*np.dot(dL_da3_LA , h2.T)             # Lookaheads, also see lookaheads for W2, W1\n",
    "    dL_db3_LA = (1/N)*(np.sum(dL_da3,axis=1,keepdims = True))\n",
    "    updates[\"updateW3\"] = (gamma* updates[\"updateW3\"]) + (alpha*dL_dW3_LA)\n",
    "    parameters[\"W3\"] = parameters[\"W3\"] - updates[\"updateW3\"]\n",
    "    \n",
    "    lookaheads[\"lookahead_b3\"] = parameters[\"b3\"] - (gamma*updates[\"updateb3\"])    \n",
    "    updates[\"updateb3\"] = (gamma* updates[\"updateb3\"]) + (alpha*dL_db3_LA)\n",
    "    parameters[\"b3\"] = parameters[\"b3\"] - updates[\"updateb3\"]\n",
    "    \n",
    "    lookaheads[\"lookahead_W2\"] = parameters[\"W2\"] - (gamma*updates[\"updateW2\"])\n",
    "    dL_dh2_LA = np.dot(lookaheads[\"lookahead_W3\"].T , dL_da3_LA)\n",
    "    dL_da2_LA = np.multiply(dL_dh2_LA,sigmoid_derivative(a2))\n",
    "    dL_dW2_LA = (1/N)*np.dot(dL_da2_LA , h1.T)\n",
    "    dL_db2_LA = (1/N)*(np.sum(dL_da2_LA,axis=1,keepdims = True))\n",
    "    updates[\"updateW2\"] = (gamma* updates[\"updateW2\"]) + (alpha*dL_dW2_LA)\n",
    "    parameters[\"W2\"] = parameters[\"W2\"] - updates[\"updateW2\"]\n",
    "    \n",
    "    lookaheads[\"lookahead_b2\"] = parameters[\"b2\"] - (gamma*updates[\"updateb2\"])\n",
    "    updates[\"updateb2\"] = (gamma* updates[\"updateb2\"]) + (alpha*dL_db2_LA)\n",
    "    parameters[\"b2\"] = parameters[\"b2\"] - updates[\"updateb2\"]\n",
    "    \n",
    "    lookaheads[\"lookahead_W1\"] = parameters[\"W1\"] - (gamma*updates[\"updateW1\"])\n",
    "    dL_dh1_LA = np.dot(lookaheads[\"lookahead_W2\"].T , dL_da2_LA)\n",
    "    dL_da1_LA = np.multiply(dL_dh1_LA,sigmoid_derivative(a1))\n",
    "    dL_dW1_LA = (1/N)*np.dot(dL_da1_LA , X)\n",
    "    dL_db1_LA = (1/N)*(np.sum(dL_da1_LA,axis = 1,keepdims = True))\n",
    "    updates[\"updateW1\"] = (gamma* updates[\"updateW1\"]) + (alpha*dL_dW1_LA)\n",
    "    parameters[\"W1\"] = parameters[\"W1\"] - updates[\"updateW1\"]\n",
    "    lookaheads[\"lookahead_b1\"] = parameters[\"b1\"] - (gamma*updates[\"updateb1\"])\n",
    "    updates[\"updateb1\"] = (gamma* updates[\"updateb1\"]) + (alpha*dL_db1_LA)\n",
    "    parameters[\"b1\"] = parameters[\"b1\"] - updates[\"updateb1\"]\n",
    "    \n",
    "    \n",
    "    costs.append(compute_cost(h3.T,Y))\n",
    "print(\"Training Cost\",costs[-1])\n",
    "plt.plot(costs,label = \"Training\")\n",
    "plt.legend()\n",
    "plt.show()"
   ]
  },
  {
   "cell_type": "code",
   "execution_count": 24,
   "metadata": {},
   "outputs": [
    {
     "name": "stdout",
     "output_type": "stream",
     "text": [
      "Y= [0 0 1] \t\n",
      "y= [7.02826593e-05 1.70420434e-09 9.99929716e-01]\n"
     ]
    }
   ],
   "source": [
    "# Prediction\n",
    "k=72\n",
    "print(\"Y=\",Y[k],\"\\t\\ny=\",h3.T[k])"
   ]
  },
  {
   "cell_type": "code",
   "execution_count": 25,
   "metadata": {},
   "outputs": [
    {
     "name": "stdout",
     "output_type": "stream",
     "text": [
      "Cost of test set 0.4962500520759627\n"
     ]
    }
   ],
   "source": [
    "# Prediction on test set\n",
    "\n",
    "# Standardizing the test set\n",
    "for i in range(p):\n",
    "    Xt[:,i] = (Xt[:,i] - mean_and_std[\"mean\"+str(i)])/mean_and_std[\"std\"+str(i)]\n",
    "\n",
    "\n",
    "#Forward Propogation\n",
    "a1t = np.dot(parameters[\"W1\"],Xt.T) + parameters[\"b1\"]\n",
    "h1t = sigmoid(a1t)\n",
    "a2t = np.dot(parameters[\"W2\"],h1t) + parameters[\"b2\"]\n",
    "h2t = sigmoid(a2t)\n",
    "a3t = np.dot(parameters[\"W3\"],h2t) + parameters[\"b3\"]\n",
    "h3t = softmax(a3t)\n",
    "print(\"Cost of test set\",compute_cost(h3t.T,Yt))"
   ]
  },
  {
   "cell_type": "code",
   "execution_count": 26,
   "metadata": {},
   "outputs": [
    {
     "name": "stdout",
     "output_type": "stream",
     "text": [
      "The number of datapoints in test set wrongly labeled by the NN is/are  4 out of total  53 datapoints\n"
     ]
    }
   ],
   "source": [
    "# Converting Predictions into lables\n",
    "y_pred = np.asmatrix(np.argmax(h3t.T,axis = 1)).T\n",
    "\n",
    "# Checking number of mislables in test set\n",
    "mislabel_index = []\n",
    "YYYY= np.asmatrix(np.argmax(Yt,axis=1)).T\n",
    "count = 0\n",
    "for i in range(len(YYYY)):\n",
    "    if y_pred[i] != YYYY[i]:\n",
    "        mislabel_index.append(i)\n",
    "        count = count+1\n",
    "print(\"The number of datapoints in test set wrongly labeled by the NN is/are \",count,\"out of total \",Nt,\"datapoints\")"
   ]
  },
  {
   "cell_type": "markdown",
   "metadata": {},
   "source": [
    "### AdaGrad"
   ]
  },
  {
   "cell_type": "code",
   "execution_count": 27,
   "metadata": {},
   "outputs": [],
   "source": [
    "import numpy as np\n",
    "import matplotlib.pyplot as plt\n",
    "import pandas as pd\n",
    "from tqdm import tqdm"
   ]
  },
  {
   "cell_type": "code",
   "execution_count": 28,
   "metadata": {},
   "outputs": [
    {
     "name": "stdout",
     "output_type": "stream",
     "text": [
      "Original Dataset shape  (210, 8)\n",
      "Each Datapoint contains  7 features and belong to either of  3 class.\n"
     ]
    }
   ],
   "source": [
    "# Loading dataset, splitting into training and test set\n",
    "dataset = np.loadtxt(\"seeds_dataset.txt\")\n",
    "np.random.shuffle(dataset)\n",
    "len_dataset = dataset.shape[0]\n",
    "\n",
    "train = dataset[:int(0.75*len_dataset),:]\n",
    "test = dataset[int(0.75*len_dataset):,:]\n",
    "\n",
    "X = train[:,:-1]\n",
    "Y = train[:,-1]\n",
    "Y = pd.get_dummies(Y)\n",
    "Y = Y.to_numpy()\n",
    "N,p = X.shape\n",
    "out_neurons = Y.shape[1]\n",
    "\n",
    "Xt = test[:,:-1]\n",
    "Yt = test[:,-1]\n",
    "Yt = pd.get_dummies(Yt)\n",
    "Yt = Yt.to_numpy()\n",
    "Nt,pt = Xt.shape\n",
    "\n",
    "print(\"Original Dataset shape \",dataset.shape)\n",
    "#print(\"Training set shape \",N,p)\n",
    "#print(\"Test set shape \",Nt,pt)\n",
    "\n",
    "print(\"Each Datapoint contains \",p,\"features and belong to either of \",out_neurons,\"class.\")"
   ]
  },
  {
   "cell_type": "code",
   "execution_count": 29,
   "metadata": {},
   "outputs": [],
   "source": [
    "# Standardization of dataset\n",
    "# Store mean and std in a dictionary to use again for test set\n",
    "mean_and_std = {}\n",
    "for i in range(p):\n",
    "    mean_and_std[\"mean\"+str(i)] = np.mean(X[:,i])\n",
    "    mean_and_std[\"std\"+str(i)] = np.std(X[:,i])\n",
    "# Now standardizing the training set\n",
    "for i in range(p):\n",
    "    X[:,i] = (X[:,i] - mean_and_std[\"mean\"+str(i)])/mean_and_std[\"std\"+str(i)]"
   ]
  },
  {
   "cell_type": "code",
   "execution_count": 30,
   "metadata": {},
   "outputs": [],
   "source": [
    "def sigmoid(x):\n",
    "    return ((1)/(1+np.exp(-x)))\n",
    "\n",
    "def sigmoid_derivative(x):\n",
    "    result = np.multiply(sigmoid(x) , (1-sigmoid(x)))\n",
    "    return(result)"
   ]
  },
  {
   "cell_type": "code",
   "execution_count": 31,
   "metadata": {},
   "outputs": [],
   "source": [
    "def softmax(x):\n",
    "    num = np.exp(x)\n",
    "    den = np.sum(num,axis = 0,keepdims = True)\n",
    "    return (num / den)"
   ]
  },
  {
   "cell_type": "code",
   "execution_count": 32,
   "metadata": {},
   "outputs": [],
   "source": [
    "def compute_cost(h,Y):\n",
    "    N = Y.shape[0]\n",
    "    logprobs = np.multiply(Y,np.log(h)) + np.multiply(1-Y,np.log(1-h))\n",
    "    cost = (-1/N)*np.sum(logprobs)\n",
    "    \n",
    "    cost = float(np.squeeze(cost))  # return [[17]] as 17\n",
    "    return cost"
   ]
  },
  {
   "cell_type": "code",
   "execution_count": 33,
   "metadata": {},
   "outputs": [],
   "source": [
    "# Neural Network Model parameters initialization function, parameters to be saved in a dictionary\n",
    "def parameter_init(layers):\n",
    "    parameters = {}\n",
    "    for i in range(1,len(layers)):\n",
    "        parameters[\"W\"+str(i)] = 0.01*np.random.randn(layers[i],layers[i-1])\n",
    "        parameters[\"b\"+str(i)] = np.zeros((layers[i],1))\n",
    "    return (parameters)"
   ]
  },
  {
   "cell_type": "code",
   "execution_count": 34,
   "metadata": {},
   "outputs": [
    {
     "name": "stdout",
     "output_type": "stream",
     "text": [
      "The Structure of this neural network is  [7, 12, 8, 3]\n"
     ]
    }
   ],
   "source": [
    "# Structure of Neural network, saved into a list to modify easily\n",
    "structure = [p,12,8,out_neurons]\n",
    "print(\"The Structure of this neural network is \",structure)\n",
    "\n",
    "# Initialize parameters\n",
    "parameters = parameter_init(structure)"
   ]
  },
  {
   "cell_type": "code",
   "execution_count": 35,
   "metadata": {},
   "outputs": [
    {
     "name": "stderr",
     "output_type": "stream",
     "text": [
      "100%|██████████| 1000/1000 [00:00<00:00, 1212.78it/s]\n"
     ]
    },
    {
     "name": "stdout",
     "output_type": "stream",
     "text": [
      "Training Cost 0.01856253507940808\n"
     ]
    },
    {
     "data": {
      "image/png": "[encoded data removed]",
      "text/plain": [
       "<Figure size 432x288 with 1 Axes>"
      ]
     },
     "metadata": {
      "needs_background": "light"
     },
     "output_type": "display_data"
    }
   ],
   "source": [
    "# Implementation of Network using Gradient Descent and AdaGrad implementation\n",
    "epochs = 1000\n",
    "alpha = 0.1\n",
    "costs = []\n",
    "\n",
    "epsilon = 1e-8\n",
    "rW1 = np.zeros_like(parameters[\"W1\"])\n",
    "rb1 = np.zeros_like(parameters[\"b1\"])\n",
    "rW2 = np.zeros_like(parameters[\"W2\"])\n",
    "rb2 = np.zeros_like(parameters[\"b2\"])\n",
    "rW3 = np.zeros_like(parameters[\"W3\"])\n",
    "rb3 = np.zeros_like(parameters[\"b3\"])\n",
    "\n",
    "\n",
    "for num in tqdm(range(epochs)):\n",
    "    #Forward Propogation\n",
    "    a1 = np.dot(parameters[\"W1\"],X.T) + parameters[\"b1\"]\n",
    "    h1 = sigmoid(a1)\n",
    "    a2 = np.dot(parameters[\"W2\"],h1) + parameters[\"b2\"]\n",
    "    h2 = sigmoid(a2)\n",
    "    a3 = np.dot(parameters[\"W3\"],h2) + parameters[\"b3\"]\n",
    "    h3 = softmax(a3)\n",
    "    # Gradients for Backpropogation\n",
    "    \n",
    "    dL_da3 = -( Y.T - h3)\n",
    "    dL_dW3 = (1/N)*np.dot(dL_da3 , h2.T)\n",
    "    dL_db3 = (1/N)*(np.sum(dL_da3,axis=1,keepdims = True))\n",
    "    \n",
    "    dL_dh2 = np.dot(parameters[\"W3\"].T , dL_da3)\n",
    "    dL_da2 = np.multiply(dL_dh2,sigmoid_derivative(a2))\n",
    "    dL_dW2 = (1/N)*np.dot(dL_da2 , h1.T)\n",
    "    dL_db2 = (1/N)*(np.sum(dL_da2,axis=1,keepdims = True))\n",
    "    \n",
    "    dL_dh1 = np.dot(parameters[\"W2\"].T , dL_da2)\n",
    "    dL_da1 = np.multiply(dL_dh1,sigmoid_derivative(a1))\n",
    "    dL_dW1 = (1/N)*np.dot(dL_da1 , X)\n",
    "    dL_db1 = (1/N)*(np.sum(dL_da1,axis = 1,keepdims = True))\n",
    "    \n",
    "    # GD Updates\n",
    "    rW3 = rW3 + np.square(dL_dW3)\n",
    "    parameters[\"W3\"] = parameters[\"W3\"] - (alpha*dL_dW3)/np.sqrt(rW3 + epsilon)\n",
    "    rb3 = rb3 + np.square(dL_db3)\n",
    "    parameters[\"b3\"] = parameters[\"b3\"] - (alpha*dL_db3)/np.sqrt(rb3 + epsilon)\n",
    "    \n",
    "    rW2 = rW2 + np.square(dL_dW2)\n",
    "    parameters[\"W2\"] = parameters[\"W2\"] - (alpha*dL_dW2)/np.sqrt(rW2 + epsilon)\n",
    "    rb2 = rb2 + np.square(dL_db2)\n",
    "    parameters[\"b2\"] = parameters[\"b2\"] - (alpha*dL_db2)/np.sqrt(rb2 + epsilon)\n",
    "    \n",
    "    rW1 = rW1 + np.square(dL_dW1)\n",
    "    parameters[\"W1\"] = parameters[\"W1\"] - (alpha*dL_dW1)/np.sqrt(rW1 + epsilon)\n",
    "    rb1 = rb1 + np.square(dL_db1)\n",
    "    parameters[\"b1\"] = parameters[\"b1\"] - (alpha*dL_db1)/np.sqrt(rb1 + epsilon)\n",
    "    costs.append(compute_cost(h3.T,Y))\n",
    "\n",
    "print(\"Training Cost\",costs[-1])\n",
    "plt.plot(costs,label = \"Training\")\n",
    "plt.legend()\n",
    "plt.show()"
   ]
  },
  {
   "cell_type": "code",
   "execution_count": 36,
   "metadata": {},
   "outputs": [
    {
     "name": "stdout",
     "output_type": "stream",
     "text": [
      "Y= [1 0 0] \t\n",
      "y= [0.98472943 0.00372298 0.01154759]\n"
     ]
    }
   ],
   "source": [
    "# Prediction\n",
    "k=11\n",
    "print(\"Y=\",Y[k],\"\\t\\ny=\",h3.T[k])"
   ]
  },
  {
   "cell_type": "code",
   "execution_count": 37,
   "metadata": {},
   "outputs": [
    {
     "name": "stdout",
     "output_type": "stream",
     "text": [
      "Cost of test set 0.1286922029276069\n"
     ]
    }
   ],
   "source": [
    "# Prediction on test set\n",
    "\n",
    "# Standardizing the test set\n",
    "for i in range(p):\n",
    "    Xt[:,i] = (Xt[:,i] - mean_and_std[\"mean\"+str(i)])/mean_and_std[\"std\"+str(i)]\n",
    "\n",
    "\n",
    "#Forward Propogation\n",
    "a1t = np.dot(parameters[\"W1\"],Xt.T) + parameters[\"b1\"]\n",
    "h1t = sigmoid(a1t)\n",
    "a2t = np.dot(parameters[\"W2\"],h1t) + parameters[\"b2\"]\n",
    "h2t = sigmoid(a2t)\n",
    "a3t = np.dot(parameters[\"W3\"],h2t) + parameters[\"b3\"]\n",
    "h3t = softmax(a3t)\n",
    "print(\"Cost of test set\",compute_cost(h3t.T,Yt))"
   ]
  },
  {
   "cell_type": "code",
   "execution_count": 38,
   "metadata": {},
   "outputs": [
    {
     "name": "stdout",
     "output_type": "stream",
     "text": [
      "The number of datapoints in test set wrongly labeled by the NN is/are  2 out of total  53 datapoints\n"
     ]
    }
   ],
   "source": [
    "# Converting Predictions into lables\n",
    "y_pred = np.asmatrix(np.argmax(h3t.T,axis = 1)).T\n",
    "\n",
    "# Checking number of mislables in test set\n",
    "mislabel_index = []\n",
    "YYYY= np.asmatrix(np.argmax(Yt,axis=1)).T\n",
    "count = 0\n",
    "for i in range(len(YYYY)):\n",
    "    if y_pred[i] != YYYY[i]:\n",
    "        mislabel_index.append(i)\n",
    "        count = count+1\n",
    "print(\"The number of datapoints in test set wrongly labeled by the NN is/are \",count,\"out of total \",Nt,\"datapoints\")"
   ]
  },
  {
   "cell_type": "markdown",
   "metadata": {},
   "source": [
    "### RMSProp"
   ]
  },
  {
   "cell_type": "code",
   "execution_count": 39,
   "metadata": {},
   "outputs": [],
   "source": [
    "import numpy as np\n",
    "import matplotlib.pyplot as plt\n",
    "import pandas as pd\n",
    "from tqdm import tqdm"
   ]
  },
  {
   "cell_type": "code",
   "execution_count": 40,
   "metadata": {},
   "outputs": [
    {
     "name": "stdout",
     "output_type": "stream",
     "text": [
      "Original Dataset shape  (210, 8)\n",
      "Each Datapoint contains  7 features and belong to either of  3 class.\n"
     ]
    }
   ],
   "source": [
    "# Loading dataset, splitting into training and test set\n",
    "dataset = np.loadtxt(\"seeds_dataset.txt\")\n",
    "np.random.shuffle(dataset)\n",
    "len_dataset = dataset.shape[0]\n",
    "\n",
    "train = dataset[:int(0.75*len_dataset),:]\n",
    "test = dataset[int(0.75*len_dataset):,:]\n",
    "\n",
    "X = train[:,:-1]\n",
    "Y = train[:,-1]\n",
    "Y = pd.get_dummies(Y)\n",
    "Y = Y.to_numpy()\n",
    "N,p = X.shape\n",
    "out_neurons = Y.shape[1]\n",
    "\n",
    "Xt = test[:,:-1]\n",
    "Yt = test[:,-1]\n",
    "Yt = pd.get_dummies(Yt)\n",
    "Yt = Yt.to_numpy()\n",
    "Nt,pt = Xt.shape\n",
    "\n",
    "print(\"Original Dataset shape \",dataset.shape)\n",
    "#print(\"Training set shape \",N,p)\n",
    "#print(\"Test set shape \",Nt,pt)\n",
    "\n",
    "print(\"Each Datapoint contains \",p,\"features and belong to either of \",out_neurons,\"class.\")"
   ]
  },
  {
   "cell_type": "code",
   "execution_count": 41,
   "metadata": {},
   "outputs": [],
   "source": [
    "# Standardization of dataset\n",
    "# Store mean and std in a dictionary to use again for test set\n",
    "mean_and_std = {}\n",
    "for i in range(p):\n",
    "    mean_and_std[\"mean\"+str(i)] = np.mean(X[:,i])\n",
    "    mean_and_std[\"std\"+str(i)] = np.std(X[:,i])\n",
    "# Now standardizing the training set\n",
    "for i in range(p):\n",
    "    X[:,i] = (X[:,i] - mean_and_std[\"mean\"+str(i)])/mean_and_std[\"std\"+str(i)]"
   ]
  },
  {
   "cell_type": "code",
   "execution_count": 42,
   "metadata": {},
   "outputs": [],
   "source": [
    "def sigmoid(x):\n",
    "    return ((1)/(1+np.exp(-x)))\n",
    "\n",
    "def sigmoid_derivative(x):\n",
    "    result = np.multiply(sigmoid(x) , (1-sigmoid(x)))\n",
    "    return(result)"
   ]
  },
  {
   "cell_type": "code",
   "execution_count": 43,
   "metadata": {},
   "outputs": [],
   "source": [
    "def softmax(x):\n",
    "    num = np.exp(x)\n",
    "    den = np.sum(num,axis = 0,keepdims = True)\n",
    "    return (num / den)"
   ]
  },
  {
   "cell_type": "code",
   "execution_count": 44,
   "metadata": {},
   "outputs": [],
   "source": [
    "def compute_cost(h,Y):\n",
    "    N = Y.shape[0]\n",
    "    logprobs = np.multiply(Y,np.log(h)) + np.multiply(1-Y,np.log(1-h))\n",
    "    cost = (-1/N)*np.sum(logprobs)\n",
    "    \n",
    "    cost = float(np.squeeze(cost))  # return [[17]] as 17\n",
    "    return cost"
   ]
  },
  {
   "cell_type": "code",
   "execution_count": 45,
   "metadata": {},
   "outputs": [],
   "source": [
    "# Neural Network Model parameters initialization function, parameters to be saved in a dictionary\n",
    "def parameter_init(layers):\n",
    "    parameters = {}\n",
    "    for i in range(1,len(layers)):\n",
    "        parameters[\"W\"+str(i)] = 0.01*np.random.randn(layers[i],layers[i-1])\n",
    "        parameters[\"b\"+str(i)] = np.zeros((layers[i],1))\n",
    "    return (parameters)"
   ]
  },
  {
   "cell_type": "code",
   "execution_count": 46,
   "metadata": {},
   "outputs": [
    {
     "name": "stdout",
     "output_type": "stream",
     "text": [
      "The Structure of this neural network is  [7, 12, 8, 3]\n"
     ]
    }
   ],
   "source": [
    "# Structure of Neural network, saved into a list to modify easily\n",
    "structure = [p,12,8,out_neurons]\n",
    "print(\"The Structure of this neural network is \",structure)\n",
    "\n",
    "# Initialize parameters\n",
    "parameters = parameter_init(structure)"
   ]
  },
  {
   "cell_type": "code",
   "execution_count": 47,
   "metadata": {},
   "outputs": [
    {
     "name": "stderr",
     "output_type": "stream",
     "text": [
      "100%|██████████| 700/700 [00:00<00:00, 1047.73it/s]\n"
     ]
    },
    {
     "name": "stdout",
     "output_type": "stream",
     "text": [
      "Training Cost 0.0002875570877543273\n"
     ]
    },
    {
     "data": {
      "image/png": "[encoded data removed]",
      "text/plain": [
       "<Figure size 432x288 with 1 Axes>"
      ]
     },
     "metadata": {
      "needs_background": "light"
     },
     "output_type": "display_data"
    }
   ],
   "source": [
    "# Implementation of Network using Gradient Descent and RMSProp\n",
    "epochs = 700\n",
    "alpha = 0.1\n",
    "costs = []\n",
    "\n",
    "epsilon = 1e-8\n",
    "beta = 0.9\n",
    "vW1 = np.zeros_like(parameters[\"W1\"])\n",
    "vb1 = np.zeros_like(parameters[\"b1\"])\n",
    "vW2 = np.zeros_like(parameters[\"W2\"])\n",
    "vb2 = np.zeros_like(parameters[\"b2\"])\n",
    "vW3 = np.zeros_like(parameters[\"W3\"])\n",
    "vb3 = np.zeros_like(parameters[\"b3\"])\n",
    "\n",
    "\n",
    "\n",
    "for num in tqdm(range(epochs)):\n",
    "    #Forward Propogation\n",
    "    a1 = np.dot(parameters[\"W1\"],X.T) + parameters[\"b1\"]\n",
    "    h1 = sigmoid(a1)\n",
    "    a2 = np.dot(parameters[\"W2\"],h1) + parameters[\"b2\"]\n",
    "    h2 = sigmoid(a2)\n",
    "    a3 = np.dot(parameters[\"W3\"],h2) + parameters[\"b3\"]\n",
    "    h3 = softmax(a3)\n",
    "    # Gradients for Backpropogation\n",
    "    \n",
    "    dL_da3 = -( Y.T - h3)\n",
    "    dL_dW3 = (1/N)*np.dot(dL_da3 , h2.T)\n",
    "    dL_db3 = (1/N)*(np.sum(dL_da3,axis=1,keepdims = True))\n",
    "    \n",
    "    dL_dh2 = np.dot(parameters[\"W3\"].T , dL_da3)\n",
    "    dL_da2 = np.multiply(dL_dh2,sigmoid_derivative(a2))\n",
    "    dL_dW2 = (1/N)*np.dot(dL_da2 , h1.T)\n",
    "    dL_db2 = (1/N)*(np.sum(dL_da2,axis=1,keepdims = True))\n",
    "    \n",
    "    dL_dh1 = np.dot(parameters[\"W2\"].T , dL_da2)\n",
    "    dL_da1 = np.multiply(dL_dh1,sigmoid_derivative(a1))\n",
    "    dL_dW1 = (1/N)*np.dot(dL_da1 , X)\n",
    "    dL_db1 = (1/N)*(np.sum(dL_da1,axis = 1,keepdims = True))\n",
    "    \n",
    "    # GD Updates with RMSProp\n",
    "    vW3 = (beta*vW3) + ((1-beta)*np.square(dL_dW3))\n",
    "    parameters[\"W3\"] = parameters[\"W3\"] - (alpha*dL_dW3)/np.sqrt(vW3 + epsilon)\n",
    "    vb3 = (beta*vb3) + ((1-beta)*np.square(dL_db3))\n",
    "    parameters[\"b3\"] = parameters[\"b3\"] - (alpha*dL_db3)/np.sqrt(vb3 + epsilon)\n",
    "    \n",
    "    vW2 = (beta*vW2) + ((1-beta)*np.square(dL_dW2))\n",
    "    parameters[\"W2\"] = parameters[\"W2\"] - (alpha*dL_dW2)/np.sqrt(vW2 + epsilon)\n",
    "    vb2 = (beta*vb2) + ((1-beta)*np.square(dL_db2))\n",
    "    parameters[\"b2\"] = parameters[\"b2\"] - (alpha*dL_db2)/np.sqrt(vb2 + epsilon)\n",
    "    \n",
    "    vW1 = (beta*vW1) + ((1-beta)*np.square(dL_dW1))\n",
    "    parameters[\"W1\"] = parameters[\"W1\"] - (alpha*dL_dW1)/np.sqrt(vW1 + epsilon)\n",
    "    vb1 = (beta*vb1) + ((1-beta)*np.square(dL_db1))\n",
    "    parameters[\"b1\"] = parameters[\"b1\"] - (alpha*dL_db1)/np.sqrt(vb1 + epsilon)\n",
    "    costs.append(compute_cost(h3.T,Y))\n",
    "\n",
    "print(\"Training Cost\",costs[-1])\n",
    "plt.plot(costs,label = \"Training\")\n",
    "plt.legend()\n",
    "plt.show()"
   ]
  },
  {
   "cell_type": "code",
   "execution_count": 48,
   "metadata": {},
   "outputs": [
    {
     "name": "stdout",
     "output_type": "stream",
     "text": [
      "Y= [0 0 1] \t\n",
      "y= [4.28246751e-06 2.11317816e-06 9.99993604e-01]\n"
     ]
    }
   ],
   "source": [
    "# Prediction\n",
    "k=11\n",
    "print(\"Y=\",Y[k],\"\\t\\ny=\",h3.T[k])"
   ]
  },
  {
   "cell_type": "code",
   "execution_count": 49,
   "metadata": {},
   "outputs": [
    {
     "name": "stdout",
     "output_type": "stream",
     "text": [
      "Cost of test set 0.8597894591482292\n"
     ]
    }
   ],
   "source": [
    "# Prediction on test set\n",
    "\n",
    "# Standardizing the test set\n",
    "for i in range(p):\n",
    "    Xt[:,i] = (Xt[:,i] - mean_and_std[\"mean\"+str(i)])/mean_and_std[\"std\"+str(i)]\n",
    "\n",
    "\n",
    "#Forward Propogation\n",
    "a1t = np.dot(parameters[\"W1\"],Xt.T) + parameters[\"b1\"]\n",
    "h1t = sigmoid(a1t)\n",
    "a2t = np.dot(parameters[\"W2\"],h1t) + parameters[\"b2\"]\n",
    "h2t = sigmoid(a2t)\n",
    "a3t = np.dot(parameters[\"W3\"],h2t) + parameters[\"b3\"]\n",
    "h3t = softmax(a3t)\n",
    "print(\"Cost of test set\",compute_cost(h3t.T,Yt))"
   ]
  },
  {
   "cell_type": "code",
   "execution_count": 50,
   "metadata": {},
   "outputs": [
    {
     "name": "stdout",
     "output_type": "stream",
     "text": [
      "The number of datapoints in test set wrongly labeled by the NN is/are  3 out of total  53 datapoints\n"
     ]
    }
   ],
   "source": [
    "# Converting Predictions into lables\n",
    "y_pred = np.asmatrix(np.argmax(h3t.T,axis = 1)).T\n",
    "\n",
    "# Checking number of mislables in test set\n",
    "mislabel_index = []\n",
    "YYYY= np.asmatrix(np.argmax(Yt,axis=1)).T\n",
    "count = 0\n",
    "for i in range(len(YYYY)):\n",
    "    if y_pred[i] != YYYY[i]:\n",
    "        mislabel_index.append(i)\n",
    "        count = count+1\n",
    "print(\"The number of datapoints in test set wrongly labeled by the NN is/are \",count,\"out of total \",Nt,\"datapoints\")"
   ]
  },
  {
   "cell_type": "markdown",
   "metadata": {},
   "source": [
    "### ADAM"
   ]
  },
  {
   "cell_type": "code",
   "execution_count": 51,
   "metadata": {},
   "outputs": [],
   "source": [
    "import numpy as np\n",
    "import matplotlib.pyplot as plt\n",
    "import pandas as pd\n",
    "from tqdm import tqdm"
   ]
  },
  {
   "cell_type": "code",
   "execution_count": 52,
   "metadata": {},
   "outputs": [
    {
     "name": "stdout",
     "output_type": "stream",
     "text": [
      "Original Dataset shape  (210, 8)\n",
      "Each Datapoint contains  7 features and belong to either of  3 class.\n"
     ]
    }
   ],
   "source": [
    "# Loading dataset, splitting into training and test set\n",
    "dataset = np.loadtxt(\"seeds_dataset.txt\")\n",
    "np.random.shuffle(dataset)\n",
    "len_dataset = dataset.shape[0]\n",
    "\n",
    "train = dataset[:int(0.75*len_dataset),:]\n",
    "test = dataset[int(0.75*len_dataset):,:]\n",
    "\n",
    "X = train[:,:-1]\n",
    "Y = train[:,-1]\n",
    "Y = pd.get_dummies(Y)\n",
    "Y = Y.to_numpy()\n",
    "N,p = X.shape\n",
    "out_neurons = Y.shape[1]\n",
    "\n",
    "Xt = test[:,:-1]\n",
    "Yt = test[:,-1]\n",
    "Yt = pd.get_dummies(Yt)\n",
    "Yt = Yt.to_numpy()\n",
    "Nt,pt = Xt.shape\n",
    "\n",
    "print(\"Original Dataset shape \",dataset.shape)\n",
    "#print(\"Training set shape \",N,p)\n",
    "#print(\"Test set shape \",Nt,pt)\n",
    "\n",
    "print(\"Each Datapoint contains \",p,\"features and belong to either of \",out_neurons,\"class.\")"
   ]
  },
  {
   "cell_type": "code",
   "execution_count": 53,
   "metadata": {},
   "outputs": [],
   "source": [
    "# Standardization of dataset\n",
    "# Store mean and std in a dictionary to use again for test set\n",
    "mean_and_std = {}\n",
    "for i in range(p):\n",
    "    mean_and_std[\"mean\"+str(i)] = np.mean(X[:,i])\n",
    "    mean_and_std[\"std\"+str(i)] = np.std(X[:,i])\n",
    "# Now standardizing the training set\n",
    "for i in range(p):\n",
    "    X[:,i] = (X[:,i] - mean_and_std[\"mean\"+str(i)])/mean_and_std[\"std\"+str(i)]"
   ]
  },
  {
   "cell_type": "code",
   "execution_count": 54,
   "metadata": {},
   "outputs": [],
   "source": [
    "def sigmoid(x):\n",
    "    return ((1)/(1+np.exp(-x)))\n",
    "\n",
    "def sigmoid_derivative(x):\n",
    "    result = np.multiply(sigmoid(x) , (1-sigmoid(x)))\n",
    "    return(result)"
   ]
  },
  {
   "cell_type": "code",
   "execution_count": 55,
   "metadata": {},
   "outputs": [],
   "source": [
    "def softmax(x):\n",
    "    num = np.exp(x)\n",
    "    den = np.sum(num,axis = 0,keepdims = True)\n",
    "    return (num / den)"
   ]
  },
  {
   "cell_type": "code",
   "execution_count": 56,
   "metadata": {},
   "outputs": [],
   "source": [
    "def compute_cost(h,Y):\n",
    "    N = Y.shape[0]\n",
    "    logprobs = np.multiply(Y,np.log(h)) + np.multiply(1-Y,np.log(1-h))\n",
    "    cost = (-1/N)*np.sum(logprobs)\n",
    "    \n",
    "    cost = float(np.squeeze(cost))  # return [[17]] as 17\n",
    "    return cost"
   ]
  },
  {
   "cell_type": "code",
   "execution_count": 57,
   "metadata": {},
   "outputs": [],
   "source": [
    "# Neural Network Model parameters initialization function, parameters to be saved in a dictionary\n",
    "def parameter_init(layers):\n",
    "    parameters = {}\n",
    "    for i in range(1,len(layers)):\n",
    "        parameters[\"W\"+str(i)] = 0.01*np.random.randn(layers[i],layers[i-1])\n",
    "        parameters[\"b\"+str(i)] = np.zeros((layers[i],1))\n",
    "    return (parameters)"
   ]
  },
  {
   "cell_type": "code",
   "execution_count": 58,
   "metadata": {},
   "outputs": [
    {
     "name": "stdout",
     "output_type": "stream",
     "text": [
      "The Structure of this neural network is  [7, 12, 8, 3]\n"
     ]
    }
   ],
   "source": [
    "# Structure of Neural network, saved into a list to modify easily\n",
    "structure = [p,12,8,out_neurons]\n",
    "print(\"The Structure of this neural network is \",structure)\n",
    "\n",
    "# Initialize parameters\n",
    "parameters = parameter_init(structure)"
   ]
  },
  {
   "cell_type": "code",
   "execution_count": 59,
   "metadata": {},
   "outputs": [
    {
     "name": "stderr",
     "output_type": "stream",
     "text": [
      "100%|██████████| 200/200 [00:00<00:00, 662.91it/s]\n"
     ]
    },
    {
     "name": "stdout",
     "output_type": "stream",
     "text": [
      "Training Cost 0.006935620257095839\n"
     ]
    },
    {
     "data": {
      "image/png": "[encoded data removed]",
      "text/plain": [
       "<Figure size 432x288 with 1 Axes>"
      ]
     },
     "metadata": {
      "needs_background": "light"
     },
     "output_type": "display_data"
    }
   ],
   "source": [
    "# Implementation of Network using Gradient Descent\n",
    "epochs = 200\n",
    "alpha = 0.1\n",
    "costs = []\n",
    "\n",
    "t = 0\n",
    "beta1 = 0.9\n",
    "beta2 = 0.999\n",
    "epsilon = 1e-8\n",
    "\n",
    "mW3 = np.zeros_like(parameters[\"W3\"])\n",
    "mb3 = np.zeros_like(parameters[\"b3\"])\n",
    "vW3 = np.zeros_like(parameters[\"W3\"])\n",
    "vb3 = np.zeros_like(parameters[\"b3\"])\n",
    "\n",
    "mW2 = np.zeros_like(parameters[\"W2\"])\n",
    "mb2 = np.zeros_like(parameters[\"b2\"])\n",
    "vW2 = np.zeros_like(parameters[\"W2\"])\n",
    "vb2 = np.zeros_like(parameters[\"b2\"])\n",
    "\n",
    "mW1 = np.zeros_like(parameters[\"W1\"])\n",
    "mb1 = np.zeros_like(parameters[\"b1\"])\n",
    "vW1 = np.zeros_like(parameters[\"W1\"])\n",
    "vb1 = np.zeros_like(parameters[\"b1\"])\n",
    "\n",
    "\n",
    "for num in tqdm(range(epochs)):\n",
    "    #Forward Propogation\n",
    "    a1 = np.dot(parameters[\"W1\"],X.T) + parameters[\"b1\"]\n",
    "    h1 = sigmoid(a1)\n",
    "    a2 = np.dot(parameters[\"W2\"],h1) + parameters[\"b2\"]\n",
    "    h2 = sigmoid(a2)\n",
    "    a3 = np.dot(parameters[\"W3\"],h2) + parameters[\"b3\"]\n",
    "    h3 = softmax(a3)\n",
    "    # Gradients for Backpropogation\n",
    "    \n",
    "    dL_da3 = -( Y.T - h3)\n",
    "    dL_dW3 = (1/N)*np.dot(dL_da3 , h2.T)\n",
    "    dL_db3 = (1/N)*(np.sum(dL_da3,axis=1,keepdims = True))\n",
    "    \n",
    "    dL_dh2 = np.dot(parameters[\"W3\"].T , dL_da3)\n",
    "    dL_da2 = np.multiply(dL_dh2,sigmoid_derivative(a2))\n",
    "    dL_dW2 = (1/N)*np.dot(dL_da2 , h1.T)\n",
    "    dL_db2 = (1/N)*(np.sum(dL_da2,axis=1,keepdims = True))\n",
    "    \n",
    "    dL_dh1 = np.dot(parameters[\"W2\"].T , dL_da2)\n",
    "    dL_da1 = np.multiply(dL_dh1,sigmoid_derivative(a1))\n",
    "    dL_dW1 = (1/N)*np.dot(dL_da1 , X)\n",
    "    dL_db1 = (1/N)*(np.sum(dL_da1,axis = 1,keepdims = True))\n",
    "    \n",
    "    # GD Updates\n",
    "    t = t + 1     # For Adam\n",
    "    \n",
    "    mW3 =  (beta1*mW3) + ((1-beta1)*dL_dW3)\n",
    "    vW3 =  (beta2*vW3) + ((1-beta2)*np.square(dL_dW3))\n",
    "    mW3_correct = mW3/(1-np.power(beta1,t))\n",
    "    vW3_correct = vW3/(1-np.power(beta2,t))\n",
    "    parameters[\"W3\"] = parameters[\"W3\"] - alpha*(mW3_correct/np.sqrt(vW3_correct + epsilon))\n",
    "    \n",
    "    mb3 =  (beta1*mb3) + ((1-beta1)*dL_db3)\n",
    "    vb3 =  (beta2*vb3) + ((1-beta2)*np.square(dL_db3))\n",
    "    mb3_correct = mb3/(1-np.power(beta1,t))\n",
    "    vb3_correct = vb3/(1-np.power(beta2,t))\n",
    "    parameters[\"b3\"] = parameters[\"b3\"] - alpha*(mb3_correct/np.sqrt(vb3_correct + epsilon))\n",
    "    \n",
    "    mW2 =  (beta1*mW2) + ((1-beta1)*dL_dW2)\n",
    "    vW2 =  (beta2*vW2) + ((1-beta2)*np.square(dL_dW2))\n",
    "    mW2_correct = mW2/(1-np.power(beta1,t))\n",
    "    vW2_correct = vW2/(1-np.power(beta2,t))\n",
    "    parameters[\"W2\"] = parameters[\"W2\"] - alpha*(mW2_correct/np.sqrt(vW2_correct + epsilon))\n",
    "    \n",
    "    mb2 =  (beta1*mb2) + ((1-beta1)*dL_db2)\n",
    "    vb2 =  (beta2*vb2) + ((1-beta2)*np.square(dL_db2))\n",
    "    mb2_correct = mb2/(1-np.power(beta1,t))\n",
    "    vb2_correct = vb2/(1-np.power(beta2,t))\n",
    "    parameters[\"b2\"] = parameters[\"b2\"] - alpha*(mb2_correct/np.sqrt(vb2_correct + epsilon))\n",
    "    \n",
    "    mW1 =  (beta1*mW1) + ((1-beta1)*dL_dW1)\n",
    "    vW1 =  (beta2*vW1) + ((1-beta2)*np.square(dL_dW1))\n",
    "    mW1_correct = mW1/(1-np.power(beta1,t))\n",
    "    vW1_correct = vW1/(1-np.power(beta2,t))\n",
    "    parameters[\"W1\"] = parameters[\"W1\"] - alpha*(mW1_correct/np.sqrt(vW1_correct + epsilon))\n",
    "    \n",
    "    mb1 =  (beta1*mb1) + ((1-beta1)*dL_db1)\n",
    "    vb1 =  (beta2*vb1) + ((1-beta2)*np.square(dL_db1))\n",
    "    mb1_correct = mb1/(1-np.power(beta1,t))\n",
    "    vb1_correct = vb1/(1-np.power(beta2,t))\n",
    "    parameters[\"b1\"] = parameters[\"b1\"] - alpha*(mb1_correct/np.sqrt(vb1_correct + epsilon))\n",
    "    \n",
    "    costs.append(compute_cost(h3.T,Y))\n",
    "\n",
    "print(\"Training Cost\",costs[-1])\n",
    "plt.plot(costs,label = \"Training\")\n",
    "plt.legend()\n",
    "plt.show()"
   ]
  },
  {
   "cell_type": "code",
   "execution_count": 60,
   "metadata": {},
   "outputs": [
    {
     "name": "stdout",
     "output_type": "stream",
     "text": [
      "Y= [1 0 0] \t\n",
      "y= [9.99726363e-01 8.37373593e-05 1.89899302e-04]\n"
     ]
    }
   ],
   "source": [
    "# Prediction\n",
    "k=11\n",
    "print(\"Y=\",Y[k],\"\\t\\ny=\",h3.T[k])"
   ]
  },
  {
   "cell_type": "code",
   "execution_count": 61,
   "metadata": {},
   "outputs": [
    {
     "name": "stdout",
     "output_type": "stream",
     "text": [
      "Cost of test set 0.43621650182563354\n"
     ]
    }
   ],
   "source": [
    "# Prediction on test set\n",
    "\n",
    "# Standardizing the test set\n",
    "for i in range(p):\n",
    "    Xt[:,i] = (Xt[:,i] - mean_and_std[\"mean\"+str(i)])/mean_and_std[\"std\"+str(i)]\n",
    "\n",
    "\n",
    "#Forward Propogation\n",
    "a1t = np.dot(parameters[\"W1\"],Xt.T) + parameters[\"b1\"]\n",
    "h1t = sigmoid(a1t)\n",
    "a2t = np.dot(parameters[\"W2\"],h1t) + parameters[\"b2\"]\n",
    "h2t = sigmoid(a2t)\n",
    "a3t = np.dot(parameters[\"W3\"],h2t) + parameters[\"b3\"]\n",
    "h3t = softmax(a3t)\n",
    "print(\"Cost of test set\",compute_cost(h3t.T,Yt))"
   ]
  },
  {
   "cell_type": "code",
   "execution_count": 62,
   "metadata": {},
   "outputs": [
    {
     "name": "stdout",
     "output_type": "stream",
     "text": [
      "The number of datapoints in test set wrongly labeled by the NN is/are  2 out of total  53 datapoints\n"
     ]
    }
   ],
   "source": [
    "# Converting Predictions into lables\n",
    "y_pred = np.asmatrix(np.argmax(h3t.T,axis = 1)).T\n",
    "\n",
    "# Checking number of mislables in test set\n",
    "mislabel_index = []\n",
    "YYYY= np.asmatrix(np.argmax(Yt,axis=1)).T\n",
    "count = 0\n",
    "for i in range(len(YYYY)):\n",
    "    if y_pred[i] != YYYY[i]:\n",
    "        mislabel_index.append(i)\n",
    "        count = count+1\n",
    "print(\"The number of datapoints in test set wrongly labeled by the NN is/are \",count,\"out of total \",Nt,\"datapoints\")"
   ]
  },
  {
   "cell_type": "code",
   "execution_count": null,
   "metadata": {},
   "outputs": [],
   "source": []
  }
 ],
 "metadata": {
  "kernelspec": {
   "display_name": "Python 3",
   "language": "python",
   "name": "python3"
  },
  "language_info": {
   "codemirror_mode": {
    "name": "ipython",
    "version": 3
   },
   "file_extension": ".py",
   "mimetype": "text/x-python",
   "name": "python",
   "nbconvert_exporter": "python",
   "pygments_lexer": "ipython3",
   "version": "3.8.5"
  }
 },
 "nbformat": 4,
 "nbformat_minor": 2
}
