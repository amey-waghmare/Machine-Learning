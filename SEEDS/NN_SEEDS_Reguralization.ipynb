{
 "cells": [
  {
   "cell_type": "markdown",
   "metadata": {},
   "source": [
    "# Feedforward Neural Network on SEEDS DATASET\n",
    "### Regularization"
   ]
  },
  {
   "cell_type": "markdown",
   "metadata": {},
   "source": [
    "## L2 Regularization"
   ]
  },
  {
   "cell_type": "code",
   "execution_count": 1,
   "metadata": {},
   "outputs": [],
   "source": [
    "import numpy as np\n",
    "import matplotlib.pyplot as plt\n",
    "import pandas as pd\n",
    "from tqdm import tqdm"
   ]
  },
  {
   "cell_type": "code",
   "execution_count": 2,
   "metadata": {},
   "outputs": [
    {
     "name": "stdout",
     "output_type": "stream",
     "text": [
      "Original Dataset shape  (210, 8)\n",
      "Each Datapoint contains  7 features and belong to either of  3 class.\n"
     ]
    }
   ],
   "source": [
    "# Loading dataset, splitting into training and test set\n",
    "dataset = np.loadtxt(\"seeds_dataset.txt\")\n",
    "np.random.shuffle(dataset)\n",
    "len_dataset = dataset.shape[0]\n",
    "\n",
    "train = dataset[:int(0.75*len_dataset),:]\n",
    "test = dataset[int(0.75*len_dataset):,:]\n",
    "\n",
    "X = train[:,:-1]\n",
    "Y = train[:,-1]\n",
    "Y = pd.get_dummies(Y)\n",
    "Y = Y.to_numpy()\n",
    "N,p = X.shape\n",
    "out_neurons = Y.shape[1]\n",
    "\n",
    "Xt = test[:,:-1]\n",
    "Yt = test[:,-1]\n",
    "Yt = pd.get_dummies(Yt)\n",
    "Yt = Yt.to_numpy()\n",
    "Nt,pt = Xt.shape\n",
    "\n",
    "print(\"Original Dataset shape \",dataset.shape)\n",
    "#print(\"Training set shape \",N,p)\n",
    "#print(\"Test set shape \",Nt,pt)\n",
    "\n",
    "print(\"Each Datapoint contains \",p,\"features and belong to either of \",out_neurons,\"class.\")"
   ]
  },
  {
   "cell_type": "code",
   "execution_count": 3,
   "metadata": {},
   "outputs": [],
   "source": [
    "# Standardization of dataset\n",
    "# Store mean and std in a dictionary to use again for test set\n",
    "mean_and_std = {}\n",
    "for i in range(p):\n",
    "    mean_and_std[\"mean\"+str(i)] = np.mean(X[:,i])\n",
    "    mean_and_std[\"std\"+str(i)] = np.std(X[:,i])\n",
    "# Now standardizing the training set\n",
    "for i in range(p):\n",
    "    X[:,i] = (X[:,i] - mean_and_std[\"mean\"+str(i)])/mean_and_std[\"std\"+str(i)]"
   ]
  },
  {
   "cell_type": "code",
   "execution_count": 4,
   "metadata": {},
   "outputs": [],
   "source": [
    "def sigmoid(x):\n",
    "    return ((1)/(1+np.exp(-x)))\n",
    "\n",
    "def sigmoid_derivative(x):\n",
    "    result = np.multiply(sigmoid(x) , (1-sigmoid(x)))\n",
    "    return(result)"
   ]
  },
  {
   "cell_type": "code",
   "execution_count": 5,
   "metadata": {},
   "outputs": [],
   "source": [
    "def softmax(x):\n",
    "    num = np.exp(x)\n",
    "    den = np.sum(num,axis = 0,keepdims = True)\n",
    "    return (num / den)"
   ]
  },
  {
   "cell_type": "code",
   "execution_count": 6,
   "metadata": {},
   "outputs": [],
   "source": [
    "# Neural Network Model parameters initialization function, parameters to be saved in a dictionary\n",
    "def parameter_init(layers):\n",
    "    parameters = {}\n",
    "    for i in range(1,len(layers)):\n",
    "        parameters[\"W\"+str(i)] = 0.01*np.random.randn(layers[i],layers[i-1])\n",
    "        parameters[\"b\"+str(i)] = np.zeros((layers[i],1))\n",
    "    return (parameters)"
   ]
  },
  {
   "cell_type": "code",
   "execution_count": 7,
   "metadata": {},
   "outputs": [
    {
     "name": "stdout",
     "output_type": "stream",
     "text": [
      "The Structure of this neural network is  [7, 12, 8, 3]\n"
     ]
    }
   ],
   "source": [
    "# Structure of Neural network, saved into a list to modify easily\n",
    "structure = [p,12,8,out_neurons]\n",
    "print(\"The Structure of this neural network is \",structure)\n",
    "\n",
    "# Initialize parameters\n",
    "parameters = parameter_init(structure)"
   ]
  },
  {
   "cell_type": "code",
   "execution_count": 8,
   "metadata": {},
   "outputs": [],
   "source": [
    "def compute_cost_l2(h, Y,parameters = parameters, lambdaa = 0.5):\n",
    "    N = Y.shape[0]\n",
    "    logprobs = np.multiply(Y,np.log(h)) + np.multiply(1-Y,np.log(1-h))\n",
    "    cost = (-1/N)*np.sum(logprobs) + (lambdaa/(2*N))*(np.sum(np.square(parameters[\"W1\"]))+np.sum(np.square(parameters[\"W2\"]))+np.sum(np.square(parameters[\"W3\"])) )\n",
    "    \n",
    "    cost = float(np.squeeze(cost))  # return [[17]] as 17\n",
    "    return cost"
   ]
  },
  {
   "cell_type": "code",
   "execution_count": 9,
   "metadata": {},
   "outputs": [
    {
     "name": "stderr",
     "output_type": "stream",
     "text": [
      "100%|██████████| 50000/50000 [00:37<00:00, 1346.28it/s]\n"
     ]
    },
    {
     "name": "stdout",
     "output_type": "stream",
     "text": [
      "Training Cost 0.13953712177200955\n"
     ]
    },
    {
     "data": {
      "image/png": "[encoded data removed]",
      "text/plain": [
       "<Figure size 432x288 with 1 Axes>"
      ]
     },
     "metadata": {
      "needs_background": "light"
     },
     "output_type": "display_data"
    }
   ],
   "source": [
    "# dictionary\n",
    "# Implementation of Network using Gradient Descent\n",
    "epochs = 50000\n",
    "alpha = 0.1\n",
    "lambdaa = 0.1\n",
    "costs = []\n",
    "for num in tqdm(range(epochs)):\n",
    "    #Forward Propogation\n",
    "    a1 = np.dot(parameters[\"W1\"],X.T) + parameters[\"b1\"]\n",
    "    h1 = sigmoid(a1)\n",
    "    a2 = np.dot(parameters[\"W2\"],h1) + parameters[\"b2\"]\n",
    "    h2 = sigmoid(a2)\n",
    "    a3 = np.dot(parameters[\"W3\"],h2) + parameters[\"b3\"]\n",
    "    h3 = softmax(a3)\n",
    "    # Gradients for Backpropogation\n",
    "    \n",
    "    dL_da3 = -( Y.T - h3)\n",
    "    dL_dW3 = (1/N)*np.dot(dL_da3 , h2.T) + (lambdaa/N)*parameters[\"W3\"]\n",
    "    dL_db3 = (1/N)*(np.sum(dL_da3,axis=1,keepdims = True))\n",
    "    \n",
    "    dL_dh2 = np.dot(parameters[\"W3\"].T , dL_da3)\n",
    "    dL_da2 = np.multiply(dL_dh2,sigmoid_derivative(a2))\n",
    "    dL_dW2 = (1/N)*np.dot(dL_da2 , h1.T) + (lambdaa/N)*parameters[\"W2\"]\n",
    "    dL_db2 = (1/N)*(np.sum(dL_da2,axis=1,keepdims = True))\n",
    "    \n",
    "    dL_dh1 = np.dot(parameters[\"W2\"].T , dL_da2)\n",
    "    dL_da1 = np.multiply(dL_dh1,sigmoid_derivative(a1))\n",
    "    dL_dW1 = (1/N)*np.dot(dL_da1 , X) + (lambdaa/N)*parameters[\"W1\"]\n",
    "    dL_db1 = (1/N)*(np.sum(dL_da1,axis = 1,keepdims = True))\n",
    "    \n",
    "    # GD Updates\n",
    "    parameters[\"W3\"] = parameters[\"W3\"] - (alpha)*dL_dW3\n",
    "    parameters[\"b3\"] = parameters[\"b3\"] - (alpha)*dL_db3\n",
    "    parameters[\"W2\"] = parameters[\"W2\"] - (alpha)*dL_dW2\n",
    "    parameters[\"b2\"] = parameters[\"b2\"] - (alpha)*dL_db2\n",
    "    parameters[\"W1\"] = parameters[\"W1\"] - (alpha)*dL_dW1\n",
    "    parameters[\"b1\"] = parameters[\"b1\"] - (alpha)*dL_db1\n",
    "    costs.append(compute_cost_l2(h3.T,Y,parameters,lambdaa))\n",
    "\n",
    "print(\"Training Cost\",costs[-1])\n",
    "plt.plot(costs,label = \"Training\")\n",
    "plt.legend()\n",
    "plt.show()"
   ]
  },
  {
   "cell_type": "code",
   "execution_count": 10,
   "metadata": {},
   "outputs": [
    {
     "name": "stdout",
     "output_type": "stream",
     "text": [
      "Y= [0 0 1] \t\n",
      "y= [2.35563772e-03 3.69613448e-04 9.97274749e-01]\n"
     ]
    }
   ],
   "source": [
    "# Prediction\n",
    "k=11\n",
    "print(\"Y=\",Y[k],\"\\t\\ny=\",h3.T[k])"
   ]
  },
  {
   "cell_type": "code",
   "execution_count": 11,
   "metadata": {},
   "outputs": [
    {
     "name": "stdout",
     "output_type": "stream",
     "text": [
      "Cost of test set 0.2927773299469268\n"
     ]
    }
   ],
   "source": [
    "# Prediction on test set\n",
    "\n",
    "# Standardizing the test set\n",
    "for i in range(p):\n",
    "    Xt[:,i] = (Xt[:,i] - mean_and_std[\"mean\"+str(i)])/mean_and_std[\"std\"+str(i)]\n",
    "\n",
    "\n",
    "#Forward Propogation\n",
    "a1t = np.dot(parameters[\"W1\"],Xt.T) + parameters[\"b1\"]\n",
    "h1t = sigmoid(a1t)\n",
    "a2t = np.dot(parameters[\"W2\"],h1t) + parameters[\"b2\"]\n",
    "h2t = sigmoid(a2t)\n",
    "a3t = np.dot(parameters[\"W3\"],h2t) + parameters[\"b3\"]\n",
    "h3t = softmax(a3t)\n",
    "print(\"Cost of test set\",compute_cost_l2(h3t.T,Yt,parameters,lambdaa))"
   ]
  },
  {
   "cell_type": "code",
   "execution_count": 12,
   "metadata": {},
   "outputs": [
    {
     "name": "stdout",
     "output_type": "stream",
     "text": [
      "The number of datapoints in test set wrongly labeled by the NN is/are  1 out of total  53 datapoints\n"
     ]
    }
   ],
   "source": [
    "# Converting Predictions into lables\n",
    "y_pred = np.asmatrix(np.argmax(h3t.T,axis = 1)).T\n",
    "\n",
    "# Checking number of mislables in test set\n",
    "mislabel_index = []\n",
    "YYYY= np.asmatrix(np.argmax(Yt,axis=1)).T\n",
    "count = 0\n",
    "for i in range(len(YYYY)):\n",
    "    if y_pred[i] != YYYY[i]:\n",
    "        mislabel_index.append(i)\n",
    "        count = count+1\n",
    "print(\"The number of datapoints in test set wrongly labeled by the NN is/are \",count,\"out of total \",Nt,\"datapoints\")"
   ]
  },
  {
   "cell_type": "markdown",
   "metadata": {},
   "source": [
    "## L1 Reguralization"
   ]
  },
  {
   "cell_type": "code",
   "execution_count": 13,
   "metadata": {},
   "outputs": [],
   "source": [
    "import numpy as np\n",
    "import matplotlib.pyplot as plt\n",
    "import pandas as pd\n",
    "from tqdm import tqdm"
   ]
  },
  {
   "cell_type": "code",
   "execution_count": 14,
   "metadata": {},
   "outputs": [
    {
     "name": "stdout",
     "output_type": "stream",
     "text": [
      "Original Dataset shape  (210, 8)\n",
      "Each Datapoint contains  7 features and belong to either of  3 class.\n"
     ]
    }
   ],
   "source": [
    "# Loading dataset, splitting into training and test set\n",
    "dataset = np.loadtxt(\"seeds_dataset.txt\")\n",
    "np.random.shuffle(dataset)\n",
    "len_dataset = dataset.shape[0]\n",
    "\n",
    "train = dataset[:int(0.75*len_dataset),:]\n",
    "test = dataset[int(0.75*len_dataset):,:]\n",
    "\n",
    "X = train[:,:-1]\n",
    "Y = train[:,-1]\n",
    "Y = pd.get_dummies(Y)\n",
    "Y = Y.to_numpy()\n",
    "N,p = X.shape\n",
    "out_neurons = Y.shape[1]\n",
    "\n",
    "Xt = test[:,:-1]\n",
    "Yt = test[:,-1]\n",
    "Yt = pd.get_dummies(Yt)\n",
    "Yt = Yt.to_numpy()\n",
    "Nt,pt = Xt.shape\n",
    "\n",
    "print(\"Original Dataset shape \",dataset.shape)\n",
    "#print(\"Training set shape \",N,p)\n",
    "#print(\"Test set shape \",Nt,pt)\n",
    "\n",
    "print(\"Each Datapoint contains \",p,\"features and belong to either of \",out_neurons,\"class.\")"
   ]
  },
  {
   "cell_type": "code",
   "execution_count": 15,
   "metadata": {},
   "outputs": [],
   "source": [
    "# Standardization of dataset\n",
    "# Store mean and std in a dictionary to use again for test set\n",
    "mean_and_std = {}\n",
    "for i in range(p):\n",
    "    mean_and_std[\"mean\"+str(i)] = np.mean(X[:,i])\n",
    "    mean_and_std[\"std\"+str(i)] = np.std(X[:,i])\n",
    "# Now standardizing the training set\n",
    "for i in range(p):\n",
    "    X[:,i] = (X[:,i] - mean_and_std[\"mean\"+str(i)])/mean_and_std[\"std\"+str(i)]"
   ]
  },
  {
   "cell_type": "code",
   "execution_count": 16,
   "metadata": {},
   "outputs": [],
   "source": [
    "def sigmoid(x):\n",
    "    return ((1)/(1+np.exp(-x)))\n",
    "\n",
    "def sigmoid_derivative(x):\n",
    "    result = np.multiply(sigmoid(x) , (1-sigmoid(x)))\n",
    "    return(result)"
   ]
  },
  {
   "cell_type": "code",
   "execution_count": 17,
   "metadata": {},
   "outputs": [],
   "source": [
    "def softmax(x):\n",
    "    num = np.exp(x)\n",
    "    den = np.sum(num,axis = 0,keepdims = True)\n",
    "    return (num / den)"
   ]
  },
  {
   "cell_type": "code",
   "execution_count": 18,
   "metadata": {},
   "outputs": [],
   "source": [
    "# Neural Network Model parameters initialization function, parameters to be saved in a dictionary\n",
    "def parameter_init(layers):\n",
    "    parameters = {}\n",
    "    for i in range(1,len(layers)):\n",
    "        parameters[\"W\"+str(i)] = 0.01*np.random.randn(layers[i],layers[i-1])\n",
    "        parameters[\"b\"+str(i)] = np.zeros((layers[i],1))\n",
    "    return (parameters)"
   ]
  },
  {
   "cell_type": "code",
   "execution_count": 19,
   "metadata": {},
   "outputs": [
    {
     "name": "stdout",
     "output_type": "stream",
     "text": [
      "The Structure of this neural network is  [7, 12, 8, 3]\n"
     ]
    }
   ],
   "source": [
    "# Structure of Neural network, saved into a list to modify easily\n",
    "structure = [p,12,8,out_neurons]\n",
    "print(\"The Structure of this neural network is \",structure)\n",
    "\n",
    "# Initialize parameters\n",
    "parameters = parameter_init(structure)"
   ]
  },
  {
   "cell_type": "code",
   "execution_count": 20,
   "metadata": {},
   "outputs": [],
   "source": [
    "def compute_cost_l1(h, Y,parameters = parameters, lambdaa = 0.5):\n",
    "    N = Y.shape[0]\n",
    "    logprobs = np.multiply(Y,np.log(h)) + np.multiply(1-Y,np.log(1-h))\n",
    "    cost = (-1/N)*np.sum(logprobs) + (lambdaa/(N))*(np.sum(np.abs(parameters[\"W1\"]))+np.sum(np.abs(parameters[\"W2\"]))+np.sum(np.abs(parameters[\"W3\"])) )\n",
    "    \n",
    "    cost = float(np.squeeze(cost))  # return [[17]] as 17\n",
    "    return cost"
   ]
  },
  {
   "cell_type": "code",
   "execution_count": 21,
   "metadata": {},
   "outputs": [
    {
     "name": "stderr",
     "output_type": "stream",
     "text": [
      "100%|██████████| 50000/50000 [00:27<00:00, 1830.40it/s]\n"
     ]
    },
    {
     "name": "stdout",
     "output_type": "stream",
     "text": [
      "Training Cost 0.005679152316128934\n"
     ]
    },
    {
     "data": {
      "image/png": "[encoded data removed]",
      "text/plain": [
       "<Figure size 432x288 with 1 Axes>"
      ]
     },
     "metadata": {
      "needs_background": "light"
     },
     "output_type": "display_data"
    }
   ],
   "source": [
    "# dictionary\n",
    "# Implementation of Network using Gradient Descent\n",
    "epochs = 50000\n",
    "alpha = 0.1\n",
    "lambdaa = 0.002\n",
    "costs = []\n",
    "for num in tqdm(range(epochs)):\n",
    "    #Forward Propogation\n",
    "    a1 = np.dot(parameters[\"W1\"],X.T) + parameters[\"b1\"]\n",
    "    h1 = sigmoid(a1)\n",
    "    a2 = np.dot(parameters[\"W2\"],h1) + parameters[\"b2\"]\n",
    "    h2 = sigmoid(a2)\n",
    "    a3 = np.dot(parameters[\"W3\"],h2) + parameters[\"b3\"]\n",
    "    h3 = softmax(a3)\n",
    "    # Gradients for Backpropogation\n",
    "    \n",
    "    dL_da3 = -( Y.T - h3)\n",
    "    dL_dW3 = (1/N)*np.dot(dL_da3 , h2.T) + (lambdaa/N)*np.sign(parameters[\"W3\"])\n",
    "    dL_db3 = (1/N)*(np.sum(dL_da3,axis=1,keepdims = True))\n",
    "    \n",
    "    dL_dh2 = np.dot(parameters[\"W3\"].T , dL_da3)\n",
    "    dL_da2 = np.multiply(dL_dh2,sigmoid_derivative(a2))\n",
    "    dL_dW2 = (1/N)*np.dot(dL_da2 , h1.T) + (lambdaa/N)*np.sign(parameters[\"W2\"])\n",
    "    dL_db2 = (1/N)*(np.sum(dL_da2,axis=1,keepdims = True))\n",
    "    \n",
    "    dL_dh1 = np.dot(parameters[\"W2\"].T , dL_da2)\n",
    "    dL_da1 = np.multiply(dL_dh1,sigmoid_derivative(a1))\n",
    "    dL_dW1 = (1/N)*np.dot(dL_da1 , X) + (lambdaa/N)*np.sign(parameters[\"W1\"])\n",
    "    dL_db1 = (1/N)*(np.sum(dL_da1,axis = 1,keepdims = True))\n",
    "    \n",
    "    # GD Updates\n",
    "    parameters[\"W3\"] = parameters[\"W3\"] - (alpha)*dL_dW3\n",
    "    parameters[\"b3\"] = parameters[\"b3\"] - (alpha)*dL_db3\n",
    "    parameters[\"W2\"] = parameters[\"W2\"] - (alpha)*dL_dW2\n",
    "    parameters[\"b2\"] = parameters[\"b2\"] - (alpha)*dL_db2\n",
    "    parameters[\"W1\"] = parameters[\"W1\"] - (alpha)*dL_dW1\n",
    "    parameters[\"b1\"] = parameters[\"b1\"] - (alpha)*dL_db1\n",
    "    costs.append(compute_cost_l1(h3.T,Y,parameters,lambdaa))\n",
    "\n",
    "print(\"Training Cost\",costs[-1])\n",
    "plt.plot(costs,label = \"Training\")\n",
    "plt.legend()\n",
    "plt.show()"
   ]
  },
  {
   "cell_type": "code",
   "execution_count": 22,
   "metadata": {},
   "outputs": [
    {
     "name": "stdout",
     "output_type": "stream",
     "text": [
      "Y= [1 0 0] \t\n",
      "y= [9.99926991e-01 2.19472957e-05 5.10621315e-05]\n"
     ]
    }
   ],
   "source": [
    "# Prediction\n",
    "k=11\n",
    "print(\"Y=\",Y[k],\"\\t\\ny=\",h3.T[k])"
   ]
  },
  {
   "cell_type": "code",
   "execution_count": 23,
   "metadata": {},
   "outputs": [
    {
     "name": "stdout",
     "output_type": "stream",
     "text": [
      "Cost of test set 1.0622835638669046\n"
     ]
    }
   ],
   "source": [
    "# Prediction on test set\n",
    "\n",
    "# Standardizing the test set\n",
    "for i in range(p):\n",
    "    Xt[:,i] = (Xt[:,i] - mean_and_std[\"mean\"+str(i)])/mean_and_std[\"std\"+str(i)]\n",
    "\n",
    "\n",
    "#Forward Propogation\n",
    "a1t = np.dot(parameters[\"W1\"],Xt.T) + parameters[\"b1\"]\n",
    "h1t = sigmoid(a1t)\n",
    "a2t = np.dot(parameters[\"W2\"],h1t) + parameters[\"b2\"]\n",
    "h2t = sigmoid(a2t)\n",
    "a3t = np.dot(parameters[\"W3\"],h2t) + parameters[\"b3\"]\n",
    "h3t = softmax(a3t)\n",
    "print(\"Cost of test set\",compute_cost_l1(h3t.T,Yt,parameters,lambdaa))"
   ]
  },
  {
   "cell_type": "code",
   "execution_count": 24,
   "metadata": {},
   "outputs": [
    {
     "name": "stdout",
     "output_type": "stream",
     "text": [
      "The number of datapoints in test set wrongly labeled by the NN is/are  6 out of total  53 datapoints\n"
     ]
    }
   ],
   "source": [
    "# Converting Predictions into lables\n",
    "y_pred = np.asmatrix(np.argmax(h3t.T,axis = 1)).T\n",
    "\n",
    "# Checking number of mislables in test set\n",
    "mislabel_index = []\n",
    "YYYY= np.asmatrix(np.argmax(Yt,axis=1)).T\n",
    "count = 0\n",
    "for i in range(len(YYYY)):\n",
    "    if y_pred[i] != YYYY[i]:\n",
    "        mislabel_index.append(i)\n",
    "        count = count+1\n",
    "print(\"The number of datapoints in test set wrongly labeled by the NN is/are \",count,\"out of total \",Nt,\"datapoints\")"
   ]
  },
  {
   "cell_type": "markdown",
   "metadata": {},
   "source": [
    "### Dropout Reguralization"
   ]
  },
  {
   "cell_type": "code",
   "execution_count": 25,
   "metadata": {},
   "outputs": [],
   "source": [
    "import numpy as np\n",
    "import matplotlib.pyplot as plt\n",
    "import pandas as pd\n",
    "from tqdm import tqdm"
   ]
  },
  {
   "cell_type": "code",
   "execution_count": 26,
   "metadata": {},
   "outputs": [
    {
     "name": "stdout",
     "output_type": "stream",
     "text": [
      "Original Dataset shape  (210, 8)\n",
      "Each Datapoint contains  7 features and belong to either of  3 class.\n"
     ]
    }
   ],
   "source": [
    "# Loading dataset, splitting into training and test set\n",
    "dataset = np.loadtxt(\"seeds_dataset.txt\")\n",
    "np.random.shuffle(dataset)\n",
    "len_dataset = dataset.shape[0]\n",
    "\n",
    "train = dataset[:int(0.75*len_dataset),:]\n",
    "test = dataset[int(0.75*len_dataset):,:]\n",
    "\n",
    "X = train[:,:-1]\n",
    "Y = train[:,-1]\n",
    "Y = pd.get_dummies(Y)\n",
    "Y = Y.to_numpy()\n",
    "N,p = X.shape\n",
    "out_neurons = Y.shape[1]\n",
    "\n",
    "Xt = test[:,:-1]\n",
    "Yt = test[:,-1]\n",
    "Yt = pd.get_dummies(Yt)\n",
    "Yt = Yt.to_numpy()\n",
    "Nt,pt = Xt.shape\n",
    "\n",
    "print(\"Original Dataset shape \",dataset.shape)\n",
    "#print(\"Training set shape \",N,p)\n",
    "#print(\"Test set shape \",Nt,pt)\n",
    "\n",
    "print(\"Each Datapoint contains \",p,\"features and belong to either of \",out_neurons,\"class.\")"
   ]
  },
  {
   "cell_type": "code",
   "execution_count": 27,
   "metadata": {},
   "outputs": [],
   "source": [
    "# Standardization of dataset\n",
    "# Store mean and std in a dictionary to use again for test set\n",
    "mean_and_std = {}\n",
    "for i in range(p):\n",
    "    mean_and_std[\"mean\"+str(i)] = np.mean(X[:,i])\n",
    "    mean_and_std[\"std\"+str(i)] = np.std(X[:,i])\n",
    "# Now standardizing the training set\n",
    "for i in range(p):\n",
    "    X[:,i] = (X[:,i] - mean_and_std[\"mean\"+str(i)])/mean_and_std[\"std\"+str(i)]"
   ]
  },
  {
   "cell_type": "code",
   "execution_count": 28,
   "metadata": {},
   "outputs": [],
   "source": [
    "def compute_cost(h,Y):\n",
    "    N = Y.shape[0]\n",
    "    logprobs = np.multiply(Y,np.log(h)) + np.multiply(1-Y,np.log(1-h))\n",
    "    cost = (-1/N)*np.sum(logprobs)\n",
    "    \n",
    "    cost = float(np.squeeze(cost))  # return [[17]] as 17\n",
    "    return cost"
   ]
  },
  {
   "cell_type": "code",
   "execution_count": 29,
   "metadata": {},
   "outputs": [],
   "source": [
    "def sigmoid(x):\n",
    "    return ((1)/(1+np.exp(-x)))\n",
    "\n",
    "def sigmoid_derivative(x):\n",
    "    result = np.multiply(sigmoid(x) , (1-sigmoid(x)))\n",
    "    return(result)"
   ]
  },
  {
   "cell_type": "code",
   "execution_count": 30,
   "metadata": {},
   "outputs": [],
   "source": [
    "def softmax(x):\n",
    "    num = np.exp(x)\n",
    "    den = np.sum(num,axis = 0,keepdims = True)\n",
    "    return (num / den)"
   ]
  },
  {
   "cell_type": "code",
   "execution_count": 31,
   "metadata": {},
   "outputs": [],
   "source": [
    "# Neural Network Model parameters initialization function, parameters to be saved in a dictionary\n",
    "def parameter_init(layers):\n",
    "    parameters = {}\n",
    "    for i in range(1,len(layers)):\n",
    "        parameters[\"W\"+str(i)] = 0.01*np.random.randn(layers[i],layers[i-1])\n",
    "        parameters[\"b\"+str(i)] = np.zeros((layers[i],1))\n",
    "    return (parameters)"
   ]
  },
  {
   "cell_type": "code",
   "execution_count": 32,
   "metadata": {},
   "outputs": [
    {
     "name": "stdout",
     "output_type": "stream",
     "text": [
      "The Structure of this neural network is  [7, 12, 8, 3]\n"
     ]
    }
   ],
   "source": [
    "# Structure of Neural network, saved into a list to modify easily\n",
    "structure = [p,12,8,out_neurons]\n",
    "print(\"The Structure of this neural network is \",structure)\n",
    "\n",
    "# Initialize parameters\n",
    "parameters = parameter_init(structure)"
   ]
  },
  {
   "cell_type": "code",
   "execution_count": 33,
   "metadata": {},
   "outputs": [
    {
     "name": "stderr",
     "output_type": "stream",
     "text": [
      "100%|██████████| 55000/55000 [00:29<00:00, 1843.67it/s]\n"
     ]
    },
    {
     "name": "stdout",
     "output_type": "stream",
     "text": [
      "Training Cost 0.13871074050339086\n"
     ]
    },
    {
     "data": {
      "image/png": "[encoded data removed]",
      "text/plain": [
       "<Figure size 432x288 with 1 Axes>"
      ]
     },
     "metadata": {
      "needs_background": "light"
     },
     "output_type": "display_data"
    }
   ],
   "source": [
    "# Implementation of Network using Gradient Descent and Dropout\n",
    "keep_prob1 = 0.75\n",
    "keep_prob2 = 0.6\n",
    "epochs = 55000\n",
    "alpha = 0.09\n",
    "costs = []\n",
    "for num in tqdm(range(epochs)):\n",
    "    #Forward Propogation\n",
    "    a1 = np.dot(parameters[\"W1\"],X.T) + parameters[\"b1\"]\n",
    "    h1 = sigmoid(a1)\n",
    "    # Now applying dropout on first hidden layer (h1)\n",
    "    D1 = (np.random.randn(h1.shape[0],h1.shape[1]) < keep_prob1 ).astype(int)\n",
    "    h1 = np.multiply(h1,D1)\n",
    "    h1 = (1/keep_prob1) * h1\n",
    "    \n",
    "    a2 = np.dot(parameters[\"W2\"],h1) + parameters[\"b2\"]\n",
    "    h2 = sigmoid(a2)\n",
    "    # Now applying dropout on hidden layer (h2)\n",
    "    D2 = (np.random.randn(h2.shape[0],h2.shape[1]) < keep_prob2).astype(int)\n",
    "    h2 = np.multiply(h2,D2)\n",
    "    h2 = (1/keep_prob2) * h2\n",
    "    \n",
    "    a3 = np.dot(parameters[\"W3\"],h2) + parameters[\"b3\"]\n",
    "    h3 = softmax(a3)\n",
    "    # Gradients for Backpropogation\n",
    "    \n",
    "    dL_da3 = -( Y.T - h3)\n",
    "    dL_dW3 = (1/N)*np.dot(dL_da3 , h2.T)\n",
    "    dL_db3 = (1/N)*(np.sum(dL_da3,axis=1,keepdims = True))\n",
    "    \n",
    "    dL_dh2 = np.dot(parameters[\"W3\"].T , dL_da3)\n",
    "    dL_dh2 = np.multiply(dL_dh2,D2)                                      # Due to dropout\n",
    "    dL_dh2 = (1/keep_prob2) * dL_dh2\n",
    "    dL_da2 = np.multiply(dL_dh2,sigmoid_derivative(a2))\n",
    "    dL_dW2 = (1/N)*np.dot(dL_da2 , h1.T)\n",
    "    dL_db2 = (1/N)*(np.sum(dL_da2,axis=1,keepdims = True))\n",
    "    \n",
    "    dL_dh1 = np.dot(parameters[\"W2\"].T , dL_da2)\n",
    "    dL_dh1 = np.multiply(dL_dh1,D1)                                     # Due to dropout\n",
    "    dL_dh1 = (1/keep_prob1) * dL_dh1\n",
    "    dL_da1 = np.multiply(dL_dh1,sigmoid_derivative(a1))\n",
    "    dL_dW1 = (1/N)*np.dot(dL_da1 , X)\n",
    "    dL_db1 = (1/N)*(np.sum(dL_da1,axis = 1,keepdims = True))\n",
    "    \n",
    "    # GD Updates\n",
    "    parameters[\"W3\"] = parameters[\"W3\"] - (alpha)*dL_dW3\n",
    "    parameters[\"b3\"] = parameters[\"b3\"] - (alpha)*dL_db3\n",
    "    parameters[\"W2\"] = parameters[\"W2\"] - (alpha)*dL_dW2\n",
    "    parameters[\"b2\"] = parameters[\"b2\"] - (alpha)*dL_db2\n",
    "    parameters[\"W1\"] = parameters[\"W1\"] - (alpha)*dL_dW1\n",
    "    parameters[\"b1\"] = parameters[\"b1\"] - (alpha)*dL_db1\n",
    "    costs.append(compute_cost(h3.T,Y))\n",
    "\n",
    "print(\"Training Cost\",costs[-1])\n",
    "plt.plot(costs,label = \"Training\")\n",
    "plt.legend()\n",
    "plt.show()"
   ]
  },
  {
   "cell_type": "code",
   "execution_count": 34,
   "metadata": {},
   "outputs": [
    {
     "name": "stdout",
     "output_type": "stream",
     "text": [
      "Y= [1 0 0] \t\n",
      "y= [9.81864805e-01 3.39656164e-04 1.77955387e-02]\n"
     ]
    }
   ],
   "source": [
    "# Prediction\n",
    "k = 45\n",
    "print(\"Y=\",Y[k],\"\\t\\ny=\",h3.T[k])"
   ]
  },
  {
   "cell_type": "code",
   "execution_count": 35,
   "metadata": {},
   "outputs": [
    {
     "name": "stdout",
     "output_type": "stream",
     "text": [
      "Cost of test set 0.4052610086159284\n"
     ]
    }
   ],
   "source": [
    "# Prediction on test set\n",
    "\n",
    "# Standardizing the test set\n",
    "for i in range(p):\n",
    "    Xt[:,i] = (Xt[:,i] - mean_and_std[\"mean\"+str(i)])/mean_and_std[\"std\"+str(i)]\n",
    "\n",
    "\n",
    "#Forward Propogation\n",
    "a1t = np.dot(parameters[\"W1\"],Xt.T) + parameters[\"b1\"]\n",
    "h1t = sigmoid(a1t)\n",
    "a2t = np.dot(parameters[\"W2\"],h1t) + parameters[\"b2\"]\n",
    "h2t = sigmoid(a2t)\n",
    "a3t = np.dot(parameters[\"W3\"],h2t) + parameters[\"b3\"]\n",
    "h3t = softmax(a3t)\n",
    "print(\"Cost of test set\",compute_cost(h3t.T,Yt))"
   ]
  },
  {
   "cell_type": "code",
   "execution_count": 36,
   "metadata": {},
   "outputs": [
    {
     "name": "stdout",
     "output_type": "stream",
     "text": [
      "The number of datapoints in test set wrongly labeled by the NN is/are  3 out of total  53 datapoints\n"
     ]
    }
   ],
   "source": [
    "# Converting Predictions into lables\n",
    "y_pred = np.asmatrix(np.argmax(h3t.T,axis = 1)).T\n",
    "\n",
    "# Checking number of mislables in test set\n",
    "mislabel_index = []\n",
    "YYYY= np.asmatrix(np.argmax(Yt,axis=1)).T\n",
    "count = 0\n",
    "for i in range(len(YYYY)):\n",
    "    if y_pred[i] != YYYY[i]:\n",
    "        mislabel_index.append(i)\n",
    "        count = count+1\n",
    "print(\"The number of datapoints in test set wrongly labeled by the NN is/are \",count,\"out of total \",Nt,\"datapoints\")"
   ]
  },
  {
   "cell_type": "code",
   "execution_count": null,
   "metadata": {},
   "outputs": [],
   "source": []
  }
 ],
 "metadata": {
  "kernelspec": {
   "display_name": "Python 3",
   "language": "python",
   "name": "python3"
  },
  "language_info": {
   "codemirror_mode": {
    "name": "ipython",
    "version": 3
   },
   "file_extension": ".py",
   "mimetype": "text/x-python",
   "name": "python",
   "nbconvert_exporter": "python",
   "pygments_lexer": "ipython3",
   "version": "3.8.5"
  }
 },
 "nbformat": 4,
 "nbformat_minor": 2
}
