{
 "cells": [
  {
   "cell_type": "markdown",
   "metadata": {
    "colab_type": "text",
    "id": "90-i9niMfdgd"
   },
   "source": [
    "## Linear Regression\n",
    "\n",
    "\n",
    "$$\n",
    "y = \\beta_0 + \\beta_1 x + \\epsilon\n",
    "$$"
   ]
  },
  {
   "cell_type": "code",
   "execution_count": 2,
   "metadata": {
    "colab": {},
    "colab_type": "code",
    "executionInfo": {
     "elapsed": 3546,
     "status": "ok",
     "timestamp": 1600916100540,
     "user": {
      "displayName": "Asim Tewari",
      "photoUrl": "https://lh3.googleusercontent.com/a-/AOh14GhdykXBvixJ2guKKeL9yr7g09iNsguDi8A2Hs0o=s64",
      "userId": "04916436947750482674"
     },
     "user_tz": -330
    },
    "id": "KrHkER4efULh"
   },
   "outputs": [],
   "source": [
    "%matplotlib inline\n",
    "import math\n",
    "import matplotlib.pyplot as plt\n",
    "import seaborn as sns; sns.set()\n",
    "import numpy as np"
   ]
  },
  {
   "cell_type": "code",
   "execution_count": 3,
   "metadata": {
    "colab": {},
    "colab_type": "code",
    "executionInfo": {
     "elapsed": 3520,
     "status": "ok",
     "timestamp": 1600916100542,
     "user": {
      "displayName": "Asim Tewari",
      "photoUrl": "https://lh3.googleusercontent.com/a-/AOh14GhdykXBvixJ2guKKeL9yr7g09iNsguDi8A2Hs0o=s64",
      "userId": "04916436947750482674"
     },
     "user_tz": -330
    },
    "id": "C1-VkkBpjwuM"
   },
   "outputs": [],
   "source": [
    "beta='\\N{greek small letter beta}'"
   ]
  },
  {
   "cell_type": "markdown",
   "metadata": {
    "colab_type": "text",
    "id": "ZopKHWxdc6pm"
   },
   "source": [
    "Create data set"
   ]
  },
  {
   "cell_type": "code",
   "execution_count": 4,
   "metadata": {
    "colab": {
     "base_uri": "https://localhost:8080/",
     "height": 268
    },
    "colab_type": "code",
    "executionInfo": {
     "elapsed": 3472,
     "status": "ok",
     "timestamp": 1600916100545,
     "user": {
      "displayName": "Asim Tewari",
      "photoUrl": "https://lh3.googleusercontent.com/a-/AOh14GhdykXBvixJ2guKKeL9yr7g09iNsguDi8A2Hs0o=s64",
      "userId": "04916436947750482674"
     },
     "user_tz": -330
    },
    "id": "AghElVUwfnwr",
    "outputId": "0dc0aada-7f6d-459d-9cf0-3eb95cd8b8f5"
   },
   "outputs": [
    {
     "data": {
      "image/png": "[encoded data removed]",
      "text/plain": [
       "<Figure size 432x288 with 1 Axes>"
      ]
     },
     "metadata": {},
     "output_type": "display_data"
    }
   ],
   "source": [
    "n_sample =30\n",
    "rng = np.random.RandomState(2)\n",
    "x = 10 * rng.rand(n_sample)\n",
    "y = -3 * x + 10 + 5*rng.randn(n_sample)\n",
    "plt.scatter(x, y, c='g');"
   ]
  },
  {
   "cell_type": "code",
   "execution_count": 5,
   "metadata": {},
   "outputs": [
    {
     "data": {
      "text/plain": [
       "array([-10.1859332 ,   8.45473707,  -7.83515914,   8.09716217,\n",
       "       -14.78487195,   0.65358789,   5.71276366,  -1.77995968,\n",
       "         3.51964582,  -2.22588677,  -8.63396618,  -3.16249997,\n",
       "         4.39506065,  -1.55228495,  -4.87364924,  -4.9041311 ,\n",
       "        -8.28086873,  -6.50549181, -12.34014066,   7.85048865,\n",
       "        -9.30305915,   8.47995596,   2.1581596 ,   5.19860994,\n",
       "         4.30685373,  -8.27471308,   5.38712163,  13.18352562,\n",
       "         0.21741726,   2.04719266])"
      ]
     },
     "execution_count": 5,
     "metadata": {},
     "output_type": "execute_result"
    }
   ],
   "source": [
    "y"
   ]
  },
  {
   "cell_type": "markdown",
   "metadata": {
    "colab_type": "text",
    "id": "F3DB_oP1f8T9"
   },
   "source": [
    "Use Scikit-Learn's LinearRegression for estimationg the regression parameters"
   ]
  },
  {
   "cell_type": "code",
   "execution_count": 10,
   "metadata": {
    "colab": {
     "base_uri": "https://localhost:8080/",
     "height": 268
    },
    "colab_type": "code",
    "executionInfo": {
     "elapsed": 3434,
     "status": "ok",
     "timestamp": 1600916100546,
     "user": {
      "displayName": "Asim Tewari",
      "photoUrl": "https://lh3.googleusercontent.com/a-/AOh14GhdykXBvixJ2guKKeL9yr7g09iNsguDi8A2Hs0o=s64",
      "userId": "04916436947750482674"
     },
     "user_tz": -330
    },
    "id": "Jfy6SfYYgELt",
    "outputId": "122d17a3-2305-44f3-d7d9-4ccac8e097a6"
   },
   "outputs": [
    {
     "data": {
      "image/png": "[encoded data removed]",
      "text/plain": [
       "<Figure size 432x288 with 1 Axes>"
      ]
     },
     "metadata": {
      "tags": []
     },
     "output_type": "display_data"
    }
   ],
   "source": [
    "from sklearn.linear_model import LinearRegression\n",
    "model = LinearRegression(fit_intercept=True)\n",
    "\n",
    "model.fit(x[:, np.newaxis], y)\n",
    "x_min = math.floor(min(x))\n",
    "x_max = math.ceil(max(x))\n",
    "xfit = np.linspace(x_min, x_max, 1000)\n",
    "yfit = model.predict(xfit[:, np.newaxis])\n",
    "\n",
    "plt.scatter(x, y)\n",
    "plt.plot(xfit, yfit, c='r');"
   ]
  },
  {
   "cell_type": "code",
   "execution_count": 11,
   "metadata": {
    "colab": {
     "base_uri": "https://localhost:8080/",
     "height": 54
    },
    "colab_type": "code",
    "executionInfo": {
     "elapsed": 3423,
     "status": "ok",
     "timestamp": 1600916100548,
     "user": {
      "displayName": "Asim Tewari",
      "photoUrl": "https://lh3.googleusercontent.com/a-/AOh14GhdykXBvixJ2guKKeL9yr7g09iNsguDi8A2Hs0o=s64",
      "userId": "04916436947750482674"
     },
     "user_tz": -330
    },
    "id": "v9Ddlo4liAfD",
    "outputId": "0357a843-ae71-4eb4-aad6-1db408ff6a89"
   },
   "outputs": [
    {
     "name": "stdout",
     "output_type": "stream",
     "text": [
      "β1:  -2.286599209034518\n",
      "β0:  7.820438308659005\n"
     ]
    }
   ],
   "source": [
    "print(beta+\"1\"+\": \", model.coef_[0])\n",
    "print(beta+\"0\"+\": \", model.intercept_)"
   ]
  },
  {
   "cell_type": "markdown",
   "metadata": {
    "colab_type": "text",
    "id": "6uxW6tMcLP74"
   },
   "source": [
    "# p-value computing"
   ]
  },
  {
   "cell_type": "code",
   "execution_count": 12,
   "metadata": {
    "colab": {
     "base_uri": "https://localhost:8080/",
     "height": 454
    },
    "colab_type": "code",
    "executionInfo": {
     "elapsed": 3412,
     "status": "ok",
     "timestamp": 1600916100550,
     "user": {
      "displayName": "Asim Tewari",
      "photoUrl": "https://lh3.googleusercontent.com/a-/AOh14GhdykXBvixJ2guKKeL9yr7g09iNsguDi8A2Hs0o=s64",
      "userId": "04916436947750482674"
     },
     "user_tz": -330
    },
    "id": "0glmecU8kQ1G",
    "outputId": "815467b8-7b22-4452-ee60-6828892d1b7d"
   },
   "outputs": [
    {
     "name": "stdout",
     "output_type": "stream",
     "text": [
      "                                 OLS Regression Results                                \n",
      "=======================================================================================\n",
      "Dep. Variable:                      y   R-squared (uncentered):                   0.236\n",
      "Model:                            OLS   Adj. R-squared (uncentered):              0.210\n",
      "Method:                 Least Squares   F-statistic:                              8.957\n",
      "Date:                Thu, 24 Sep 2020   Prob (F-statistic):                     0.00560\n",
      "Time:                        02:54:30   Log-Likelihood:                         -97.581\n",
      "No. Observations:                  30   AIC:                                      197.2\n",
      "Df Residuals:                      29   BIC:                                      198.6\n",
      "Df Model:                           1                                                  \n",
      "Covariance Type:            nonrobust                                                  \n",
      "==============================================================================\n",
      "                 coef    std err          t      P>|t|      [0.025      0.975]\n",
      "------------------------------------------------------------------------------\n",
      "x1            -0.7837      0.262     -2.993      0.006      -1.319      -0.248\n",
      "==============================================================================\n",
      "Omnibus:                        0.415   Durbin-Watson:                   2.199\n",
      "Prob(Omnibus):                  0.813   Jarque-Bera (JB):                0.563\n",
      "Skew:                          -0.195   Prob(JB):                        0.755\n",
      "Kurtosis:                       2.454   Cond. No.                         1.00\n",
      "==============================================================================\n",
      "\n",
      "Warnings:\n",
      "[1] Standard Errors assume that the covariance matrix of the errors is correctly specified.\n"
     ]
    }
   ],
   "source": [
    "import statsmodels.api as sm\n",
    "\n",
    "model_sm ='NULL'\n",
    "model_sm = sm.OLS(y,x) # Ordinary Least Square\n",
    "\n",
    "fii = model_sm.fit()\n",
    "\n",
    "p_values = fii.summary2().tables[1]['P>|t|']\n",
    "\n",
    "print(fii.summary())"
   ]
  },
  {
   "cell_type": "code",
   "execution_count": 12,
   "metadata": {
    "colab": {},
    "colab_type": "code",
    "executionInfo": {
     "elapsed": 3402,
     "status": "ok",
     "timestamp": 1600916100553,
     "user": {
      "displayName": "Asim Tewari",
      "photoUrl": "https://lh3.googleusercontent.com/a-/AOh14GhdykXBvixJ2guKKeL9yr7g09iNsguDi8A2Hs0o=s64",
      "userId": "04916436947750482674"
     },
     "user_tz": -330
    },
    "id": "hZ7hcCUXNbjK"
   },
   "outputs": [],
   "source": []
  }
 ],
 "metadata": {
  "colab": {
   "authorship_tag": "ABX9TyMHdl8igqcCgnURVtGZc0jt",
   "collapsed_sections": [],
   "name": "1b_Linear_Regression.ipynb",
   "provenance": [
    {
     "file_id": "15OeuP8W9CR3LbIyyTcPjO6HlkPn3KcGw",
     "timestamp": 1600502112462
    },
    {
     "file_id": "1H2mwB0vTNqBhN9TeOehsNol8VFe514CY",
     "timestamp": 1600448228560
    }
   ]
  },
  "kernelspec": {
   "display_name": "Python 3",
   "language": "python",
   "name": "python3"
  },
  "language_info": {
   "codemirror_mode": {
    "name": "ipython",
    "version": 3
   },
   "file_extension": ".py",
   "mimetype": "text/x-python",
   "name": "python",
   "nbconvert_exporter": "python",
   "pygments_lexer": "ipython3",
   "version": "3.8.8"
  }
 },
 "nbformat": 4,
 "nbformat_minor": 1
}
