{
 "cells": [
  {
   "cell_type": "markdown",
   "metadata": {},
   "source": [
    "# Firm-Teacher_Clave-Direction_Classification Data Set"
   ]
  },
  {
   "cell_type": "markdown",
   "metadata": {},
   "source": [
    "## Batch Gradient Descent with variable batch size"
   ]
  },
  {
   "cell_type": "code",
   "execution_count": 1,
   "metadata": {},
   "outputs": [],
   "source": [
    "import numpy as np\n",
    "import matplotlib.pyplot as plt\n",
    "from tqdm import tqdm"
   ]
  },
  {
   "cell_type": "code",
   "execution_count": 2,
   "metadata": {},
   "outputs": [
    {
     "name": "stdout",
     "output_type": "stream",
     "text": [
      "Original Dataset shape  (10800, 20)\n",
      "Each Datapoint contains  16 features and belong to either of  4 class.\n"
     ]
    }
   ],
   "source": [
    "# Read dataset, divide it into train and test set\n",
    "dataset = np.loadtxt(\"ClaveVectors_Firm-Teacher_Model.txt\")\n",
    "np.random.shuffle(dataset)\n",
    "\n",
    "len_dataset = dataset.shape[0]\n",
    "train = dataset[:int(0.75*len_dataset),:]\n",
    "test = dataset[int(0.75*len_dataset):,:]\n",
    "\n",
    "N = train.shape[0]\n",
    "Nt = test.shape[0]\n",
    "p = train[:,:16].shape[1]\n",
    "out_neurons = train[:,16:].shape[1]\n",
    "\n",
    "print(\"Original Dataset shape \",dataset.shape)\n",
    "#print(\"Training set shape \",N,p)\n",
    "#print(\"Test set shape \",Nt,pt)\n",
    "\n",
    "print(\"Each Datapoint contains \",p,\"features and belong to either of \",out_neurons,\"class.\")"
   ]
  },
  {
   "cell_type": "code",
   "execution_count": 3,
   "metadata": {},
   "outputs": [],
   "source": [
    "def create_batches(dataset,batch_size = 100):\n",
    "    batches = {}\n",
    "    len_dataset = dataset.shape[0]\n",
    "    start = 0\n",
    "    end = batch_size\n",
    "    no_of_batches = int(len_dataset/batch_size)\n",
    "    for i in range(no_of_batches):\n",
    "        X_and_t = dataset[start:end,:]\n",
    "        batches[\"batch_\" + str(i)] = X_and_t\n",
    "        start = start + batch_size\n",
    "        end = end + batch_size\n",
    "    return batches"
   ]
  },
  {
   "cell_type": "code",
   "execution_count": 4,
   "metadata": {},
   "outputs": [],
   "source": [
    "# Function to calculate cost\n",
    "def compute_cost(h,Y):\n",
    "    N = Y.shape[0]\n",
    "    logprobs = np.multiply(Y,np.log(h)) + np.multiply(1-Y,np.log(1-h))\n",
    "    cost = (-1/N)*np.sum(logprobs)\n",
    "    \n",
    "    cost = float(np.squeeze(cost))  # return [[17]] as 17\n",
    "    return cost"
   ]
  },
  {
   "cell_type": "code",
   "execution_count": 5,
   "metadata": {},
   "outputs": [],
   "source": [
    "def sigmoid(x):\n",
    "    return ((1)/(1+np.exp(-x)))\n",
    "\n",
    "def sigmoid_derivative(x):\n",
    "    result = np.multiply(sigmoid(x) , (1-sigmoid(x)))\n",
    "    return(result)"
   ]
  },
  {
   "cell_type": "code",
   "execution_count": 6,
   "metadata": {},
   "outputs": [],
   "source": [
    "def softmax(x):\n",
    "    num = np.exp(x)\n",
    "    den = np.sum(num,axis = 0,keepdims = True)\n",
    "    return (num / den)"
   ]
  },
  {
   "cell_type": "code",
   "execution_count": 7,
   "metadata": {},
   "outputs": [],
   "source": [
    "# Neural Network Model parameters initialization function, parameters to be saved in a dictionary\n",
    "def parameter_init(layers):\n",
    "    parameters = {}\n",
    "    for i in range(1,len(layers)):\n",
    "        parameters[\"W\"+str(i)] = 0.01*np.random.randn(layers[i],layers[i-1])\n",
    "        parameters[\"b\"+str(i)] = np.zeros((layers[i],1))\n",
    "    return (parameters)"
   ]
  },
  {
   "cell_type": "code",
   "execution_count": 8,
   "metadata": {},
   "outputs": [
    {
     "name": "stdout",
     "output_type": "stream",
     "text": [
      "The Structure of this neural network is  [16, 40, 10, 4]\n"
     ]
    }
   ],
   "source": [
    "# Structure of Neural network, saved into a list to modify easily\n",
    "structure = [p,40,10,out_neurons]\n",
    "print(\"The Structure of this neural network is \",structure)\n",
    "\n",
    "# Initialize parameters\n",
    "parameters = parameter_init(structure)"
   ]
  },
  {
   "cell_type": "code",
   "execution_count": 9,
   "metadata": {},
   "outputs": [
    {
     "name": "stderr",
     "output_type": "stream",
     "text": [
      "100%|██████████| 500/500 [01:03<00:00,  7.84it/s]\n"
     ]
    },
    {
     "name": "stdout",
     "output_type": "stream",
     "text": [
      "Training Cost 0.9099102562027872\n"
     ]
    },
    {
     "data": {
      "image/png": "[encoded data removed]",
      "text/plain": [
       "<Figure size 432x288 with 1 Axes>"
      ]
     },
     "metadata": {
      "needs_background": "light"
     },
     "output_type": "display_data"
    }
   ],
   "source": [
    "# Implementation of Network using Gradient Descent\n",
    "epochs = 500\n",
    "alpha = 0.01\n",
    "costs = []\n",
    "\n",
    "batch_data = create_batches(train,batch_size = 20)                   # Update Batch Size here\n",
    "no_of_batches = len(batch_data)\n",
    "\n",
    "for num in tqdm(range(epochs)):\n",
    "    cost_total = 0\n",
    "    for ba in range(no_of_batches):\n",
    "        dat = batch_data[\"batch_\"+str(ba)]\n",
    "        X = dat[:,:p]\n",
    "        Y = dat[:,p:]\n",
    "        N = X.shape[0]\n",
    "\n",
    "        #Forward Propogation\n",
    "        a1 = np.dot(parameters[\"W1\"],X.T) + parameters[\"b1\"]\n",
    "        h1 = sigmoid(a1)\n",
    "        a2 = np.dot(parameters[\"W2\"],h1) + parameters[\"b2\"]\n",
    "        h2 = sigmoid(a2)\n",
    "        a3 = np.dot(parameters[\"W3\"],h2) + parameters[\"b3\"]\n",
    "        h3 = softmax(a3)\n",
    "        # Gradients for Backpropogation\n",
    "        \n",
    "        dL_da3 = -( Y.T - h3)\n",
    "        dL_dW3 = (1/N)*np.dot(dL_da3 , h2.T)\n",
    "        dL_db3 = (1/N)*(np.sum(dL_da3,axis=1,keepdims = True))\n",
    "        \n",
    "        dL_dh2 = np.dot(parameters[\"W3\"].T , dL_da3)\n",
    "        dL_da2 = np.multiply(dL_dh2,sigmoid_derivative(a2))\n",
    "        dL_dW2 = (1/N)*np.dot(dL_da2 , h1.T)\n",
    "        dL_db2 = (1/N)*(np.sum(dL_da2,axis=1,keepdims = True))\n",
    "        \n",
    "        dL_dh1 = np.dot(parameters[\"W2\"].T , dL_da2)\n",
    "        dL_da1 = np.multiply(dL_dh1,sigmoid_derivative(a1))\n",
    "        dL_dW1 = (1/N)*np.dot(dL_da1 , X)\n",
    "        dL_db1 = (1/N)*(np.sum(dL_da1,axis = 1,keepdims = True))\n",
    "        \n",
    "        # GD Updates\n",
    "        parameters[\"W3\"] = parameters[\"W3\"] - (alpha)*dL_dW3\n",
    "        parameters[\"b3\"] = parameters[\"b3\"] - (alpha)*dL_db3\n",
    "        parameters[\"W2\"] = parameters[\"W2\"] - (alpha)*dL_dW2\n",
    "        parameters[\"b2\"] = parameters[\"b2\"] - (alpha)*dL_db2\n",
    "        parameters[\"W1\"] = parameters[\"W1\"] - (alpha)*dL_dW1\n",
    "        parameters[\"b1\"] = parameters[\"b1\"] - (alpha)*dL_db1\n",
    "        \n",
    "        cost_total = cost_total + compute_cost(h3.T,Y)\n",
    "    \n",
    "    cost_avg = (cost_total/no_of_batches)\n",
    "    costs.append(cost_avg)\n",
    "\n",
    "    \n",
    "print(\"Training Cost\",costs[-1])\n",
    "plt.plot(costs,label = \"Training\")\n",
    "plt.legend()\n",
    "plt.show()"
   ]
  },
  {
   "cell_type": "code",
   "execution_count": 10,
   "metadata": {},
   "outputs": [
    {
     "name": "stdout",
     "output_type": "stream",
     "text": [
      "Actual [1. 0. 0. 0.] \t Predicted [0.11715284 0.18543989 0.2235417  0.47386557]\n"
     ]
    }
   ],
   "source": [
    "# Prediction\n",
    "X = train[:,:p]\n",
    "Y = train[:,p:]\n",
    "\n",
    "k= 971\n",
    "a1 = np.dot(parameters[\"W1\"],X.T)+ parameters[\"b1\"]\n",
    "h1 = sigmoid(a1)\n",
    "a2 = np.dot(parameters[\"W2\"],h1) + parameters[\"b2\"]\n",
    "h2 = sigmoid(a2)\n",
    "a3 = np.dot(parameters[\"W3\"],h2) + parameters[\"b3\"]\n",
    "h3 = softmax(a3)\n",
    "print(\"Actual\",Y[k],\"\\t Predicted\",h3.T[k])"
   ]
  },
  {
   "cell_type": "code",
   "execution_count": 11,
   "metadata": {},
   "outputs": [
    {
     "name": "stdout",
     "output_type": "stream",
     "text": [
      "Cost of test set 0.8447122497135118\n"
     ]
    }
   ],
   "source": [
    "# Prediction on test set\n",
    "Xt = test[:,:p]\n",
    "Yt = test[:,p:]\n",
    "#Forward Propogation\n",
    "a1t = np.dot(parameters[\"W1\"],Xt.T) + parameters[\"b1\"]\n",
    "h1t = sigmoid(a1t)\n",
    "a2t = np.dot(parameters[\"W2\"],h1t) + parameters[\"b2\"]\n",
    "h2t = sigmoid(a2t)\n",
    "a3t = np.dot(parameters[\"W3\"],h2t) + parameters[\"b3\"]\n",
    "h3t = softmax(a3t)\n",
    "print(\"Cost of test set\",compute_cost(h3t.T,Yt))"
   ]
  },
  {
   "cell_type": "code",
   "execution_count": 12,
   "metadata": {},
   "outputs": [
    {
     "name": "stdout",
     "output_type": "stream",
     "text": [
      "The number of datapoints in test set wrongly labeled by the NN is/are  527 out of total  2700 datapoints\n",
      "The accuracy on test set is  80.48148148148148\n"
     ]
    }
   ],
   "source": [
    "# Converting Predictions into lables\n",
    "y_pred = np.asmatrix(np.argmax(h3t.T,axis = 1)).T\n",
    "\n",
    "# Checking number of mislables in test set\n",
    "mislabel_index = []\n",
    "YYYY= np.asmatrix(np.argmax(Yt,axis=1)).T\n",
    "count = 0\n",
    "for i in range(len(YYYY)):\n",
    "    if y_pred[i] != YYYY[i]:\n",
    "        mislabel_index.append(i)\n",
    "        count = count+1\n",
    "print(\"The number of datapoints in test set wrongly labeled by the NN is/are \",count,\"out of total \",Nt,\"datapoints\")\n",
    "print(\"The accuracy on test set is \",(1-(count/len(YYYY)))*100)"
   ]
  },
  {
   "cell_type": "code",
   "execution_count": null,
   "metadata": {},
   "outputs": [],
   "source": []
  },
  {
   "cell_type": "markdown",
   "metadata": {},
   "source": [
    "## STOCHASTIC GD\n"
   ]
  },
  {
   "cell_type": "code",
   "execution_count": 13,
   "metadata": {},
   "outputs": [],
   "source": [
    "import numpy as np\n",
    "import matplotlib.pyplot as plt\n",
    "import pandas as pd\n",
    "from tqdm import tqdm"
   ]
  },
  {
   "cell_type": "code",
   "execution_count": 14,
   "metadata": {},
   "outputs": [
    {
     "name": "stdout",
     "output_type": "stream",
     "text": [
      "Original Dataset shape  (10800, 20)\n",
      "Each Datapoint contains  16 features and belong to either of  4 class.\n"
     ]
    }
   ],
   "source": [
    "# Read dataset, divide it into train and test set\n",
    "dataset = np.loadtxt(\"ClaveVectors_Firm-Teacher_Model.txt\")\n",
    "np.random.shuffle(dataset)\n",
    "\n",
    "len_dataset = dataset.shape[0]\n",
    "train = dataset[:int(0.75*len_dataset),:]\n",
    "test = dataset[int(0.75*len_dataset):,:]\n",
    "\n",
    "X = train[:,:16]\n",
    "Y = train[:,16:]\n",
    "out_neurons=len(Y[0])\n",
    "N,p = X.shape\n",
    "\n",
    "Xt = test[:,:16]\n",
    "Yt = test[:,16:]\n",
    "Nt,pt = Xt.shape\n",
    "\n",
    "print(\"Original Dataset shape \",dataset.shape)\n",
    "#print(\"Training set shape \",N,p)\n",
    "#print(\"Test set shape \",Nt,pt)\n",
    "\n",
    "print(\"Each Datapoint contains \",p,\"features and belong to either of \",out_neurons,\"class.\")"
   ]
  },
  {
   "cell_type": "code",
   "execution_count": 15,
   "metadata": {},
   "outputs": [],
   "source": [
    "# Function to calculate cost\n",
    "def compute_cost(h,Y):\n",
    "    N = Y.shape[0]\n",
    "    logprobs = np.multiply(Y,np.log(h)) + np.multiply(1-Y,np.log(1-h))\n",
    "    cost = (-1/N)*np.sum(logprobs)\n",
    "    \n",
    "    cost = float(np.squeeze(cost))  # return [[17]] as 17\n",
    "    return cost"
   ]
  },
  {
   "cell_type": "code",
   "execution_count": 16,
   "metadata": {},
   "outputs": [],
   "source": [
    "def sigmoid(x):\n",
    "    return ((1)/(1+np.exp(-x)))\n",
    "\n",
    "def sigmoid_derivative(x):\n",
    "    result = np.multiply(sigmoid(x) , (1-sigmoid(x)))\n",
    "    return(result)"
   ]
  },
  {
   "cell_type": "code",
   "execution_count": 17,
   "metadata": {},
   "outputs": [],
   "source": [
    "def softmax(x):\n",
    "    num = np.exp(x)\n",
    "    den = np.sum(num,axis = 0)\n",
    "    return (num / den)"
   ]
  },
  {
   "cell_type": "code",
   "execution_count": 18,
   "metadata": {},
   "outputs": [],
   "source": [
    "# Neural Network Model parameters initialization function, parameters to be saved in a dictionary\n",
    "def parameter_init(layers):\n",
    "    parameters = {}\n",
    "    for i in range(1,len(layers)):\n",
    "        parameters[\"W\"+str(i)] = 0.01*np.random.randn(layers[i],layers[i-1])\n",
    "        parameters[\"b\"+str(i)] = np.zeros((layers[i],1))\n",
    "    return (parameters)"
   ]
  },
  {
   "cell_type": "code",
   "execution_count": 19,
   "metadata": {},
   "outputs": [
    {
     "name": "stdout",
     "output_type": "stream",
     "text": [
      "The Structure of this neural network is  [16, 40, 10, 4]\n"
     ]
    }
   ],
   "source": [
    "# Structure of Neural network, saved into a list to modify easily\n",
    "structure = [p,40,10,out_neurons]\n",
    "print(\"The Structure of this neural network is \",structure)\n",
    "\n",
    "# Initialize parameters\n",
    "parameters = parameter_init(structure)"
   ]
  },
  {
   "cell_type": "code",
   "execution_count": 20,
   "metadata": {},
   "outputs": [
    {
     "name": "stderr",
     "output_type": "stream",
     "text": [
      "100%|██████████| 50/50 [02:36<00:00,  3.13s/it]\n"
     ]
    },
    {
     "name": "stdout",
     "output_type": "stream",
     "text": [
      "Training Cost 0.15084151851253413\n"
     ]
    },
    {
     "data": {
      "image/png": "[encoded data removed]",
      "text/plain": [
       "<Figure size 432x288 with 1 Axes>"
      ]
     },
     "metadata": {
      "needs_background": "light"
     },
     "output_type": "display_data"
    }
   ],
   "source": [
    "# Implementation of Network using Stochastic Gradient Descent\n",
    "epochs = 50\n",
    "alpha = 0.04\n",
    "costs = []\n",
    "for num in tqdm(range(epochs)):\n",
    "    cost_total = 0\n",
    "    for i in range(len(X)):\n",
    "        x = X[i]\n",
    "        x = np.asmatrix(x).T\n",
    "        y = Y[i]\n",
    "        y = np.asmatrix(y).T\n",
    "        #Forward Propogation\n",
    "        a1 = np.dot(parameters[\"W1\"],x) + parameters[\"b1\"]\n",
    "        h1 = sigmoid(a1)\n",
    "        a2 = np.dot(parameters[\"W2\"],h1) + parameters[\"b2\"]\n",
    "        h2 = sigmoid(a2)\n",
    "        a3 = np.dot(parameters[\"W3\"],h2) + parameters[\"b3\"]\n",
    "        h3 = softmax(a3)\n",
    "        # Gradients for Backpropogation\n",
    "        \n",
    "        dL_da3 = -( y - h3)\n",
    "        dL_dW3 = np.dot(dL_da3 , h2.T)\n",
    "        dL_db3 = ((dL_da3))\n",
    "        \n",
    "        dL_dh2 = np.dot(parameters[\"W3\"].T , dL_da3)\n",
    "        dL_da2 = np.multiply(dL_dh2,sigmoid_derivative(a2))\n",
    "        dL_dW2 = np.dot(dL_da2 , h1.T)\n",
    "        dL_db2 = ((dL_da2))\n",
    "        \n",
    "        dL_dh1 = np.dot(parameters[\"W2\"].T , dL_da2)\n",
    "        dL_da1 = np.multiply(dL_dh1,sigmoid_derivative(a1))\n",
    "        dL_dW1 = np.dot(dL_da1 , x.T)\n",
    "        dL_db1 = ((dL_da1))\n",
    "        \n",
    "        # GD Updates\n",
    "        parameters[\"W3\"] = parameters[\"W3\"] - (alpha)*dL_dW3\n",
    "        parameters[\"b3\"] = parameters[\"b3\"] - (alpha)*dL_db3\n",
    "        parameters[\"W2\"] = parameters[\"W2\"] - (alpha)*dL_dW2\n",
    "        parameters[\"b2\"] = parameters[\"b2\"] - (alpha)*dL_db2\n",
    "        parameters[\"W1\"] = parameters[\"W1\"] - (alpha)*dL_dW1\n",
    "        parameters[\"b1\"] = parameters[\"b1\"] - (alpha)*dL_db1\n",
    "        cost_total = cost_total + compute_cost(h3,y)\n",
    "        \n",
    "    cost_avg = cost_total/N\n",
    "    costs.append(cost_avg)\n",
    "        \n",
    "plt.plot(costs)\n",
    "print(\"Training Cost\",costs[-1])"
   ]
  },
  {
   "cell_type": "code",
   "execution_count": 21,
   "metadata": {},
   "outputs": [
    {
     "name": "stdout",
     "output_type": "stream",
     "text": [
      "Y= [0. 1. 0. 0.] \t\n",
      "y= [[0.01834289]\n",
      " [0.96656049]\n",
      " [0.00182554]\n",
      " [0.01327108]]\n"
     ]
    }
   ],
   "source": [
    "# Prediction\n",
    "k= 1020\n",
    "a1 = np.dot(parameters[\"W1\"],np.asmatrix(X[k]).T)+ parameters[\"b1\"]\n",
    "h1 = sigmoid(a1)\n",
    "a2 = np.dot(parameters[\"W2\"],h1) + parameters[\"b2\"]\n",
    "h2 = sigmoid(a2)\n",
    "a3 = np.dot(parameters[\"W3\"],h2) + parameters[\"b3\"]\n",
    "h3 = softmax(a3)\n",
    "print(\"Y=\",Y[k],\"\\t\\ny=\",h3)"
   ]
  },
  {
   "cell_type": "code",
   "execution_count": 22,
   "metadata": {},
   "outputs": [
    {
     "name": "stdout",
     "output_type": "stream",
     "text": [
      "Cost of test set 0.6949029794609515\n"
     ]
    }
   ],
   "source": [
    "# Prediction on test set\n",
    "#Forward Propogation\n",
    "a1t = np.dot(parameters[\"W1\"],Xt.T) + parameters[\"b1\"]\n",
    "h1t = sigmoid(a1t)\n",
    "a2t = np.dot(parameters[\"W2\"],h1t) + parameters[\"b2\"]\n",
    "h2t = sigmoid(a2t)\n",
    "a3t = np.dot(parameters[\"W3\"],h2t) + parameters[\"b3\"]\n",
    "h3t = softmax(a3t)\n",
    "print(\"Cost of test set\",compute_cost(h3t.T,Yt))"
   ]
  },
  {
   "cell_type": "code",
   "execution_count": 23,
   "metadata": {},
   "outputs": [
    {
     "name": "stdout",
     "output_type": "stream",
     "text": [
      "The number of datapoints in test set wrongly labeled by the NN is/are  415 out of total  2700 datapoints\n",
      "The accuracy on test set is  84.62962962962963\n"
     ]
    }
   ],
   "source": [
    "# Converting Predictions into lables\n",
    "y_pred = np.asmatrix(np.argmax(h3t.T,axis = 1))\n",
    "\n",
    "# Checking number of mislables in test set\n",
    "mislabel_index = []\n",
    "YYYY= np.asmatrix(np.argmax(Yt,axis=1)).T\n",
    "count = 0\n",
    "for i in range(len(YYYY)):\n",
    "    if y_pred[i] != YYYY[i]:\n",
    "        mislabel_index.append(i)\n",
    "        count = count+1\n",
    "print(\"The number of datapoints in test set wrongly labeled by the NN is/are \",count,\"out of total \",Nt,\"datapoints\")\n",
    "print(\"The accuracy on test set is \",(1-(count/len(YYYY)))*100)"
   ]
  },
  {
   "cell_type": "code",
   "execution_count": null,
   "metadata": {},
   "outputs": [],
   "source": []
  }
 ],
 "metadata": {
  "kernelspec": {
   "display_name": "Python 3",
   "language": "python",
   "name": "python3"
  },
  "language_info": {
   "codemirror_mode": {
    "name": "ipython",
    "version": 3
   },
   "file_extension": ".py",
   "mimetype": "text/x-python",
   "name": "python",
   "nbconvert_exporter": "python",
   "pygments_lexer": "ipython3",
   "version": "3.8.5"
  }
 },
 "nbformat": 4,
 "nbformat_minor": 2
}
