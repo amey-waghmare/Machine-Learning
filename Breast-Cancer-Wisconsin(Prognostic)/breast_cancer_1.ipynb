{
 "cells": [
  {
   "cell_type": "code",
   "execution_count": 1,
   "metadata": {},
   "outputs": [],
   "source": [
    "import numpy as np\n",
    "import matplotlib.pyplot as plt\n",
    "import pandas as pd"
   ]
  },
  {
   "cell_type": "code",
   "execution_count": 2,
   "metadata": {},
   "outputs": [],
   "source": [
    "# Reading the data, dividing it into Train set and Test set\n",
    "data = pd.read_csv('wdbc.csv',header=None)\n",
    "data2 = data.copy()\n",
    "\n",
    "train = data2.sample(frac=0.80,random_state=0)\n",
    "test = data2.drop(train.index)\n",
    "\n",
    "X = train.iloc[:,2:32].to_numpy()\n",
    "y = train[1].map({'M':1,'B':0})\n",
    "y = y.to_numpy()\n",
    "y = np.asmatrix(y).T\n",
    "\n",
    "N,p = X.shape "
   ]
  },
  {
   "cell_type": "code",
   "execution_count": 3,
   "metadata": {},
   "outputs": [],
   "source": [
    "# Standardization\n",
    "standardization_data = {}\n",
    "\n",
    "for i in range(p):\n",
    "    standardization_data[\"mean_\"+str(i)] = np.mean(X[:,i])\n",
    "    standardization_data[\"std_\"+str(i)] = np.std(X[:,i])\n",
    "\n",
    "for i in range(p):\n",
    "    X[:,i] = ( X[:,i] - standardization_data[\"mean_\"+str(i)] ) / (standardization_data[\"std_\"+str(i)])"
   ]
  },
  {
   "cell_type": "code",
   "execution_count": 4,
   "metadata": {},
   "outputs": [],
   "source": [
    "# Adding a Column of ones at the begining (Bias element)\n",
    "\n",
    "one = np.ones(N)\n",
    "X = np.vstack((one,X.T)).T"
   ]
  },
  {
   "cell_type": "code",
   "execution_count": 5,
   "metadata": {},
   "outputs": [
    {
     "name": "stdout",
     "output_type": "stream",
     "text": [
      "The Final Cost is  0.031884608856919336\n"
     ]
    },
    {
     "data": {
      "image/png": "[encoded data removed]",
      "text/plain": [
       "<Figure size 432x288 with 1 Axes>"
      ]
     },
     "metadata": {
      "needs_background": "light"
     },
     "output_type": "display_data"
    }
   ],
   "source": [
    "# Gradient Descent\n",
    "iterations = 200000\n",
    "alpha = 0.005\n",
    "\n",
    "#theta = np.array([0.2,-0.6,0.9,0.4,-0.6])\n",
    "theta = (0.01)*np.random.randn(p+1)\n",
    "theta = np.asmatrix(theta).T\n",
    "\n",
    "h_theta = X@theta\n",
    "costs = np.zeros((iterations,1))\n",
    "#J = 20\n",
    "f = 0\n",
    "for i in range(iterations):\n",
    "    h_theta = X@theta\n",
    "    grad = (1/N) * (((h_theta - y).T)@X).T\n",
    "    \n",
    "    J = (1/(2*N)) * np.matmul((h_theta - y).T,(h_theta - y))    \n",
    "    costs[i][0]=J\n",
    "    \n",
    "    theta = theta - ((alpha/N) * grad)\n",
    "    f=f+1\n",
    "\n",
    "y_pred = X@theta\n",
    "print(\"The Final Cost is \",costs[-1,0])\n",
    "plt.plot(costs)\n",
    "plt.grid()\n",
    "plt.show()"
   ]
  },
  {
   "cell_type": "code",
   "execution_count": 6,
   "metadata": {},
   "outputs": [],
   "source": [
    "# For Testing data\n",
    "\n",
    "Xt = test.iloc[:,2:32].to_numpy()\n",
    "yt = test[1].map({'M':1,'B':0})\n",
    "yt = yt.to_numpy()\n",
    "yt = np.asmatrix(yt).T\n",
    "\n",
    "for i in range(p):\n",
    "    Xt[:,i] = ( Xt[:,i] - standardization_data[\"mean_\"+str(i)] ) / (standardization_data[\"std_\"+str(i)])\n",
    "\n",
    "# Bias elements\n",
    "Nt,pt = Xt.shape\n",
    "one = np.ones(Nt)\n",
    "Xt = np.vstack((one,Xt.T)).T\n",
    "\n",
    "y_predtest = Xt@theta"
   ]
  },
  {
   "cell_type": "code",
   "execution_count": 7,
   "metadata": {},
   "outputs": [
    {
     "name": "stdout",
     "output_type": "stream",
     "text": [
      "Out of total 455 training datapoints,  429 are Predicted correctly\n",
      "The Accuracy is  94.28571428571428\n"
     ]
    }
   ],
   "source": [
    "# Finding number of wrong predictions for training set\n",
    "for i in range(len(y_pred)):\n",
    "    if y_pred[i]>0.5:\n",
    "        y_pred[i] = 1\n",
    "    else:\n",
    "        y_pred[i] = 0\n",
    "\n",
    "mismatch=0\n",
    "for i in range(len(y_pred)):\n",
    "    if y_pred[i] != y[i]:\n",
    "        mismatch=mismatch+1\n",
    "        \n",
    "print(\"Out of total\",N,\"training datapoints, \",N-mismatch,\"are Predicted correctly\")\n",
    "print(\"The Accuracy is \",((N-mismatch)/N )*100 )"
   ]
  },
  {
   "cell_type": "code",
   "execution_count": 8,
   "metadata": {},
   "outputs": [
    {
     "name": "stdout",
     "output_type": "stream",
     "text": [
      "Out of total 114 test datapoints,  113 are Predicted correctly\n",
      "The Accuracy is  99.12280701754386\n"
     ]
    }
   ],
   "source": [
    "# Finding number of wrong predictions for Test set\n",
    "#print(y_predtest)\n",
    "for i in range(len(y_predtest)):\n",
    "    if y_predtest[i]>0.4:\n",
    "        y_predtest[i] = 1\n",
    "    else:\n",
    "        y_predtest[i] = 0\n",
    "\n",
    "mismatcht=0\n",
    "for i in range(len(y_predtest)):\n",
    "    if y_predtest[i] != yt[i]:\n",
    "        mismatcht=mismatcht+1\n",
    "        \n",
    "print(\"Out of total\",Nt,\"test datapoints, \",Nt-mismatcht,\"are Predicted correctly\")\n",
    "print(\"The Accuracy is \",((Nt-mismatcht)/Nt )*100 ) "
   ]
  }
 ],
 "metadata": {
  "kernelspec": {
   "display_name": "Python 3",
   "language": "python",
   "name": "python3"
  },
  "language_info": {
   "codemirror_mode": {
    "name": "ipython",
    "version": 3
   },
   "file_extension": ".py",
   "mimetype": "text/x-python",
   "name": "python",
   "nbconvert_exporter": "python",
   "pygments_lexer": "ipython3",
   "version": "3.7.4"
  }
 },
 "nbformat": 4,
 "nbformat_minor": 2
}
