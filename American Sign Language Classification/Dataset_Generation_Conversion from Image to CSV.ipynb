{
 "cells": [
  {
   "cell_type": "code",
   "execution_count": 1,
   "metadata": {},
   "outputs": [],
   "source": [
    "import numpy as np\n",
    "import matplotlib.pyplot as plt\n",
    "from PIL import Image     # To load image, then it is converted to numpy array using np.array() command"
   ]
  },
  {
   "cell_type": "code",
   "execution_count": 2,
   "metadata": {},
   "outputs": [
    {
     "data": {
      "text/plain": [
       "(700, 7501)"
      ]
     },
     "execution_count": 2,
     "metadata": {},
     "output_type": "execute_result"
    }
   ],
   "source": [
    "# Right now dataset is of the form (p,N)\n",
    "\n",
    "name_list = [\"bot\",\"dif\",\"left\",\"right\",\"top\"]\n",
    "\n",
    "dataset = np.zeros((7500,1))\n",
    "for a in range(0,10):\n",
    "    # This loop flattens RGB images\n",
    "    # This loop is for hand1, hand2, hand3\n",
    "    for k in range(1,3):                                      # hand_number\n",
    "        for j in range(len(name_list)):                       # name_list\n",
    "            for i in range(1,6):                              # seg_\n",
    "                photo = Image.open(\"asl_dataset/\"+str(a)+\"/hand\"+str(k)+\"_\"+str(a)+\"_\"+name_list[j]+\"_seg_\"+str(i)+\"_cropped.jpeg\")\n",
    "                resized_photo = photo.resize((50,50))\n",
    "                #resized_photo.show()\n",
    "                numpy_photo = np.array(resized_photo,dtype = \"int\")\n",
    "                flattened_photo = numpy_photo.reshape(50*50*3,1)\n",
    "                dataset = np.hstack((dataset,flattened_photo))\n",
    "    \n",
    "    # hand3\n",
    "    for i in range(1,6):                              # seg_\n",
    "        photo = Image.open(\"asl_dataset/\"+str(a)+\"/hand3_\"+str(a)+\"_dif_seg_\"+str(i)+\"_cropped.jpeg\")\n",
    "        resized_photo = photo.resize((50,50))\n",
    "        #resized_photo.show()\n",
    "        numpy_photo = np.array(resized_photo,dtype = \"int\")\n",
    "        flattened_photo = numpy_photo.reshape(50*50*3,1)\n",
    "        dataset = np.hstack((dataset,flattened_photo))\n",
    "    \n",
    "    # hand4\n",
    "    for i in range(1,6):                              # seg_\n",
    "        photo = Image.open(\"asl_dataset/\"+str(a)+\"/hand4_\"+str(a)+\"_bot_seg_\"+str(i)+\"_cropped.jpeg\")\n",
    "        resized_photo = photo.resize((50,50))\n",
    "        #resized_photo.show()\n",
    "        numpy_photo = np.array(resized_photo,dtype = \"int\")\n",
    "        flattened_photo = numpy_photo.reshape(50*50*3,1)\n",
    "        dataset = np.hstack((dataset,flattened_photo))       \n",
    "    # hand5\n",
    "    name_hand5 = [\"bot\",\"dif\"]\n",
    "    for k in range(0,2):                                  # [\"bot\",\"dif\"]\n",
    "        for i in range(1,6):                              # seg_\n",
    "            photo = Image.open(\"asl_dataset/\"+str(a)+\"/hand5_\"+str(a)+\"_\"+name_hand5[k]+\"_seg_\"+str(i)+\"_cropped.jpeg\")\n",
    "            resized_photo = photo.resize((50,50))\n",
    "            #resized_photo.show()\n",
    "            numpy_photo = np.array(resized_photo,dtype = \"int\")\n",
    "            flattened_photo = numpy_photo.reshape(50*50*3,1)\n",
    "            dataset = np.hstack((dataset,flattened_photo))\n",
    "\n",
    "dataset = dataset[:,1:]\n",
    "dataset = dataset.T         # Converting dataset into (N,p) shape\n",
    "# Labeling\n",
    "N,p = dataset.shape\n",
    "labels_dict = {}\n",
    "for i in range(1,10):\n",
    "    labels_dict[\"label_\"+str(i)] = np.zeros((int(N/10),1)) + i\n",
    "label = np.zeros((int(N/10),1))\n",
    "for i in range(1,10):\n",
    "    label = np.vstack((label,labels_dict[\"label_\"+str(i)]))\n",
    "dataset_new = np.hstack((dataset,label))\n",
    "dataset_new.shape"
   ]
  },
  {
   "cell_type": "code",
   "execution_count": 14,
   "metadata": {},
   "outputs": [],
   "source": [
    "# Saving the numeric dataset into a csv file\n",
    "np.savetxt(\"asl_numeric.csv\", dataset_new, delimiter = \",\")"
   ]
  },
  {
   "cell_type": "code",
   "execution_count": null,
   "metadata": {},
   "outputs": [],
   "source": []
  },
  {
   "cell_type": "code",
   "execution_count": 35,
   "metadata": {},
   "outputs": [
    {
     "data": {
      "text/plain": [
       "(1820, 7501)"
      ]
     },
     "execution_count": 35,
     "metadata": {},
     "output_type": "execute_result"
    }
   ],
   "source": [
    "# For alphabets\n",
    "# Right now dataset is of the form (p,N)\n",
    "name_list = [\"bot\",\"dif\",\"left\",\"right\",\"top\"]\n",
    "\n",
    "dataset_alp = np.zeros((7500,1))\n",
    "for a in range(97,123):\n",
    "    # This loop flattens RGB images\n",
    "    # This loop is for hand1, hand2, hand3\n",
    "    for k in range(1,3):                                      # hand_number\n",
    "        for j in range(len(name_list)):                       # name_list\n",
    "            for i in range(1,6):                              # seg_\n",
    "                photo = Image.open(\"asl_dataset/\"+chr(a)+\"/hand\"+str(k)+\"_\"+chr(a)+\"_\"+name_list[j]+\"_seg_\"+str(i)+\"_cropped.jpeg\")\n",
    "                resized_photo = photo.resize((50,50))\n",
    "                #resized_photo.show()\n",
    "                numpy_photo = np.array(resized_photo,dtype = \"int\")\n",
    "                flattened_photo = numpy_photo.reshape(50*50*3,1)\n",
    "                dataset_alp = np.hstack((dataset_alp,flattened_photo))\n",
    "    \n",
    "    # hand3\n",
    "    for i in range(1,6):                              # seg_\n",
    "        photo = Image.open(\"asl_dataset/\"+chr(a)+\"/hand3_\"+chr(a)+\"_dif_seg_\"+str(i)+\"_cropped.jpeg\")\n",
    "        resized_photo = photo.resize((50,50))\n",
    "        #resized_photo.show()\n",
    "        numpy_photo = np.array(resized_photo,dtype = \"int\")\n",
    "        flattened_photo = numpy_photo.reshape(50*50*3,1)\n",
    "        dataset_alp = np.hstack((dataset_alp,flattened_photo))\n",
    "    \n",
    "    # hand4\n",
    "    for i in range(1,6):                              # seg_\n",
    "        photo = Image.open(\"asl_dataset/\"+chr(a)+\"/hand4_\"+chr(a)+\"_bot_seg_\"+str(i)+\"_cropped.jpeg\")\n",
    "        resized_photo = photo.resize((50,50))\n",
    "        #resized_photo.show()\n",
    "        numpy_photo = np.array(resized_photo,dtype = \"int\")\n",
    "        flattened_photo = numpy_photo.reshape(50*50*3,1)\n",
    "        dataset_alp = np.hstack((dataset_alp,flattened_photo))       \n",
    "    # hand5\n",
    "    name_hand5 = [\"bot\",\"dif\"]\n",
    "    for k in range(0,2):                                  # [\"bot\",\"dif\"]\n",
    "        for i in range(1,6):                              # seg_\n",
    "            photo = Image.open(\"asl_dataset/\"+chr(a)+\"/hand5_\"+chr(a)+\"_\"+name_hand5[k]+\"_seg_\"+str(i)+\"_cropped.jpeg\")\n",
    "            resized_photo = photo.resize((50,50))\n",
    "            #resized_photo.show()\n",
    "            numpy_photo = np.array(resized_photo,dtype = \"int\")\n",
    "            flattened_photo = numpy_photo.reshape(50*50*3,1)\n",
    "            dataset_alp = np.hstack((dataset_alp,flattened_photo))\n",
    "\n",
    "dataset_alp = dataset_alp[:,1:]\n",
    "dataset_alp = dataset_alp.T         # Converting dataset into (N,p) shape\n",
    "# Labeling\n",
    "N,p = dataset.shape\n",
    "labels_dict = {}\n",
    "for i in range(11,36):\n",
    "    labels_dict[\"label_\"+str(i)] = np.zeros((int(N/10),1)) + i\n",
    "label = np.zeros((int(N/10),1)) + 10\n",
    "for i in range(11,36):\n",
    "    label = np.vstack((label,labels_dict[\"label_\"+str(i)]))\n",
    "dataset_new_alp = np.hstack((dataset_alp,label))\n",
    "dataset_new_alp.shape"
   ]
  },
  {
   "cell_type": "code",
   "execution_count": 38,
   "metadata": {},
   "outputs": [],
   "source": [
    "# Saving the alphabet dataset into a csv file\n",
    "np.savetxt(\"asl_alphabet.csv\", dataset_new_alp, delimiter = \",\")"
   ]
  },
  {
   "cell_type": "code",
   "execution_count": 24,
   "metadata": {},
   "outputs": [],
   "source": []
  },
  {
   "cell_type": "code",
   "execution_count": null,
   "metadata": {},
   "outputs": [],
   "source": []
  },
  {
   "cell_type": "code",
   "execution_count": null,
   "metadata": {},
   "outputs": [],
   "source": []
  },
  {
   "cell_type": "code",
   "execution_count": null,
   "metadata": {},
   "outputs": [],
   "source": []
  },
  {
   "cell_type": "code",
   "execution_count": 10,
   "metadata": {},
   "outputs": [
    {
     "data": {
      "text/plain": [
       "11"
      ]
     },
     "execution_count": 10,
     "metadata": {},
     "output_type": "execute_result"
    }
   ],
   "source": []
  },
  {
   "cell_type": "code",
   "execution_count": null,
   "metadata": {},
   "outputs": [],
   "source": []
  },
  {
   "cell_type": "code",
   "execution_count": 108,
   "metadata": {},
   "outputs": [
    {
     "data": {
      "text/plain": [
       "True"
      ]
     },
     "execution_count": 108,
     "metadata": {},
     "output_type": "execute_result"
    }
   ],
   "source": [
    "comparison = data_0[55] == data_3[55]\n",
    "equal_arrays = comparison.all()\n",
    "equal_arrays"
   ]
  },
  {
   "cell_type": "code",
   "execution_count": 87,
   "metadata": {},
   "outputs": [
    {
     "data": {
      "text/plain": [
       "(7501,)"
      ]
     },
     "execution_count": 87,
     "metadata": {},
     "output_type": "execute_result"
    }
   ],
   "source": [
    "data_1[0].shape"
   ]
  },
  {
   "cell_type": "code",
   "execution_count": 89,
   "metadata": {},
   "outputs": [
    {
     "data": {
      "text/plain": [
       "(7500,)"
      ]
     },
     "execution_count": 89,
     "metadata": {},
     "output_type": "execute_result"
    }
   ],
   "source": [
    "data_3[0].shape"
   ]
  },
  {
   "cell_type": "code",
   "execution_count": 103,
   "metadata": {},
   "outputs": [
    {
     "data": {
      "image/png": "[encoded data removed]",
      "text/plain": [
       "<PIL.Image.Image image mode=RGB size=50x50 at 0x2B5ACACED88>"
      ]
     },
     "execution_count": 103,
     "metadata": {},
     "output_type": "execute_result"
    }
   ],
   "source": [
    "Image.fromarray(np.uint8(data_0[0].reshape(50,50,3)))"
   ]
  },
  {
   "cell_type": "code",
   "execution_count": 100,
   "metadata": {},
   "outputs": [
    {
     "data": {
      "image/png": "[encoded data removed]",
      "text/plain": [
       "<PIL.Image.Image image mode=RGB size=50x50 at 0x2B5B063B0C8>"
      ]
     },
     "execution_count": 100,
     "metadata": {},
     "output_type": "execute_result"
    }
   ],
   "source": [
    "Image.fromarray(np.uint8(data_3[0].reshape(50,50,3)))"
   ]
  },
  {
   "cell_type": "code",
   "execution_count": null,
   "metadata": {},
   "outputs": [],
   "source": [
    "# Right now dataset is of the form (p,N)\n",
    "\n",
    "name_list = [\"bot\",\"dif\",\"left\",\"right\",\"top\"]\n",
    "\n",
    "data_0 = np.zeros((7500,1))\n",
    "# This loop flattens RGB images\n",
    "# This loop is for hand1, hand2, hand3\n",
    "for k in range(1,3):                                      # hand_number\n",
    "    for j in range(len(name_list)):                       # name_list\n",
    "        for i in range(1,6):                              # seg_\n",
    "            photo = Image.open(\"asl_dataset/0/hand\"+str(k)+\"_0_\"+name_list[j]+\"_seg_\"+str(i)+\"_cropped.jpeg\")\n",
    "            resized_photo = photo.resize((50,50))\n",
    "            #resized_photo.show()\n",
    "            numpy_photo = np.array(resized_photo,dtype = \"int\")\n",
    "            flattened_photo = numpy_photo.reshape(50*50*3,1)\n",
    "            data_0 = np.hstack((data_0,flattened_photo))\n",
    "\n",
    "# hand3\n",
    "for i in range(1,6):                              # seg_\n",
    "    photo = Image.open(\"asl_dataset/0/hand3_0_dif_seg_\"+str(i)+\"_cropped.jpeg\")\n",
    "    resized_photo = photo.resize((50,50))\n",
    "    #resized_photo.show()\n",
    "    numpy_photo = np.array(resized_photo,dtype = \"int\")\n",
    "    flattened_photo = numpy_photo.reshape(50*50*3,1)\n",
    "    data_0 = np.hstack((data_0,flattened_photo))\n",
    "\n",
    "# hand4\n",
    "for i in range(1,6):                              # seg_\n",
    "    photo = Image.open(\"asl_dataset/0/hand4_0_bot_seg_\"+str(i)+\"_cropped.jpeg\")\n",
    "    resized_photo = photo.resize((50,50))\n",
    "    #resized_photo.show()\n",
    "    numpy_photo = np.array(resized_photo,dtype = \"int\")\n",
    "    flattened_photo = numpy_photo.reshape(50*50*3,1)\n",
    "    data_0 = np.hstack((data_0,flattened_photo))       \n",
    "# hand5\n",
    "name_hand5 = [\"bot\",\"dif\"]\n",
    "for k in range(0,2):                                  # [\"bot\",\"dif\"]\n",
    "    for i in range(1,6):                              # seg_\n",
    "        photo = Image.open(\"asl_dataset/0/hand5_0_\"+name_hand5[k]+\"_seg_\"+str(i)+\"_cropped.jpeg\")\n",
    "        resized_photo = photo.resize((50,50))\n",
    "        #resized_photo.show()\n",
    "        numpy_photo = np.array(resized_photo,dtype = \"int\")\n",
    "        flattened_photo = numpy_photo.reshape(50*50*3,1)\n",
    "        data_0 = np.hstack((data_0,flattened_photo))\n",
    "\n",
    "data_0 = data_0[:,1:]\n",
    "data_0 = data_0.T         # Converting dataset into (N,p) shape\n",
    "\n",
    "N,p = data_0.shape\n",
    "value = np.zeros((N,1)) + 0\n",
    "#data_0 = np.hstack((data_0,value))"
   ]
  }
 ],
 "metadata": {
  "kernelspec": {
   "display_name": "Python 3",
   "language": "python",
   "name": "python3"
  },
  "language_info": {
   "codemirror_mode": {
    "name": "ipython",
    "version": 3
   },
   "file_extension": ".py",
   "mimetype": "text/x-python",
   "name": "python",
   "nbconvert_exporter": "python",
   "pygments_lexer": "ipython3",
   "version": "3.9.5"
  }
 },
 "nbformat": 4,
 "nbformat_minor": 2
}
