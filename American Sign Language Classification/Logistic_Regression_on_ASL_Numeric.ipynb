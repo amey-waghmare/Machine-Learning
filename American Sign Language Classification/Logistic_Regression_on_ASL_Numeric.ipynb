{
 "cells": [
  {
   "cell_type": "code",
   "execution_count": 1,
   "metadata": {},
   "outputs": [],
   "source": [
    "import numpy as np\n",
    "import matplotlib.pyplot as plt\n",
    "import pandas as pd\n",
    "from tqdm import tqdm"
   ]
  },
  {
   "cell_type": "code",
   "execution_count": 2,
   "metadata": {},
   "outputs": [],
   "source": [
    "dataset = np.loadtxt(\"asl_numeric.csv\",delimiter= \",\")\n",
    "np.random.shuffle(dataset)\n",
    "\n",
    "len_dataset = dataset.shape[0]\n",
    "\n",
    "train = dataset[:int(0.75*len_dataset),:]\n",
    "X = train[:,:-1]\n",
    "Y = train[:,-1]\n",
    "Y = pd.get_dummies(Y)\n",
    "Y = Y.to_numpy()\n",
    "\n",
    "test = dataset[int(0.75*len_dataset):,:]\n",
    "Xt = test[:,:-1]\n",
    "Yt = test[:,-1]\n",
    "Yt = pd.get_dummies(Yt)\n",
    "Yt = Yt.to_numpy()\n",
    "\n",
    "N,p = X.shape\n",
    "Nt,pt = Xt.shape\n",
    "out_neurons = len(Y[0])"
   ]
  },
  {
   "cell_type": "code",
   "execution_count": 3,
   "metadata": {},
   "outputs": [],
   "source": [
    "# Data standardization\n",
    "X = X/255\n",
    "Xt = Xt/255"
   ]
  },
  {
   "cell_type": "code",
   "execution_count": 4,
   "metadata": {},
   "outputs": [],
   "source": [
    "# Function to calculate cost\n",
    "def compute_cost(h,Y):\n",
    "    N = Y.shape[0]\n",
    "    logprobs = np.multiply(Y,np.log(h)) + np.multiply(1-Y,np.log(1-h))\n",
    "    cost = (-1/N)*np.sum(logprobs)\n",
    "    \n",
    "    cost = float(np.squeeze(cost))  # return [[17]] as 17\n",
    "    return cost"
   ]
  },
  {
   "cell_type": "code",
   "execution_count": 5,
   "metadata": {},
   "outputs": [],
   "source": [
    "def sigmoid(x):\n",
    "    return ((1)/(1+np.exp(-x)))\n",
    "\n",
    "def sigmoid_derivative(x):\n",
    "    result = np.multiply(sigmoid(x) , (1-sigmoid(x)))\n",
    "    return(result)"
   ]
  },
  {
   "cell_type": "code",
   "execution_count": 6,
   "metadata": {},
   "outputs": [],
   "source": [
    "def softmax(x):\n",
    "    num = np.exp(x)\n",
    "    den = np.sum(num,axis = 0,keepdims = True)\n",
    "    return (num / den)"
   ]
  },
  {
   "cell_type": "code",
   "execution_count": 7,
   "metadata": {},
   "outputs": [],
   "source": [
    "# Neural Network Model parameters initialization function, parameters to be saved in a dictionary\n",
    "def parameter_init(layers):\n",
    "    parameters = {}\n",
    "    for i in range(1,len(layers)):\n",
    "        parameters[\"W\"+str(i)] = 0.01*np.random.randn(layers[i],layers[i-1])\n",
    "        parameters[\"b\"+str(i)] = np.zeros((layers[i],1))\n",
    "    return (parameters)"
   ]
  },
  {
   "cell_type": "code",
   "execution_count": 8,
   "metadata": {},
   "outputs": [],
   "source": [
    "# Structure of Neural network, saved into a list to modify easily\n",
    "structure = [p,3000,300,out_neurons]\n",
    "\n",
    "# Initialize parameters\n",
    "parameters = parameter_init(structure)"
   ]
  },
  {
   "cell_type": "code",
   "execution_count": 9,
   "metadata": {},
   "outputs": [
    {
     "name": "stderr",
     "output_type": "stream",
     "text": [
      "100%|██████████| 300/300 [23:34<00:00,  4.71s/it]\n"
     ]
    },
    {
     "name": "stdout",
     "output_type": "stream",
     "text": [
      "Training Cost 0.025892332488252096\n"
     ]
    },
    {
     "data": {
      "image/png": "[encoded data removed]",
      "text/plain": [
       "<Figure size 432x288 with 1 Axes>"
      ]
     },
     "metadata": {
      "needs_background": "light"
     },
     "output_type": "display_data"
    }
   ],
   "source": [
    "# Implementation of Network using Gradient Descent\n",
    "epochs = 300\n",
    "alpha = 0.005\n",
    "costs = []\n",
    "\n",
    "t = 0\n",
    "beta1 = 0.9\n",
    "beta2 = 0.999\n",
    "epsilon = 1e-8\n",
    "\n",
    "mW3 = np.zeros_like(parameters[\"W3\"])\n",
    "mb3 = np.zeros_like(parameters[\"b3\"])\n",
    "vW3 = np.zeros_like(parameters[\"W3\"])\n",
    "vb3 = np.zeros_like(parameters[\"b3\"])\n",
    "\n",
    "mW2 = np.zeros_like(parameters[\"W2\"])\n",
    "mb2 = np.zeros_like(parameters[\"b2\"])\n",
    "vW2 = np.zeros_like(parameters[\"W2\"])\n",
    "vb2 = np.zeros_like(parameters[\"b2\"])\n",
    "\n",
    "mW1 = np.zeros_like(parameters[\"W1\"])\n",
    "mb1 = np.zeros_like(parameters[\"b1\"])\n",
    "vW1 = np.zeros_like(parameters[\"W1\"])\n",
    "vb1 = np.zeros_like(parameters[\"b1\"])\n",
    "\n",
    "\n",
    "for num in tqdm(range(epochs)):\n",
    "    #Forward Propogation\n",
    "    a1 = np.dot(parameters[\"W1\"],X.T) + parameters[\"b1\"]\n",
    "    h1 = sigmoid(a1)\n",
    "    a2 = np.dot(parameters[\"W2\"],h1) + parameters[\"b2\"]\n",
    "    h2 = sigmoid(a2)\n",
    "    a3 = np.dot(parameters[\"W3\"],h2) + parameters[\"b3\"]\n",
    "    h3 = softmax(a3)\n",
    "    # Gradients for Backpropogation\n",
    "    \n",
    "    dL_da3 = -( Y.T - h3)\n",
    "    dL_dW3 = (1/N)*np.dot(dL_da3 , h2.T)\n",
    "    dL_db3 = (1/N)*(np.sum(dL_da3,axis=1,keepdims = True))\n",
    "    \n",
    "    dL_dh2 = np.dot(parameters[\"W3\"].T , dL_da3)\n",
    "    dL_da2 = np.multiply(dL_dh2,sigmoid_derivative(a2))\n",
    "    dL_dW2 = (1/N)*np.dot(dL_da2 , h1.T)\n",
    "    dL_db2 = (1/N)*(np.sum(dL_da2,axis=1,keepdims = True))\n",
    "    \n",
    "    dL_dh1 = np.dot(parameters[\"W2\"].T , dL_da2)\n",
    "    dL_da1 = np.multiply(dL_dh1,sigmoid_derivative(a1))\n",
    "    dL_dW1 = (1/N)*np.dot(dL_da1 , X)\n",
    "    dL_db1 = (1/N)*(np.sum(dL_da1,axis = 1,keepdims = True))\n",
    "    \n",
    "    # GD Updates\n",
    "    t = t + 1     # For Adam\n",
    "    \n",
    "    mW3 =  (beta1*mW3) + ((1-beta1)*dL_dW3)\n",
    "    vW3 =  (beta2*vW3) + ((1-beta2)*np.square(dL_dW3))\n",
    "    mW3_correct = mW3/(1-np.power(beta1,t))\n",
    "    vW3_correct = vW3/(1-np.power(beta2,t))\n",
    "    parameters[\"W3\"] = parameters[\"W3\"] - alpha*(mW3_correct/np.sqrt(vW3_correct + epsilon))\n",
    "    \n",
    "    mb3 =  (beta1*mb3) + ((1-beta1)*dL_db3)\n",
    "    vb3 =  (beta2*vb3) + ((1-beta2)*np.square(dL_db3))\n",
    "    mb3_correct = mb3/(1-np.power(beta1,t))\n",
    "    vb3_correct = vb3/(1-np.power(beta2,t))\n",
    "    parameters[\"b3\"] = parameters[\"b3\"] - alpha*(mb3_correct/np.sqrt(vb3_correct + epsilon))\n",
    "    \n",
    "    mW2 =  (beta1*mW2) + ((1-beta1)*dL_dW2)\n",
    "    vW2 =  (beta2*vW2) + ((1-beta2)*np.square(dL_dW2))\n",
    "    mW2_correct = mW2/(1-np.power(beta1,t))\n",
    "    vW2_correct = vW2/(1-np.power(beta2,t))\n",
    "    parameters[\"W2\"] = parameters[\"W2\"] - alpha*(mW2_correct/np.sqrt(vW2_correct + epsilon))\n",
    "    \n",
    "    mb2 =  (beta1*mb2) + ((1-beta1)*dL_db2)\n",
    "    vb2 =  (beta2*vb2) + ((1-beta2)*np.square(dL_db2))\n",
    "    mb2_correct = mb2/(1-np.power(beta1,t))\n",
    "    vb2_correct = vb2/(1-np.power(beta2,t))\n",
    "    parameters[\"b2\"] = parameters[\"b2\"] - alpha*(mb2_correct/np.sqrt(vb2_correct + epsilon))\n",
    "    \n",
    "    mW1 =  (beta1*mW1) + ((1-beta1)*dL_dW1)\n",
    "    vW1 =  (beta2*vW1) + ((1-beta2)*np.square(dL_dW1))\n",
    "    mW1_correct = mW1/(1-np.power(beta1,t))\n",
    "    vW1_correct = vW1/(1-np.power(beta2,t))\n",
    "    parameters[\"W1\"] = parameters[\"W1\"] - alpha*(mW1_correct/np.sqrt(vW1_correct + epsilon))\n",
    "    \n",
    "    mb1 =  (beta1*mb1) + ((1-beta1)*dL_db1)\n",
    "    vb1 =  (beta2*vb1) + ((1-beta2)*np.square(dL_db1))\n",
    "    mb1_correct = mb1/(1-np.power(beta1,t))\n",
    "    vb1_correct = vb1/(1-np.power(beta2,t))\n",
    "    parameters[\"b1\"] = parameters[\"b1\"] - alpha*(mb1_correct/np.sqrt(vb1_correct + epsilon))\n",
    "    \n",
    "    costs.append(compute_cost(h3.T,Y))\n",
    "plt.plot(costs)\n",
    "print(\"Training Cost\",costs[-1])"
   ]
  },
  {
   "cell_type": "code",
   "execution_count": 20,
   "metadata": {},
   "outputs": [
    {
     "name": "stdout",
     "output_type": "stream",
     "text": [
      "Y= [0 0 0 0 1 0 0 0 0 0] \t\n",
      "y= [5.76296423e-04 2.74122772e-05 1.27476929e-05 4.81695110e-05\n",
      " 9.92933583e-01 1.84902024e-03 1.13233518e-04 1.80992820e-03\n",
      " 1.78105719e-03 8.48551460e-04]\n"
     ]
    }
   ],
   "source": [
    "# Prediction\n",
    "k = 500\n",
    "print(\"Y=\",Y[k],\"\\t\\ny=\",h3.T[k])"
   ]
  },
  {
   "cell_type": "code",
   "execution_count": 11,
   "metadata": {},
   "outputs": [
    {
     "name": "stdout",
     "output_type": "stream",
     "text": [
      "Cost of test set 0.12299381652629117\n"
     ]
    }
   ],
   "source": [
    "# Prediction on test set\n",
    "#Forward Propogation\n",
    "a1t = np.dot(parameters[\"W1\"],Xt.T) + parameters[\"b1\"]\n",
    "h1t = sigmoid(a1t)\n",
    "a2t = np.dot(parameters[\"W2\"],h1t) + parameters[\"b2\"]\n",
    "h2t = sigmoid(a2t)\n",
    "a3t = np.dot(parameters[\"W3\"],h2t) + parameters[\"b3\"]\n",
    "h3t = softmax(a3t)\n",
    "print(\"Cost of test set\",compute_cost(h3t.T,Yt))"
   ]
  },
  {
   "cell_type": "code",
   "execution_count": 17,
   "metadata": {},
   "outputs": [
    {
     "data": {
      "text/plain": [
       "2"
      ]
     },
     "execution_count": 17,
     "metadata": {},
     "output_type": "execute_result"
    }
   ],
   "source": [
    "y_pred = np.asmatrix(np.argmax(h3t.T,axis = 1)).T\n",
    "YYYY= np.asmatrix(np.argmax(Yt,axis=1)).T\n",
    "count = 0\n",
    "for i in range(len(YYYY)):\n",
    "    if y_pred[i] != YYYY[i]:\n",
    "        count = count+1\n",
    "count"
   ]
  },
  {
   "cell_type": "code",
   "execution_count": 18,
   "metadata": {},
   "outputs": [
    {
     "data": {
      "text/plain": [
       "98.85714285714286"
      ]
     },
     "execution_count": 18,
     "metadata": {},
     "output_type": "execute_result"
    }
   ],
   "source": [
    "(1-count/len(YYYY))*100"
   ]
  },
  {
   "cell_type": "code",
   "execution_count": 19,
   "metadata": {},
   "outputs": [
    {
     "data": {
      "text/plain": [
       "175"
      ]
     },
     "execution_count": 19,
     "metadata": {},
     "output_type": "execute_result"
    }
   ],
   "source": [
    "len(YYYY)"
   ]
  },
  {
   "cell_type": "code",
   "execution_count": null,
   "metadata": {},
   "outputs": [],
   "source": []
  }
 ],
 "metadata": {
  "kernelspec": {
   "display_name": "Python 3",
   "language": "python",
   "name": "python3"
  },
  "language_info": {
   "codemirror_mode": {
    "name": "ipython",
    "version": 3
   },
   "file_extension": ".py",
   "mimetype": "text/x-python",
   "name": "python",
   "nbconvert_exporter": "python",
   "pygments_lexer": "ipython3",
   "version": "3.8.5"
  }
 },
 "nbformat": 4,
 "nbformat_minor": 2
}
