{
 "cells": [
  {
   "cell_type": "code",
   "execution_count": 1,
   "id": "dc20f5d7",
   "metadata": {},
   "outputs": [],
   "source": [
    "import pandas as pd"
   ]
  },
  {
   "cell_type": "code",
   "execution_count": 4,
   "id": "b3e4a3d0",
   "metadata": {},
   "outputs": [],
   "source": [
    "df = pd.DataFrame(\n",
    "{\"a\" : [1 ,2, 3],\n",
    "\"b\" : [4, 5, 6],\n",
    "\"c\" : [7, 8, 9]},\n",
    "index = [1, 2, 3])"
   ]
  },
  {
   "cell_type": "code",
   "execution_count": 7,
   "id": "4cbb3c4b",
   "metadata": {},
   "outputs": [
    {
     "data": {
      "text/html": [
       "<div>\n",
       "<style scoped>\n",
       "    .dataframe tbody tr th:only-of-type {\n",
       "        vertical-align: middle;\n",
       "    }\n",
       "\n",
       "    .dataframe tbody tr th {\n",
       "        vertical-align: top;\n",
       "    }\n",
       "\n",
       "    .dataframe thead th {\n",
       "        text-align: right;\n",
       "    }\n",
       "</style>\n",
       "<table border=\"1\" class=\"dataframe\">\n",
       "  <thead>\n",
       "    <tr style=\"text-align: right;\">\n",
       "      <th></th>\n",
       "      <th>variable</th>\n",
       "      <th>value</th>\n",
       "    </tr>\n",
       "  </thead>\n",
       "  <tbody>\n",
       "    <tr>\n",
       "      <th>0</th>\n",
       "      <td>a</td>\n",
       "      <td>1</td>\n",
       "    </tr>\n",
       "    <tr>\n",
       "      <th>1</th>\n",
       "      <td>a</td>\n",
       "      <td>2</td>\n",
       "    </tr>\n",
       "    <tr>\n",
       "      <th>2</th>\n",
       "      <td>a</td>\n",
       "      <td>3</td>\n",
       "    </tr>\n",
       "    <tr>\n",
       "      <th>3</th>\n",
       "      <td>b</td>\n",
       "      <td>4</td>\n",
       "    </tr>\n",
       "    <tr>\n",
       "      <th>4</th>\n",
       "      <td>b</td>\n",
       "      <td>5</td>\n",
       "    </tr>\n",
       "    <tr>\n",
       "      <th>5</th>\n",
       "      <td>b</td>\n",
       "      <td>6</td>\n",
       "    </tr>\n",
       "    <tr>\n",
       "      <th>6</th>\n",
       "      <td>c</td>\n",
       "      <td>7</td>\n",
       "    </tr>\n",
       "    <tr>\n",
       "      <th>7</th>\n",
       "      <td>c</td>\n",
       "      <td>8</td>\n",
       "    </tr>\n",
       "    <tr>\n",
       "      <th>8</th>\n",
       "      <td>c</td>\n",
       "      <td>9</td>\n",
       "    </tr>\n",
       "  </tbody>\n",
       "</table>\n",
       "</div>"
      ],
      "text/plain": [
       "  variable  value\n",
       "0        a      1\n",
       "1        a      2\n",
       "2        a      3\n",
       "3        b      4\n",
       "4        b      5\n",
       "5        b      6\n",
       "6        c      7\n",
       "7        c      8\n",
       "8        c      9"
      ]
     },
     "execution_count": 7,
     "metadata": {},
     "output_type": "execute_result"
    }
   ],
   "source": [
    "pd.melt(df)"
   ]
  },
  {
   "cell_type": "code",
   "execution_count": 8,
   "id": "c3f4cdfb",
   "metadata": {},
   "outputs": [
    {
     "data": {
      "text/html": [
       "<div>\n",
       "<style scoped>\n",
       "    .dataframe tbody tr th:only-of-type {\n",
       "        vertical-align: middle;\n",
       "    }\n",
       "\n",
       "    .dataframe tbody tr th {\n",
       "        vertical-align: top;\n",
       "    }\n",
       "\n",
       "    .dataframe thead th {\n",
       "        text-align: right;\n",
       "    }\n",
       "</style>\n",
       "<table border=\"1\" class=\"dataframe\">\n",
       "  <thead>\n",
       "    <tr style=\"text-align: right;\">\n",
       "      <th></th>\n",
       "      <th>a</th>\n",
       "      <th>b</th>\n",
       "      <th>c</th>\n",
       "    </tr>\n",
       "  </thead>\n",
       "  <tbody>\n",
       "    <tr>\n",
       "      <th>1</th>\n",
       "      <td>1</td>\n",
       "      <td>4</td>\n",
       "      <td>7</td>\n",
       "    </tr>\n",
       "    <tr>\n",
       "      <th>2</th>\n",
       "      <td>2</td>\n",
       "      <td>5</td>\n",
       "      <td>8</td>\n",
       "    </tr>\n",
       "    <tr>\n",
       "      <th>3</th>\n",
       "      <td>3</td>\n",
       "      <td>6</td>\n",
       "      <td>9</td>\n",
       "    </tr>\n",
       "  </tbody>\n",
       "</table>\n",
       "</div>"
      ],
      "text/plain": [
       "   a  b  c\n",
       "1  1  4  7\n",
       "2  2  5  8\n",
       "3  3  6  9"
      ]
     },
     "execution_count": 8,
     "metadata": {},
     "output_type": "execute_result"
    }
   ],
   "source": [
    "df"
   ]
  },
  {
   "cell_type": "code",
   "execution_count": null,
   "id": "7317ce1f",
   "metadata": {},
   "outputs": [],
   "source": []
  },
  {
   "cell_type": "code",
   "execution_count": null,
   "id": "fbc16ec5",
   "metadata": {},
   "outputs": [],
   "source": []
  },
  {
   "cell_type": "code",
   "execution_count": 1,
   "id": "02960c8c",
   "metadata": {},
   "outputs": [],
   "source": [
    "import numpy as np\n",
    "import statsmodels.api as sm"
   ]
  },
  {
   "cell_type": "code",
   "execution_count": 2,
   "id": "1f8396f1",
   "metadata": {},
   "outputs": [],
   "source": [
    "spector_data = sm.datasets.spector.load()\n"
   ]
  },
  {
   "cell_type": "code",
   "execution_count": 5,
   "id": "aaa9c488",
   "metadata": {},
   "outputs": [
    {
     "data": {
      "text/plain": [
       "<class 'statsmodels.datasets.utils.Dataset'>"
      ]
     },
     "execution_count": 5,
     "metadata": {},
     "output_type": "execute_result"
    }
   ],
   "source": [
    "spector_data"
   ]
  },
  {
   "cell_type": "code",
   "execution_count": 6,
   "id": "8a358e0e",
   "metadata": {},
   "outputs": [],
   "source": [
    "spector_data.exog = sm.add_constant(spector_data.exog, prepend=False)\n"
   ]
  },
  {
   "cell_type": "code",
   "execution_count": 7,
   "id": "8794e19f",
   "metadata": {},
   "outputs": [
    {
     "data": {
      "text/plain": [
       "array([[ 2.66, 20.  ,  0.  ,  1.  ],\n",
       "       [ 2.89, 22.  ,  0.  ,  1.  ],\n",
       "       [ 3.28, 24.  ,  0.  ,  1.  ],\n",
       "       [ 2.92, 12.  ,  0.  ,  1.  ],\n",
       "       [ 4.  , 21.  ,  0.  ,  1.  ],\n",
       "       [ 2.86, 17.  ,  0.  ,  1.  ],\n",
       "       [ 2.76, 17.  ,  0.  ,  1.  ],\n",
       "       [ 2.87, 21.  ,  0.  ,  1.  ],\n",
       "       [ 3.03, 25.  ,  0.  ,  1.  ],\n",
       "       [ 3.92, 29.  ,  0.  ,  1.  ],\n",
       "       [ 2.63, 20.  ,  0.  ,  1.  ],\n",
       "       [ 3.32, 23.  ,  0.  ,  1.  ],\n",
       "       [ 3.57, 23.  ,  0.  ,  1.  ],\n",
       "       [ 3.26, 25.  ,  0.  ,  1.  ],\n",
       "       [ 3.53, 26.  ,  0.  ,  1.  ],\n",
       "       [ 2.74, 19.  ,  0.  ,  1.  ],\n",
       "       [ 2.75, 25.  ,  0.  ,  1.  ],\n",
       "       [ 2.83, 19.  ,  0.  ,  1.  ],\n",
       "       [ 3.12, 23.  ,  1.  ,  1.  ],\n",
       "       [ 3.16, 25.  ,  1.  ,  1.  ],\n",
       "       [ 2.06, 22.  ,  1.  ,  1.  ],\n",
       "       [ 3.62, 28.  ,  1.  ,  1.  ],\n",
       "       [ 2.89, 14.  ,  1.  ,  1.  ],\n",
       "       [ 3.51, 26.  ,  1.  ,  1.  ],\n",
       "       [ 3.54, 24.  ,  1.  ,  1.  ],\n",
       "       [ 2.83, 27.  ,  1.  ,  1.  ],\n",
       "       [ 3.39, 17.  ,  1.  ,  1.  ],\n",
       "       [ 2.67, 24.  ,  1.  ,  1.  ],\n",
       "       [ 3.65, 21.  ,  1.  ,  1.  ],\n",
       "       [ 4.  , 23.  ,  1.  ,  1.  ],\n",
       "       [ 3.1 , 21.  ,  1.  ,  1.  ],\n",
       "       [ 2.39, 19.  ,  1.  ,  1.  ]])"
      ]
     },
     "execution_count": 7,
     "metadata": {},
     "output_type": "execute_result"
    }
   ],
   "source": [
    "spector_data.exog"
   ]
  },
  {
   "cell_type": "code",
   "execution_count": 9,
   "id": "598463a2",
   "metadata": {},
   "outputs": [],
   "source": [
    "mod = sm.OLS(spector_data.endog, spector_data.exog)\n",
    "res = mod.fit()"
   ]
  },
  {
   "cell_type": "code",
   "execution_count": 10,
   "id": "efcaec56",
   "metadata": {},
   "outputs": [
    {
     "name": "stdout",
     "output_type": "stream",
     "text": [
      "                            OLS Regression Results                            \n",
      "==============================================================================\n",
      "Dep. Variable:                      y   R-squared:                       0.416\n",
      "Model:                            OLS   Adj. R-squared:                  0.353\n",
      "Method:                 Least Squares   F-statistic:                     6.646\n",
      "Date:                Sun, 26 Sep 2021   Prob (F-statistic):            0.00157\n",
      "Time:                        14:17:52   Log-Likelihood:                -12.978\n",
      "No. Observations:                  32   AIC:                             33.96\n",
      "Df Residuals:                      28   BIC:                             39.82\n",
      "Df Model:                           3                                         \n",
      "Covariance Type:            nonrobust                                         \n",
      "==============================================================================\n",
      "                 coef    std err          t      P>|t|      [0.025      0.975]\n",
      "------------------------------------------------------------------------------\n",
      "x1             0.4639      0.162      2.864      0.008       0.132       0.796\n",
      "x2             0.0105      0.019      0.539      0.594      -0.029       0.050\n",
      "x3             0.3786      0.139      2.720      0.011       0.093       0.664\n",
      "const         -1.4980      0.524     -2.859      0.008      -2.571      -0.425\n",
      "==============================================================================\n",
      "Omnibus:                        0.176   Durbin-Watson:                   2.346\n",
      "Prob(Omnibus):                  0.916   Jarque-Bera (JB):                0.167\n",
      "Skew:                           0.141   Prob(JB):                        0.920\n",
      "Kurtosis:                       2.786   Cond. No.                         176.\n",
      "==============================================================================\n",
      "\n",
      "Notes:\n",
      "[1] Standard Errors assume that the covariance matrix of the errors is correctly specified.\n"
     ]
    }
   ],
   "source": [
    "print(res.summary())"
   ]
  },
  {
   "cell_type": "code",
   "execution_count": null,
   "id": "f20b5243",
   "metadata": {},
   "outputs": [],
   "source": []
  }
 ],
 "metadata": {
  "kernelspec": {
   "display_name": "Python 3",
   "language": "python",
   "name": "python3"
  },
  "language_info": {
   "codemirror_mode": {
    "name": "ipython",
    "version": 3
   },
   "file_extension": ".py",
   "mimetype": "text/x-python",
   "name": "python",
   "nbconvert_exporter": "python",
   "pygments_lexer": "ipython3",
   "version": "3.8.8"
  }
 },
 "nbformat": 4,
 "nbformat_minor": 5
}
