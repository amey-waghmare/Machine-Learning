{
 "cells": [
  {
   "cell_type": "markdown",
   "metadata": {},
   "source": [
    "## Combined Cycle Power Plant \n",
    "A combined cycle power plant (CCPP) is composed of gas turbines (GT), steam turbines (ST) and heat recovery steam generators.\n",
    "The Prediction task is to determine the Net Energy Generated (MW)"
   ]
  },
  {
   "cell_type": "markdown",
   "metadata": {},
   "source": [
    "Linear Regression is implemented"
   ]
  },
  {
   "cell_type": "code",
   "execution_count": 35,
   "metadata": {},
   "outputs": [],
   "source": [
    "import numpy as np\n",
    "import matplotlib.pyplot as plt\n",
    "import math\n",
    "import pandas as pd\n",
    "from tqdm import tqdm"
   ]
  },
  {
   "cell_type": "code",
   "execution_count": 36,
   "metadata": {},
   "outputs": [],
   "source": [
    "data_frame = pd.read_excel(\"Folds5x2_pp.xlsx\", sheet_name = 0)\n",
    "dataset = np.array(data_frame)\n",
    "np.random.shuffle(dataset)\n",
    "\n",
    "split_index = int(0.7 * dataset.shape[0])\n",
    "\n",
    "validation_index = split_index + int((dataset.shape[0] - split_index)/2)\n",
    "\n",
    "train = dataset[:split_index,:]\n",
    "N,p = train.shape\n",
    "p = p\n",
    "validation = dataset[split_index:validation_index,:]\n",
    "Nv,pv = validation.shape\n",
    "pv = pv\n",
    "test = dataset[validation_index:,:]\n",
    "Nt,pt = test.shape\n",
    "pt = pt\n",
    "\n",
    "X = train[:,:4]\n",
    "X = np.hstack((np.ones((N,1)),X))\n",
    "Y = train[:,-1].reshape(N,1)\n",
    "\n",
    "Xv = validation[:,:4]\n",
    "Xv = np.hstack((np.ones((Nv,1)),Xv))\n",
    "Yv = validation[:,-1].reshape(Nv,1)\n",
    "\n",
    "Xt = test[:,:4]\n",
    "Xt = np.hstack((np.ones((Nt,1)),Xt))\n",
    "Yt = test[:,-1].reshape(Nt,1)"
   ]
  },
  {
   "cell_type": "code",
   "execution_count": 37,
   "metadata": {},
   "outputs": [],
   "source": [
    "quartileFeature_1 = np.quantile(X[:,1], [0.25, 0.5, 0.75])\n",
    "quartileCutoffs_1 = np.array([(quartileFeature_1[0] - (1.5*(quartileFeature_1[2] - quartileFeature_1[0]))),(quartileFeature_1[2] + (1.5*(quartileFeature_1[2] - quartileFeature_1[0])))])\n",
    "for i in range(N):\n",
    "    if X[i,1] >= (quartileCutoffs_1[1]):\n",
    "        X[i,1] = quartileCutoffs_1[1]\n",
    "    if X[i,1] <= quartileCutoffs_1[0]:\n",
    "        X[i,1] = quartileCutoffs_1[0]\n",
    "\n",
    "quartileFeature_2 = np.quantile(X[:,2], [0.25, 0.5, 0.75])\n",
    "quartileCutoffs_2 = np.array([(quartileFeature_2[0] - (1.5*(quartileFeature_2[2] - quartileFeature_2[0]))),(quartileFeature_2[2] + (1.5*(quartileFeature_2[2] - quartileFeature_2[0])))])\n",
    "for i in range(N):\n",
    "    if X[i,2] >= (quartileCutoffs_2[1]):\n",
    "        X[i,2] = quartileCutoffs_2[1]\n",
    "    if X[i,2] <= quartileCutoffs_2[0]:\n",
    "        X[i,2] = quartileCutoffs_2[0]\n",
    "        \n",
    "quartileFeature_3 = np.quantile(X[:,3], [0.25, 0.5, 0.75])\n",
    "quartileCutoffs_3 = np.array([(quartileFeature_3[0] - (1.5*(quartileFeature_3[2] - quartileFeature_3[0]))),(quartileFeature_3[2] + (1.5*(quartileFeature_3[2] - quartileFeature_3[0])))])\n",
    "for i in range(N):\n",
    "    if X[i,3] >= (quartileCutoffs_3[1]):\n",
    "        X[i,3] = quartileCutoffs_3[1]\n",
    "    if X[i,3] <= quartileCutoffs_3[0]:\n",
    "        X[i,3] = quartileCutoffs_3[0]\n",
    "        \n",
    "quartileFeature_4 = np.quantile(X[:,4], [0.25, 0.5, 0.75])\n",
    "quartileCutoffs_4 = np.array([(quartileFeature_4[0] - (1.5*(quartileFeature_4[2] - quartileFeature_4[0]))),(quartileFeature_4[2] + (1.5*(quartileFeature_4[2] - quartileFeature_4[0])))])\n",
    "for i in range(N):\n",
    "    if X[i,4] >= (quartileCutoffs_4[1]):\n",
    "        X[i,4] = quartileCutoffs_4[1]\n",
    "    if X[i,4] <= quartileCutoffs_4[0]:\n",
    "        X[i,4] = quartileCutoffs_4[0]"
   ]
  },
  {
   "cell_type": "code",
   "execution_count": 38,
   "metadata": {},
   "outputs": [],
   "source": [
    "# Standardization of All data\n",
    "for i in range(1,p):\n",
    "    mean_vals = np.mean(X[:,i])\n",
    "    std_vals = np.std(X[:,i])\n",
    "    X[:,i] = (X[:,i] - np.mean(X[:,i]))/np.std(X[:,i])\n",
    "    Xv[:,i] = (Xv[:,i] - mean_vals)/std_vals\n",
    "    Xt[:,i] = (Xt[:,i] - mean_vals)/std_vals"
   ]
  },
  {
   "cell_type": "code",
   "execution_count": 39,
   "metadata": {},
   "outputs": [
    {
     "name": "stderr",
     "output_type": "stream",
     "text": [
      "100%|██████████| 19000/19000 [00:01<00:00, 10389.53it/s]\n"
     ]
    },
    {
     "name": "stdout",
     "output_type": "stream",
     "text": [
      "Root Mean Square Costs\n",
      " Training Set Cost: 3.2090322398773634 \n",
      "Validation Set Cost: 3.2792591430929394\n"
     ]
    },
    {
     "data": {
      "image/png": "[encoded data removed]",
      "text/plain": [
       "<Figure size 432x288 with 1 Axes>"
      ]
     },
     "metadata": {
      "needs_background": "light"
     },
     "output_type": "display_data"
    }
   ],
   "source": [
    "# Gradient Descent\n",
    "iterations = 19000\n",
    "alpha = 0.001\n",
    "\n",
    "theta = np.random.randn(p,1)\n",
    "\n",
    "\n",
    "y_pred = np.dot(X,theta)\n",
    "costs = np.zeros((iterations,1))\n",
    "costs_val = np.zeros((iterations,1))\n",
    "J = 20\n",
    "Jv = 20\n",
    "f = 0\n",
    "for i in tqdm(range(iterations)):\n",
    "    y_pred = np.dot(X,theta)\n",
    "    grad = np.dot(((y_pred - Y).T),X).T\n",
    "    \n",
    "    # Update Weights\n",
    "    theta = theta - ((alpha/N) * grad)\n",
    "    \n",
    "    # Training Set Cost\n",
    "    J = (1/(2*N)) * np.sum(np.sum(np.dot( (y_pred - Y).T,(y_pred - Y) ),axis = 0 ))  \n",
    "    costs[i][0] = J\n",
    "    \n",
    "    # Validation Set Cost\n",
    "    y_pred_val = np.dot(Xv,theta)\n",
    "    Jv = (1/(2*Nv)) * np.sum(np.sum(np.dot( (y_pred_val - Yv).T,(y_pred_val - Yv) ),axis = 0 ))\n",
    "    costs_val[i][0] = Jv\n",
    "    \n",
    "y_pred = np.dot(X,theta)\n",
    "print(\"Root Mean Square Costs\\n\",\"Training Set Cost:\",np.sqrt(J),\"\\nValidation Set Cost:\",np.sqrt(Jv))\n",
    "plt.plot(costs, label = \"Training Set Cost\")\n",
    "plt.plot(costs_val, label = \"Validation Set Cost\")\n",
    "plt.legend()\n",
    "plt.grid()\n",
    "plt.show()"
   ]
  },
  {
   "cell_type": "markdown",
   "metadata": {},
   "source": [
    "Costs in the last 1000 epochs"
   ]
  },
  {
   "cell_type": "code",
   "execution_count": 40,
   "metadata": {},
   "outputs": [
    {
     "data": {
      "image/png": "[encoded data removed]",
      "text/plain": [
       "<Figure size 432x288 with 1 Axes>"
      ]
     },
     "metadata": {
      "needs_background": "light"
     },
     "output_type": "display_data"
    }
   ],
   "source": [
    "plt.plot(costs[-1000:], label = \"Training Set Cost\")\n",
    "plt.plot(costs_val[-1000:], label = \"Validation Set Cost\")\n",
    "plt.legend()\n",
    "plt.grid()\n",
    "plt.show()"
   ]
  },
  {
   "cell_type": "markdown",
   "metadata": {},
   "source": [
    "### Prediction on Test Data"
   ]
  },
  {
   "cell_type": "code",
   "execution_count": 41,
   "metadata": {},
   "outputs": [
    {
     "name": "stdout",
     "output_type": "stream",
     "text": [
      "Root Mean Square Test Set Cost: 3.3319210879348873\n"
     ]
    }
   ],
   "source": [
    "y_pred_test = np.dot(Xt,theta)\n",
    "J_test = (1/(2*Nt)) * np.sum(np.sum(np.dot( (y_pred_test - Yt).T,(y_pred_test - Yt) ),axis = 0 ))\n",
    "print(\"Root Mean Square Test Set Cost:\",np.sqrt(J_test))"
   ]
  },
  {
   "cell_type": "code",
   "execution_count": 42,
   "metadata": {},
   "outputs": [
    {
     "name": "stdout",
     "output_type": "stream",
     "text": [
      "Model is having coefficients \t [[454.28049471]\n",
      " [-13.66047088]\n",
      " [ -3.80705153]\n",
      " [  0.48458079]\n",
      " [ -1.94603343]]\n"
     ]
    }
   ],
   "source": [
    "print(\"Model is having coefficients \\t\", theta)"
   ]
  },
  {
   "cell_type": "markdown",
   "metadata": {},
   "source": [
    "## Using Statsmodel"
   ]
  },
  {
   "cell_type": "code",
   "execution_count": 43,
   "metadata": {},
   "outputs": [],
   "source": [
    "import statsmodels.api as sm"
   ]
  },
  {
   "cell_type": "code",
   "execution_count": 44,
   "metadata": {},
   "outputs": [
    {
     "name": "stdout",
     "output_type": "stream",
     "text": [
      "                            OLS Regression Results                            \n",
      "==============================================================================\n",
      "Dep. Variable:                      y   R-squared:                       0.930\n",
      "Model:                            OLS   Adj. R-squared:                  0.930\n",
      "Method:                 Least Squares   F-statistic:                 2.220e+04\n",
      "Date:                Sun, 26 Sep 2021   Prob (F-statistic):               0.00\n",
      "Time:                        16:39:47   Log-Likelihood:                -19594.\n",
      "No. Observations:                6697   AIC:                         3.920e+04\n",
      "Df Residuals:                    6692   BIC:                         3.923e+04\n",
      "Df Model:                           4                                         \n",
      "Covariance Type:            nonrobust                                         \n",
      "==============================================================================\n",
      "                 coef    std err          t      P>|t|      [0.025      0.975]\n",
      "------------------------------------------------------------------------------\n",
      "const        454.2805      0.055   8235.207      0.000     454.172     454.389\n",
      "x1           -14.8172      0.135   -109.915      0.000     -15.081     -14.553\n",
      "x2            -2.9515      0.109    -26.968      0.000      -3.166      -2.737\n",
      "x3             0.2669      0.066      4.022      0.000       0.137       0.397\n",
      "x4            -2.3227      0.072    -32.214      0.000      -2.464      -2.181\n",
      "==============================================================================\n",
      "Omnibus:                      711.835   Durbin-Watson:                   2.030\n",
      "Prob(Omnibus):                  0.000   Jarque-Bera (JB):             3682.223\n",
      "Skew:                          -0.385   Prob(JB):                         0.00\n",
      "Kurtosis:                       6.550   Cond. No.                         4.87\n",
      "==============================================================================\n",
      "\n",
      "Notes:\n",
      "[1] Standard Errors assume that the covariance matrix of the errors is correctly specified.\n"
     ]
    }
   ],
   "source": [
    "model_sm = sm.OLS(Y, X)\n",
    "fitting = model_sm.fit()\n",
    "\n",
    "print(fitting.summary())"
   ]
  },
  {
   "cell_type": "code",
   "execution_count": null,
   "metadata": {},
   "outputs": [],
   "source": []
  }
 ],
 "metadata": {
  "kernelspec": {
   "display_name": "Python 3",
   "language": "python",
   "name": "python3"
  },
  "language_info": {
   "codemirror_mode": {
    "name": "ipython",
    "version": 3
   },
   "file_extension": ".py",
   "mimetype": "text/x-python",
   "name": "python",
   "nbconvert_exporter": "python",
   "pygments_lexer": "ipython3",
   "version": "3.8.8"
  }
 },
 "nbformat": 4,
 "nbformat_minor": 4
}
